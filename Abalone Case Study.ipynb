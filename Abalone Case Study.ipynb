{
 "cells": [
  {
   "cell_type": "markdown",
   "metadata": {},
   "source": [
    "# Abalone Case Study"
   ]
  },
  {
   "cell_type": "markdown",
   "metadata": {},
   "source": [
    "Problem Statement:"
   ]
  },
  {
   "cell_type": "markdown",
   "metadata": {},
   "source": [
    "The age of abalone is determined by cutting the shell through the cone, staining it, and counting the number of rings through a microscope -- a boring and time-consuming task. Other measurements, which are easier to obtain, are used to predict the age. Further information, such as weather patterns and location (hence food availability) may be required to solve the problem."
   ]
  },
  {
   "cell_type": "markdown",
   "metadata": {},
   "source": [
    "Attribute Information"
   ]
  },
  {
   "cell_type": "markdown",
   "metadata": {},
   "source": [
    "Given is the attribute name, attribute type, the measurement unit and a brief description. The number of rings is the value to predict. "
   ]
  },
  {
   "cell_type": "raw",
   "metadata": {},
   "source": [
    "Name / Data Type / Measurement Unit / Description\n",
    "-----------------------------\n",
    "Sex / nominal / -- / M, F, and I (infant)\n",
    "Length / continuous / mm / Longest shell measurement\n",
    "Diameter / continuous / mm / perpendicular to length\n",
    "Height / continuous / mm / with meat in shell\n",
    "Whole weight / continuous / grams / whole abalone\n",
    "Shucked weight / continuous / grams / weight of meat\n",
    "Viscera weight / continuous / grams / gut weight (after bleeding)\n",
    "Shell weight / continuous / grams / after being dried\n",
    "Rings / integer / -- / +1.5 gives the age in years. \n",
    "\n"
   ]
  },
  {
   "cell_type": "markdown",
   "metadata": {},
   "source": [
    "You have to predict the rings of each abalone which will lead us to the age of that abalone. "
   ]
  },
  {
   "cell_type": "code",
   "execution_count": 1,
   "metadata": {},
   "outputs": [],
   "source": [
    "import pandas as pd\n",
    "import numpy as np"
   ]
  },
  {
   "cell_type": "code",
   "execution_count": 2,
   "metadata": {},
   "outputs": [
    {
     "data": {
      "text/html": [
       "<div>\n",
       "<style scoped>\n",
       "    .dataframe tbody tr th:only-of-type {\n",
       "        vertical-align: middle;\n",
       "    }\n",
       "\n",
       "    .dataframe tbody tr th {\n",
       "        vertical-align: top;\n",
       "    }\n",
       "\n",
       "    .dataframe thead th {\n",
       "        text-align: right;\n",
       "    }\n",
       "</style>\n",
       "<table border=\"1\" class=\"dataframe\">\n",
       "  <thead>\n",
       "    <tr style=\"text-align: right;\">\n",
       "      <th></th>\n",
       "      <th>Sex</th>\n",
       "      <th>Length</th>\n",
       "      <th>Diameter</th>\n",
       "      <th>Height</th>\n",
       "      <th>Whole weight</th>\n",
       "      <th>Shucked weight</th>\n",
       "      <th>Viscera weight</th>\n",
       "      <th>Shell weight</th>\n",
       "      <th>Rings</th>\n",
       "    </tr>\n",
       "  </thead>\n",
       "  <tbody>\n",
       "    <tr>\n",
       "      <th>0</th>\n",
       "      <td>M</td>\n",
       "      <td>0.455</td>\n",
       "      <td>0.365</td>\n",
       "      <td>0.095</td>\n",
       "      <td>0.5140</td>\n",
       "      <td>0.2245</td>\n",
       "      <td>0.1010</td>\n",
       "      <td>0.1500</td>\n",
       "      <td>15</td>\n",
       "    </tr>\n",
       "    <tr>\n",
       "      <th>1</th>\n",
       "      <td>M</td>\n",
       "      <td>0.350</td>\n",
       "      <td>0.265</td>\n",
       "      <td>0.090</td>\n",
       "      <td>0.2255</td>\n",
       "      <td>0.0995</td>\n",
       "      <td>0.0485</td>\n",
       "      <td>0.0700</td>\n",
       "      <td>7</td>\n",
       "    </tr>\n",
       "    <tr>\n",
       "      <th>2</th>\n",
       "      <td>F</td>\n",
       "      <td>0.530</td>\n",
       "      <td>0.420</td>\n",
       "      <td>0.135</td>\n",
       "      <td>0.6770</td>\n",
       "      <td>0.2565</td>\n",
       "      <td>0.1415</td>\n",
       "      <td>0.2100</td>\n",
       "      <td>9</td>\n",
       "    </tr>\n",
       "    <tr>\n",
       "      <th>3</th>\n",
       "      <td>M</td>\n",
       "      <td>0.440</td>\n",
       "      <td>0.365</td>\n",
       "      <td>0.125</td>\n",
       "      <td>0.5160</td>\n",
       "      <td>0.2155</td>\n",
       "      <td>0.1140</td>\n",
       "      <td>0.1550</td>\n",
       "      <td>10</td>\n",
       "    </tr>\n",
       "    <tr>\n",
       "      <th>4</th>\n",
       "      <td>I</td>\n",
       "      <td>0.330</td>\n",
       "      <td>0.255</td>\n",
       "      <td>0.080</td>\n",
       "      <td>0.2050</td>\n",
       "      <td>0.0895</td>\n",
       "      <td>0.0395</td>\n",
       "      <td>0.0550</td>\n",
       "      <td>7</td>\n",
       "    </tr>\n",
       "    <tr>\n",
       "      <th>...</th>\n",
       "      <td>...</td>\n",
       "      <td>...</td>\n",
       "      <td>...</td>\n",
       "      <td>...</td>\n",
       "      <td>...</td>\n",
       "      <td>...</td>\n",
       "      <td>...</td>\n",
       "      <td>...</td>\n",
       "      <td>...</td>\n",
       "    </tr>\n",
       "    <tr>\n",
       "      <th>4172</th>\n",
       "      <td>F</td>\n",
       "      <td>0.565</td>\n",
       "      <td>0.450</td>\n",
       "      <td>0.165</td>\n",
       "      <td>0.8870</td>\n",
       "      <td>0.3700</td>\n",
       "      <td>0.2390</td>\n",
       "      <td>0.2490</td>\n",
       "      <td>11</td>\n",
       "    </tr>\n",
       "    <tr>\n",
       "      <th>4173</th>\n",
       "      <td>M</td>\n",
       "      <td>0.590</td>\n",
       "      <td>0.440</td>\n",
       "      <td>0.135</td>\n",
       "      <td>0.9660</td>\n",
       "      <td>0.4390</td>\n",
       "      <td>0.2145</td>\n",
       "      <td>0.2605</td>\n",
       "      <td>10</td>\n",
       "    </tr>\n",
       "    <tr>\n",
       "      <th>4174</th>\n",
       "      <td>M</td>\n",
       "      <td>0.600</td>\n",
       "      <td>0.475</td>\n",
       "      <td>0.205</td>\n",
       "      <td>1.1760</td>\n",
       "      <td>0.5255</td>\n",
       "      <td>0.2875</td>\n",
       "      <td>0.3080</td>\n",
       "      <td>9</td>\n",
       "    </tr>\n",
       "    <tr>\n",
       "      <th>4175</th>\n",
       "      <td>F</td>\n",
       "      <td>0.625</td>\n",
       "      <td>0.485</td>\n",
       "      <td>0.150</td>\n",
       "      <td>1.0945</td>\n",
       "      <td>0.5310</td>\n",
       "      <td>0.2610</td>\n",
       "      <td>0.2960</td>\n",
       "      <td>10</td>\n",
       "    </tr>\n",
       "    <tr>\n",
       "      <th>4176</th>\n",
       "      <td>M</td>\n",
       "      <td>0.710</td>\n",
       "      <td>0.555</td>\n",
       "      <td>0.195</td>\n",
       "      <td>1.9485</td>\n",
       "      <td>0.9455</td>\n",
       "      <td>0.3765</td>\n",
       "      <td>0.4950</td>\n",
       "      <td>12</td>\n",
       "    </tr>\n",
       "  </tbody>\n",
       "</table>\n",
       "<p>4177 rows × 9 columns</p>\n",
       "</div>"
      ],
      "text/plain": [
       "     Sex  Length  Diameter  Height  Whole weight  Shucked weight  \\\n",
       "0      M   0.455     0.365   0.095        0.5140          0.2245   \n",
       "1      M   0.350     0.265   0.090        0.2255          0.0995   \n",
       "2      F   0.530     0.420   0.135        0.6770          0.2565   \n",
       "3      M   0.440     0.365   0.125        0.5160          0.2155   \n",
       "4      I   0.330     0.255   0.080        0.2050          0.0895   \n",
       "...   ..     ...       ...     ...           ...             ...   \n",
       "4172   F   0.565     0.450   0.165        0.8870          0.3700   \n",
       "4173   M   0.590     0.440   0.135        0.9660          0.4390   \n",
       "4174   M   0.600     0.475   0.205        1.1760          0.5255   \n",
       "4175   F   0.625     0.485   0.150        1.0945          0.5310   \n",
       "4176   M   0.710     0.555   0.195        1.9485          0.9455   \n",
       "\n",
       "      Viscera weight  Shell weight  Rings  \n",
       "0             0.1010        0.1500     15  \n",
       "1             0.0485        0.0700      7  \n",
       "2             0.1415        0.2100      9  \n",
       "3             0.1140        0.1550     10  \n",
       "4             0.0395        0.0550      7  \n",
       "...              ...           ...    ...  \n",
       "4172          0.2390        0.2490     11  \n",
       "4173          0.2145        0.2605     10  \n",
       "4174          0.2875        0.3080      9  \n",
       "4175          0.2610        0.2960     10  \n",
       "4176          0.3765        0.4950     12  \n",
       "\n",
       "[4177 rows x 9 columns]"
      ]
     },
     "execution_count": 2,
     "metadata": {},
     "output_type": "execute_result"
    }
   ],
   "source": [
    "url='https://raw.githubusercontent.com/dsrscientist/dataset1/master/abalone.csv'\n",
    "df=pd.read_csv(url)\n",
    "df"
   ]
  },
  {
   "cell_type": "code",
   "execution_count": 3,
   "metadata": {},
   "outputs": [
    {
     "data": {
      "text/html": [
       "<div>\n",
       "<style scoped>\n",
       "    .dataframe tbody tr th:only-of-type {\n",
       "        vertical-align: middle;\n",
       "    }\n",
       "\n",
       "    .dataframe tbody tr th {\n",
       "        vertical-align: top;\n",
       "    }\n",
       "\n",
       "    .dataframe thead th {\n",
       "        text-align: right;\n",
       "    }\n",
       "</style>\n",
       "<table border=\"1\" class=\"dataframe\">\n",
       "  <thead>\n",
       "    <tr style=\"text-align: right;\">\n",
       "      <th></th>\n",
       "      <th>Sex</th>\n",
       "      <th>Length</th>\n",
       "      <th>Diameter</th>\n",
       "      <th>Height</th>\n",
       "      <th>Whole weight</th>\n",
       "      <th>Shucked weight</th>\n",
       "      <th>Viscera weight</th>\n",
       "      <th>Shell weight</th>\n",
       "      <th>Rings</th>\n",
       "    </tr>\n",
       "  </thead>\n",
       "  <tbody>\n",
       "    <tr>\n",
       "      <th>0</th>\n",
       "      <td>M</td>\n",
       "      <td>0.455</td>\n",
       "      <td>0.365</td>\n",
       "      <td>0.095</td>\n",
       "      <td>0.5140</td>\n",
       "      <td>0.2245</td>\n",
       "      <td>0.1010</td>\n",
       "      <td>0.150</td>\n",
       "      <td>15</td>\n",
       "    </tr>\n",
       "    <tr>\n",
       "      <th>1</th>\n",
       "      <td>M</td>\n",
       "      <td>0.350</td>\n",
       "      <td>0.265</td>\n",
       "      <td>0.090</td>\n",
       "      <td>0.2255</td>\n",
       "      <td>0.0995</td>\n",
       "      <td>0.0485</td>\n",
       "      <td>0.070</td>\n",
       "      <td>7</td>\n",
       "    </tr>\n",
       "    <tr>\n",
       "      <th>2</th>\n",
       "      <td>F</td>\n",
       "      <td>0.530</td>\n",
       "      <td>0.420</td>\n",
       "      <td>0.135</td>\n",
       "      <td>0.6770</td>\n",
       "      <td>0.2565</td>\n",
       "      <td>0.1415</td>\n",
       "      <td>0.210</td>\n",
       "      <td>9</td>\n",
       "    </tr>\n",
       "    <tr>\n",
       "      <th>3</th>\n",
       "      <td>M</td>\n",
       "      <td>0.440</td>\n",
       "      <td>0.365</td>\n",
       "      <td>0.125</td>\n",
       "      <td>0.5160</td>\n",
       "      <td>0.2155</td>\n",
       "      <td>0.1140</td>\n",
       "      <td>0.155</td>\n",
       "      <td>10</td>\n",
       "    </tr>\n",
       "    <tr>\n",
       "      <th>4</th>\n",
       "      <td>I</td>\n",
       "      <td>0.330</td>\n",
       "      <td>0.255</td>\n",
       "      <td>0.080</td>\n",
       "      <td>0.2050</td>\n",
       "      <td>0.0895</td>\n",
       "      <td>0.0395</td>\n",
       "      <td>0.055</td>\n",
       "      <td>7</td>\n",
       "    </tr>\n",
       "  </tbody>\n",
       "</table>\n",
       "</div>"
      ],
      "text/plain": [
       "  Sex  Length  Diameter  Height  Whole weight  Shucked weight  Viscera weight  \\\n",
       "0   M   0.455     0.365   0.095        0.5140          0.2245          0.1010   \n",
       "1   M   0.350     0.265   0.090        0.2255          0.0995          0.0485   \n",
       "2   F   0.530     0.420   0.135        0.6770          0.2565          0.1415   \n",
       "3   M   0.440     0.365   0.125        0.5160          0.2155          0.1140   \n",
       "4   I   0.330     0.255   0.080        0.2050          0.0895          0.0395   \n",
       "\n",
       "   Shell weight  Rings  \n",
       "0         0.150     15  \n",
       "1         0.070      7  \n",
       "2         0.210      9  \n",
       "3         0.155     10  \n",
       "4         0.055      7  "
      ]
     },
     "execution_count": 3,
     "metadata": {},
     "output_type": "execute_result"
    }
   ],
   "source": [
    "df.head()"
   ]
  },
  {
   "cell_type": "code",
   "execution_count": 4,
   "metadata": {},
   "outputs": [
    {
     "data": {
      "text/plain": [
       "Sex               0\n",
       "Length            0\n",
       "Diameter          0\n",
       "Height            0\n",
       "Whole weight      0\n",
       "Shucked weight    0\n",
       "Viscera weight    0\n",
       "Shell weight      0\n",
       "Rings             0\n",
       "dtype: int64"
      ]
     },
     "execution_count": 4,
     "metadata": {},
     "output_type": "execute_result"
    }
   ],
   "source": [
    "df.isnull().sum()"
   ]
  },
  {
   "cell_type": "code",
   "execution_count": 5,
   "metadata": {},
   "outputs": [
    {
     "data": {
      "text/plain": [
       "Sex                object\n",
       "Length            float64\n",
       "Diameter          float64\n",
       "Height            float64\n",
       "Whole weight      float64\n",
       "Shucked weight    float64\n",
       "Viscera weight    float64\n",
       "Shell weight      float64\n",
       "Rings               int64\n",
       "dtype: object"
      ]
     },
     "execution_count": 5,
     "metadata": {},
     "output_type": "execute_result"
    }
   ],
   "source": [
    "df.dtypes"
   ]
  },
  {
   "cell_type": "markdown",
   "metadata": {},
   "source": [
    "# Encoding DataFrame"
   ]
  },
  {
   "cell_type": "code",
   "execution_count": 6,
   "metadata": {},
   "outputs": [],
   "source": [
    "from sklearn.preprocessing import LabelEncoder\n",
    "le=LabelEncoder()"
   ]
  },
  {
   "cell_type": "code",
   "execution_count": 8,
   "metadata": {},
   "outputs": [
    {
     "name": "stderr",
     "output_type": "stream",
     "text": [
      "/opt/anaconda3/lib/python3.8/site-packages/sklearn/utils/validation.py:63: DataConversionWarning: A column-vector y was passed when a 1d array was expected. Please change the shape of y to (n_samples, ), for example using ravel().\n",
      "  return f(*args, **kwargs)\n"
     ]
    },
    {
     "data": {
      "text/html": [
       "<div>\n",
       "<style scoped>\n",
       "    .dataframe tbody tr th:only-of-type {\n",
       "        vertical-align: middle;\n",
       "    }\n",
       "\n",
       "    .dataframe tbody tr th {\n",
       "        vertical-align: top;\n",
       "    }\n",
       "\n",
       "    .dataframe thead th {\n",
       "        text-align: right;\n",
       "    }\n",
       "</style>\n",
       "<table border=\"1\" class=\"dataframe\">\n",
       "  <thead>\n",
       "    <tr style=\"text-align: right;\">\n",
       "      <th></th>\n",
       "      <th>Sex</th>\n",
       "      <th>Length</th>\n",
       "      <th>Diameter</th>\n",
       "      <th>Height</th>\n",
       "      <th>Whole weight</th>\n",
       "      <th>Shucked weight</th>\n",
       "      <th>Viscera weight</th>\n",
       "      <th>Shell weight</th>\n",
       "      <th>Rings</th>\n",
       "    </tr>\n",
       "  </thead>\n",
       "  <tbody>\n",
       "    <tr>\n",
       "      <th>0</th>\n",
       "      <td>2</td>\n",
       "      <td>0.455</td>\n",
       "      <td>0.365</td>\n",
       "      <td>0.095</td>\n",
       "      <td>0.5140</td>\n",
       "      <td>0.2245</td>\n",
       "      <td>0.1010</td>\n",
       "      <td>0.1500</td>\n",
       "      <td>15</td>\n",
       "    </tr>\n",
       "    <tr>\n",
       "      <th>1</th>\n",
       "      <td>2</td>\n",
       "      <td>0.350</td>\n",
       "      <td>0.265</td>\n",
       "      <td>0.090</td>\n",
       "      <td>0.2255</td>\n",
       "      <td>0.0995</td>\n",
       "      <td>0.0485</td>\n",
       "      <td>0.0700</td>\n",
       "      <td>7</td>\n",
       "    </tr>\n",
       "    <tr>\n",
       "      <th>2</th>\n",
       "      <td>0</td>\n",
       "      <td>0.530</td>\n",
       "      <td>0.420</td>\n",
       "      <td>0.135</td>\n",
       "      <td>0.6770</td>\n",
       "      <td>0.2565</td>\n",
       "      <td>0.1415</td>\n",
       "      <td>0.2100</td>\n",
       "      <td>9</td>\n",
       "    </tr>\n",
       "    <tr>\n",
       "      <th>3</th>\n",
       "      <td>2</td>\n",
       "      <td>0.440</td>\n",
       "      <td>0.365</td>\n",
       "      <td>0.125</td>\n",
       "      <td>0.5160</td>\n",
       "      <td>0.2155</td>\n",
       "      <td>0.1140</td>\n",
       "      <td>0.1550</td>\n",
       "      <td>10</td>\n",
       "    </tr>\n",
       "    <tr>\n",
       "      <th>4</th>\n",
       "      <td>1</td>\n",
       "      <td>0.330</td>\n",
       "      <td>0.255</td>\n",
       "      <td>0.080</td>\n",
       "      <td>0.2050</td>\n",
       "      <td>0.0895</td>\n",
       "      <td>0.0395</td>\n",
       "      <td>0.0550</td>\n",
       "      <td>7</td>\n",
       "    </tr>\n",
       "    <tr>\n",
       "      <th>...</th>\n",
       "      <td>...</td>\n",
       "      <td>...</td>\n",
       "      <td>...</td>\n",
       "      <td>...</td>\n",
       "      <td>...</td>\n",
       "      <td>...</td>\n",
       "      <td>...</td>\n",
       "      <td>...</td>\n",
       "      <td>...</td>\n",
       "    </tr>\n",
       "    <tr>\n",
       "      <th>4172</th>\n",
       "      <td>0</td>\n",
       "      <td>0.565</td>\n",
       "      <td>0.450</td>\n",
       "      <td>0.165</td>\n",
       "      <td>0.8870</td>\n",
       "      <td>0.3700</td>\n",
       "      <td>0.2390</td>\n",
       "      <td>0.2490</td>\n",
       "      <td>11</td>\n",
       "    </tr>\n",
       "    <tr>\n",
       "      <th>4173</th>\n",
       "      <td>2</td>\n",
       "      <td>0.590</td>\n",
       "      <td>0.440</td>\n",
       "      <td>0.135</td>\n",
       "      <td>0.9660</td>\n",
       "      <td>0.4390</td>\n",
       "      <td>0.2145</td>\n",
       "      <td>0.2605</td>\n",
       "      <td>10</td>\n",
       "    </tr>\n",
       "    <tr>\n",
       "      <th>4174</th>\n",
       "      <td>2</td>\n",
       "      <td>0.600</td>\n",
       "      <td>0.475</td>\n",
       "      <td>0.205</td>\n",
       "      <td>1.1760</td>\n",
       "      <td>0.5255</td>\n",
       "      <td>0.2875</td>\n",
       "      <td>0.3080</td>\n",
       "      <td>9</td>\n",
       "    </tr>\n",
       "    <tr>\n",
       "      <th>4175</th>\n",
       "      <td>0</td>\n",
       "      <td>0.625</td>\n",
       "      <td>0.485</td>\n",
       "      <td>0.150</td>\n",
       "      <td>1.0945</td>\n",
       "      <td>0.5310</td>\n",
       "      <td>0.2610</td>\n",
       "      <td>0.2960</td>\n",
       "      <td>10</td>\n",
       "    </tr>\n",
       "    <tr>\n",
       "      <th>4176</th>\n",
       "      <td>2</td>\n",
       "      <td>0.710</td>\n",
       "      <td>0.555</td>\n",
       "      <td>0.195</td>\n",
       "      <td>1.9485</td>\n",
       "      <td>0.9455</td>\n",
       "      <td>0.3765</td>\n",
       "      <td>0.4950</td>\n",
       "      <td>12</td>\n",
       "    </tr>\n",
       "  </tbody>\n",
       "</table>\n",
       "<p>4177 rows × 9 columns</p>\n",
       "</div>"
      ],
      "text/plain": [
       "      Sex  Length  Diameter  Height  Whole weight  Shucked weight  \\\n",
       "0       2   0.455     0.365   0.095        0.5140          0.2245   \n",
       "1       2   0.350     0.265   0.090        0.2255          0.0995   \n",
       "2       0   0.530     0.420   0.135        0.6770          0.2565   \n",
       "3       2   0.440     0.365   0.125        0.5160          0.2155   \n",
       "4       1   0.330     0.255   0.080        0.2050          0.0895   \n",
       "...   ...     ...       ...     ...           ...             ...   \n",
       "4172    0   0.565     0.450   0.165        0.8870          0.3700   \n",
       "4173    2   0.590     0.440   0.135        0.9660          0.4390   \n",
       "4174    2   0.600     0.475   0.205        1.1760          0.5255   \n",
       "4175    0   0.625     0.485   0.150        1.0945          0.5310   \n",
       "4176    2   0.710     0.555   0.195        1.9485          0.9455   \n",
       "\n",
       "      Viscera weight  Shell weight  Rings  \n",
       "0             0.1010        0.1500     15  \n",
       "1             0.0485        0.0700      7  \n",
       "2             0.1415        0.2100      9  \n",
       "3             0.1140        0.1550     10  \n",
       "4             0.0395        0.0550      7  \n",
       "...              ...           ...    ...  \n",
       "4172          0.2390        0.2490     11  \n",
       "4173          0.2145        0.2605     10  \n",
       "4174          0.2875        0.3080      9  \n",
       "4175          0.2610        0.2960     10  \n",
       "4176          0.3765        0.4950     12  \n",
       "\n",
       "[4177 rows x 9 columns]"
      ]
     },
     "execution_count": 8,
     "metadata": {},
     "output_type": "execute_result"
    }
   ],
   "source": [
    "for i in df.columns:\n",
    "    if df[i].dtypes=='object':\n",
    "        df[i]=le.fit_transform(df[i].values.reshape(-1,1))\n",
    "df\n",
    "        \n"
   ]
  },
  {
   "cell_type": "code",
   "execution_count": 9,
   "metadata": {},
   "outputs": [
    {
     "data": {
      "text/plain": [
       "Sex               0\n",
       "Length            0\n",
       "Diameter          0\n",
       "Height            0\n",
       "Whole weight      0\n",
       "Shucked weight    0\n",
       "Viscera weight    0\n",
       "Shell weight      0\n",
       "Rings             0\n",
       "dtype: int64"
      ]
     },
     "execution_count": 9,
     "metadata": {},
     "output_type": "execute_result"
    }
   ],
   "source": [
    "df.isnull().sum()"
   ]
  },
  {
   "cell_type": "markdown",
   "metadata": {},
   "source": [
    "# Visualization of Dataset"
   ]
  },
  {
   "cell_type": "code",
   "execution_count": 10,
   "metadata": {},
   "outputs": [],
   "source": [
    "import seaborn as sns"
   ]
  },
  {
   "cell_type": "code",
   "execution_count": 11,
   "metadata": {},
   "outputs": [
    {
     "name": "stdout",
     "output_type": "stream",
     "text": [
      "2    1528\n",
      "1    1342\n",
      "0    1307\n",
      "Name: Sex, dtype: int64\n"
     ]
    },
    {
     "data": {
      "image/png": "[encoded data removed]",
      "text/plain": [
       "<Figure size 432x288 with 1 Axes>"
      ]
     },
     "metadata": {
      "needs_background": "light"
     },
     "output_type": "display_data"
    }
   ],
   "source": [
    "sns.countplot(x='Sex',data=df)\n",
    "print(df['Sex'].value_counts())"
   ]
  },
  {
   "cell_type": "code",
   "execution_count": 12,
   "metadata": {},
   "outputs": [
    {
     "data": {
      "text/plain": [
       "<AxesSubplot:xlabel='Length', ylabel='Count'>"
      ]
     },
     "execution_count": 12,
     "metadata": {},
     "output_type": "execute_result"
    },
    {
     "data": {
      "image/png": "[encoded data removed]",
      "text/plain": [
       "<Figure size 432x288 with 1 Axes>"
      ]
     },
     "metadata": {
      "needs_background": "light"
     },
     "output_type": "display_data"
    }
   ],
   "source": [
    "sns.histplot(x='Length',data=df,bins=20,kde=True)"
   ]
  },
  {
   "cell_type": "code",
   "execution_count": 13,
   "metadata": {},
   "outputs": [
    {
     "data": {
      "text/plain": [
       "<AxesSubplot:xlabel='Diameter', ylabel='Count'>"
      ]
     },
     "execution_count": 13,
     "metadata": {},
     "output_type": "execute_result"
    },
    {
     "data": {
      "image/png": "[encoded data removed]",
      "text/plain": [
       "<Figure size 432x288 with 1 Axes>"
      ]
     },
     "metadata": {
      "needs_background": "light"
     },
     "output_type": "display_data"
    }
   ],
   "source": [
    "sns.histplot(x='Diameter',data=df,bins=20,kde=True)"
   ]
  },
  {
   "cell_type": "code",
   "execution_count": 14,
   "metadata": {},
   "outputs": [
    {
     "data": {
      "text/plain": [
       "<AxesSubplot:xlabel='Height', ylabel='Count'>"
      ]
     },
     "execution_count": 14,
     "metadata": {},
     "output_type": "execute_result"
    },
    {
     "data": {
      "image/png": "[encoded data removed]",
      "text/plain": [
       "<Figure size 432x288 with 1 Axes>"
      ]
     },
     "metadata": {
      "needs_background": "light"
     },
     "output_type": "display_data"
    }
   ],
   "source": [
    "sns.histplot(x='Height',data=df,bins=20,kde=True)"
   ]
  },
  {
   "cell_type": "code",
   "execution_count": 16,
   "metadata": {},
   "outputs": [
    {
     "data": {
      "text/plain": [
       "<AxesSubplot:xlabel='Whole weight', ylabel='Count'>"
      ]
     },
     "execution_count": 16,
     "metadata": {},
     "output_type": "execute_result"
    },
    {
     "data": {
      "image/png": "[encoded data removed]",
      "text/plain": [
       "<Figure size 432x288 with 1 Axes>"
      ]
     },
     "metadata": {
      "needs_background": "light"
     },
     "output_type": "display_data"
    }
   ],
   "source": [
    "sns.histplot(x='Whole weight',data=df,bins=20,kde=True)"
   ]
  },
  {
   "cell_type": "code",
   "execution_count": 17,
   "metadata": {},
   "outputs": [
    {
     "data": {
      "text/plain": [
       "<AxesSubplot:xlabel='Shucked weight', ylabel='Count'>"
      ]
     },
     "execution_count": 17,
     "metadata": {},
     "output_type": "execute_result"
    },
    {
     "data": {
      "image/png": "[encoded data removed]",
      "text/plain": [
       "<Figure size 432x288 with 1 Axes>"
      ]
     },
     "metadata": {
      "needs_background": "light"
     },
     "output_type": "display_data"
    }
   ],
   "source": [
    "sns.histplot(x='Shucked weight',data=df,bins=20,kde=True)"
   ]
  },
  {
   "cell_type": "code",
   "execution_count": 18,
   "metadata": {},
   "outputs": [
    {
     "data": {
      "text/plain": [
       "<AxesSubplot:xlabel='Viscera weight', ylabel='Count'>"
      ]
     },
     "execution_count": 18,
     "metadata": {},
     "output_type": "execute_result"
    },
    {
     "data": {
      "image/png": "[encoded data removed]",
      "text/plain": [
       "<Figure size 432x288 with 1 Axes>"
      ]
     },
     "metadata": {
      "needs_background": "light"
     },
     "output_type": "display_data"
    }
   ],
   "source": [
    "sns.histplot(x='Viscera weight',data=df,bins=20,kde=True)"
   ]
  },
  {
   "cell_type": "code",
   "execution_count": 19,
   "metadata": {},
   "outputs": [
    {
     "data": {
      "text/plain": [
       "<AxesSubplot:xlabel='Shell weight', ylabel='Count'>"
      ]
     },
     "execution_count": 19,
     "metadata": {},
     "output_type": "execute_result"
    },
    {
     "data": {
      "image/png": "[encoded data removed]",
      "text/plain": [
       "<Figure size 432x288 with 1 Axes>"
      ]
     },
     "metadata": {
      "needs_background": "light"
     },
     "output_type": "display_data"
    }
   ],
   "source": [
    "sns.histplot(x='Shell weight',data=df,bins=20,kde=True)"
   ]
  },
  {
   "cell_type": "code",
   "execution_count": 20,
   "metadata": {},
   "outputs": [
    {
     "data": {
      "text/plain": [
       "<AxesSubplot:xlabel='Rings', ylabel='Count'>"
      ]
     },
     "execution_count": 20,
     "metadata": {},
     "output_type": "execute_result"
    },
    {
     "data": {
      "image/png": "[encoded data removed]",
      "text/plain": [
       "<Figure size 432x288 with 1 Axes>"
      ]
     },
     "metadata": {
      "needs_background": "light"
     },
     "output_type": "display_data"
    }
   ],
   "source": [
    "sns.histplot(x='Rings',data=df,bins=20,kde=True)"
   ]
  },
  {
   "cell_type": "markdown",
   "metadata": {},
   "source": [
    "# Describing DataSet"
   ]
  },
  {
   "cell_type": "code",
   "execution_count": 21,
   "metadata": {},
   "outputs": [
    {
     "data": {
      "text/html": [
       "<div>\n",
       "<style scoped>\n",
       "    .dataframe tbody tr th:only-of-type {\n",
       "        vertical-align: middle;\n",
       "    }\n",
       "\n",
       "    .dataframe tbody tr th {\n",
       "        vertical-align: top;\n",
       "    }\n",
       "\n",
       "    .dataframe thead th {\n",
       "        text-align: right;\n",
       "    }\n",
       "</style>\n",
       "<table border=\"1\" class=\"dataframe\">\n",
       "  <thead>\n",
       "    <tr style=\"text-align: right;\">\n",
       "      <th></th>\n",
       "      <th>Sex</th>\n",
       "      <th>Length</th>\n",
       "      <th>Diameter</th>\n",
       "      <th>Height</th>\n",
       "      <th>Whole weight</th>\n",
       "      <th>Shucked weight</th>\n",
       "      <th>Viscera weight</th>\n",
       "      <th>Shell weight</th>\n",
       "      <th>Rings</th>\n",
       "    </tr>\n",
       "  </thead>\n",
       "  <tbody>\n",
       "    <tr>\n",
       "      <th>count</th>\n",
       "      <td>4177.000000</td>\n",
       "      <td>4177.000000</td>\n",
       "      <td>4177.000000</td>\n",
       "      <td>4177.000000</td>\n",
       "      <td>4177.000000</td>\n",
       "      <td>4177.000000</td>\n",
       "      <td>4177.000000</td>\n",
       "      <td>4177.000000</td>\n",
       "      <td>4177.000000</td>\n",
       "    </tr>\n",
       "    <tr>\n",
       "      <th>mean</th>\n",
       "      <td>1.052909</td>\n",
       "      <td>0.523992</td>\n",
       "      <td>0.407881</td>\n",
       "      <td>0.139516</td>\n",
       "      <td>0.828742</td>\n",
       "      <td>0.359367</td>\n",
       "      <td>0.180594</td>\n",
       "      <td>0.238831</td>\n",
       "      <td>9.933684</td>\n",
       "    </tr>\n",
       "    <tr>\n",
       "      <th>std</th>\n",
       "      <td>0.822240</td>\n",
       "      <td>0.120093</td>\n",
       "      <td>0.099240</td>\n",
       "      <td>0.041827</td>\n",
       "      <td>0.490389</td>\n",
       "      <td>0.221963</td>\n",
       "      <td>0.109614</td>\n",
       "      <td>0.139203</td>\n",
       "      <td>3.224169</td>\n",
       "    </tr>\n",
       "    <tr>\n",
       "      <th>min</th>\n",
       "      <td>0.000000</td>\n",
       "      <td>0.075000</td>\n",
       "      <td>0.055000</td>\n",
       "      <td>0.000000</td>\n",
       "      <td>0.002000</td>\n",
       "      <td>0.001000</td>\n",
       "      <td>0.000500</td>\n",
       "      <td>0.001500</td>\n",
       "      <td>1.000000</td>\n",
       "    </tr>\n",
       "    <tr>\n",
       "      <th>25%</th>\n",
       "      <td>0.000000</td>\n",
       "      <td>0.450000</td>\n",
       "      <td>0.350000</td>\n",
       "      <td>0.115000</td>\n",
       "      <td>0.441500</td>\n",
       "      <td>0.186000</td>\n",
       "      <td>0.093500</td>\n",
       "      <td>0.130000</td>\n",
       "      <td>8.000000</td>\n",
       "    </tr>\n",
       "    <tr>\n",
       "      <th>50%</th>\n",
       "      <td>1.000000</td>\n",
       "      <td>0.545000</td>\n",
       "      <td>0.425000</td>\n",
       "      <td>0.140000</td>\n",
       "      <td>0.799500</td>\n",
       "      <td>0.336000</td>\n",
       "      <td>0.171000</td>\n",
       "      <td>0.234000</td>\n",
       "      <td>9.000000</td>\n",
       "    </tr>\n",
       "    <tr>\n",
       "      <th>75%</th>\n",
       "      <td>2.000000</td>\n",
       "      <td>0.615000</td>\n",
       "      <td>0.480000</td>\n",
       "      <td>0.165000</td>\n",
       "      <td>1.153000</td>\n",
       "      <td>0.502000</td>\n",
       "      <td>0.253000</td>\n",
       "      <td>0.329000</td>\n",
       "      <td>11.000000</td>\n",
       "    </tr>\n",
       "    <tr>\n",
       "      <th>max</th>\n",
       "      <td>2.000000</td>\n",
       "      <td>0.815000</td>\n",
       "      <td>0.650000</td>\n",
       "      <td>1.130000</td>\n",
       "      <td>2.825500</td>\n",
       "      <td>1.488000</td>\n",
       "      <td>0.760000</td>\n",
       "      <td>1.005000</td>\n",
       "      <td>29.000000</td>\n",
       "    </tr>\n",
       "  </tbody>\n",
       "</table>\n",
       "</div>"
      ],
      "text/plain": [
       "               Sex       Length     Diameter       Height  Whole weight  \\\n",
       "count  4177.000000  4177.000000  4177.000000  4177.000000   4177.000000   \n",
       "mean      1.052909     0.523992     0.407881     0.139516      0.828742   \n",
       "std       0.822240     0.120093     0.099240     0.041827      0.490389   \n",
       "min       0.000000     0.075000     0.055000     0.000000      0.002000   \n",
       "25%       0.000000     0.450000     0.350000     0.115000      0.441500   \n",
       "50%       1.000000     0.545000     0.425000     0.140000      0.799500   \n",
       "75%       2.000000     0.615000     0.480000     0.165000      1.153000   \n",
       "max       2.000000     0.815000     0.650000     1.130000      2.825500   \n",
       "\n",
       "       Shucked weight  Viscera weight  Shell weight        Rings  \n",
       "count     4177.000000     4177.000000   4177.000000  4177.000000  \n",
       "mean         0.359367        0.180594      0.238831     9.933684  \n",
       "std          0.221963        0.109614      0.139203     3.224169  \n",
       "min          0.001000        0.000500      0.001500     1.000000  \n",
       "25%          0.186000        0.093500      0.130000     8.000000  \n",
       "50%          0.336000        0.171000      0.234000     9.000000  \n",
       "75%          0.502000        0.253000      0.329000    11.000000  \n",
       "max          1.488000        0.760000      1.005000    29.000000  "
      ]
     },
     "execution_count": 21,
     "metadata": {},
     "output_type": "execute_result"
    }
   ],
   "source": [
    "df.describe()"
   ]
  },
  {
   "cell_type": "code",
   "execution_count": 22,
   "metadata": {},
   "outputs": [],
   "source": [
    "import matplotlib.pyplot as plt"
   ]
  },
  {
   "cell_type": "code",
   "execution_count": 24,
   "metadata": {},
   "outputs": [
    {
     "data": {
      "text/plain": [
       "<AxesSubplot:>"
      ]
     },
     "execution_count": 24,
     "metadata": {},
     "output_type": "execute_result"
    },
    {
     "data": {
      "image/png": "[encoded data removed]",
      "text/plain": [
       "<Figure size 1584x504 with 2 Axes>"
      ]
     },
     "metadata": {
      "needs_background": "light"
     },
     "output_type": "display_data"
    }
   ],
   "source": [
    "plt.figure(figsize=(22,7))\n",
    "sns.heatmap(df.describe(),annot=True,data=df,fmt='0.2f',linecolor='black',linewidths=0.2)"
   ]
  },
  {
   "cell_type": "code",
   "execution_count": 25,
   "metadata": {},
   "outputs": [
    {
     "data": {
      "text/html": [
       "<div>\n",
       "<style scoped>\n",
       "    .dataframe tbody tr th:only-of-type {\n",
       "        vertical-align: middle;\n",
       "    }\n",
       "\n",
       "    .dataframe tbody tr th {\n",
       "        vertical-align: top;\n",
       "    }\n",
       "\n",
       "    .dataframe thead th {\n",
       "        text-align: right;\n",
       "    }\n",
       "</style>\n",
       "<table border=\"1\" class=\"dataframe\">\n",
       "  <thead>\n",
       "    <tr style=\"text-align: right;\">\n",
       "      <th></th>\n",
       "      <th>Sex</th>\n",
       "      <th>Length</th>\n",
       "      <th>Diameter</th>\n",
       "      <th>Height</th>\n",
       "      <th>Whole weight</th>\n",
       "      <th>Shucked weight</th>\n",
       "      <th>Viscera weight</th>\n",
       "      <th>Shell weight</th>\n",
       "      <th>Rings</th>\n",
       "    </tr>\n",
       "  </thead>\n",
       "  <tbody>\n",
       "    <tr>\n",
       "      <th>Sex</th>\n",
       "      <td>1.000000</td>\n",
       "      <td>-0.036066</td>\n",
       "      <td>-0.038874</td>\n",
       "      <td>-0.042077</td>\n",
       "      <td>-0.021391</td>\n",
       "      <td>-0.001373</td>\n",
       "      <td>-0.032067</td>\n",
       "      <td>-0.034854</td>\n",
       "      <td>-0.034627</td>\n",
       "    </tr>\n",
       "    <tr>\n",
       "      <th>Length</th>\n",
       "      <td>-0.036066</td>\n",
       "      <td>1.000000</td>\n",
       "      <td>0.986812</td>\n",
       "      <td>0.827554</td>\n",
       "      <td>0.925261</td>\n",
       "      <td>0.897914</td>\n",
       "      <td>0.903018</td>\n",
       "      <td>0.897706</td>\n",
       "      <td>0.556720</td>\n",
       "    </tr>\n",
       "    <tr>\n",
       "      <th>Diameter</th>\n",
       "      <td>-0.038874</td>\n",
       "      <td>0.986812</td>\n",
       "      <td>1.000000</td>\n",
       "      <td>0.833684</td>\n",
       "      <td>0.925452</td>\n",
       "      <td>0.893162</td>\n",
       "      <td>0.899724</td>\n",
       "      <td>0.905330</td>\n",
       "      <td>0.574660</td>\n",
       "    </tr>\n",
       "    <tr>\n",
       "      <th>Height</th>\n",
       "      <td>-0.042077</td>\n",
       "      <td>0.827554</td>\n",
       "      <td>0.833684</td>\n",
       "      <td>1.000000</td>\n",
       "      <td>0.819221</td>\n",
       "      <td>0.774972</td>\n",
       "      <td>0.798319</td>\n",
       "      <td>0.817338</td>\n",
       "      <td>0.557467</td>\n",
       "    </tr>\n",
       "    <tr>\n",
       "      <th>Whole weight</th>\n",
       "      <td>-0.021391</td>\n",
       "      <td>0.925261</td>\n",
       "      <td>0.925452</td>\n",
       "      <td>0.819221</td>\n",
       "      <td>1.000000</td>\n",
       "      <td>0.969405</td>\n",
       "      <td>0.966375</td>\n",
       "      <td>0.955355</td>\n",
       "      <td>0.540390</td>\n",
       "    </tr>\n",
       "    <tr>\n",
       "      <th>Shucked weight</th>\n",
       "      <td>-0.001373</td>\n",
       "      <td>0.897914</td>\n",
       "      <td>0.893162</td>\n",
       "      <td>0.774972</td>\n",
       "      <td>0.969405</td>\n",
       "      <td>1.000000</td>\n",
       "      <td>0.931961</td>\n",
       "      <td>0.882617</td>\n",
       "      <td>0.420884</td>\n",
       "    </tr>\n",
       "    <tr>\n",
       "      <th>Viscera weight</th>\n",
       "      <td>-0.032067</td>\n",
       "      <td>0.903018</td>\n",
       "      <td>0.899724</td>\n",
       "      <td>0.798319</td>\n",
       "      <td>0.966375</td>\n",
       "      <td>0.931961</td>\n",
       "      <td>1.000000</td>\n",
       "      <td>0.907656</td>\n",
       "      <td>0.503819</td>\n",
       "    </tr>\n",
       "    <tr>\n",
       "      <th>Shell weight</th>\n",
       "      <td>-0.034854</td>\n",
       "      <td>0.897706</td>\n",
       "      <td>0.905330</td>\n",
       "      <td>0.817338</td>\n",
       "      <td>0.955355</td>\n",
       "      <td>0.882617</td>\n",
       "      <td>0.907656</td>\n",
       "      <td>1.000000</td>\n",
       "      <td>0.627574</td>\n",
       "    </tr>\n",
       "    <tr>\n",
       "      <th>Rings</th>\n",
       "      <td>-0.034627</td>\n",
       "      <td>0.556720</td>\n",
       "      <td>0.574660</td>\n",
       "      <td>0.557467</td>\n",
       "      <td>0.540390</td>\n",
       "      <td>0.420884</td>\n",
       "      <td>0.503819</td>\n",
       "      <td>0.627574</td>\n",
       "      <td>1.000000</td>\n",
       "    </tr>\n",
       "  </tbody>\n",
       "</table>\n",
       "</div>"
      ],
      "text/plain": [
       "                     Sex    Length  Diameter    Height  Whole weight  \\\n",
       "Sex             1.000000 -0.036066 -0.038874 -0.042077     -0.021391   \n",
       "Length         -0.036066  1.000000  0.986812  0.827554      0.925261   \n",
       "Diameter       -0.038874  0.986812  1.000000  0.833684      0.925452   \n",
       "Height         -0.042077  0.827554  0.833684  1.000000      0.819221   \n",
       "Whole weight   -0.021391  0.925261  0.925452  0.819221      1.000000   \n",
       "Shucked weight -0.001373  0.897914  0.893162  0.774972      0.969405   \n",
       "Viscera weight -0.032067  0.903018  0.899724  0.798319      0.966375   \n",
       "Shell weight   -0.034854  0.897706  0.905330  0.817338      0.955355   \n",
       "Rings          -0.034627  0.556720  0.574660  0.557467      0.540390   \n",
       "\n",
       "                Shucked weight  Viscera weight  Shell weight     Rings  \n",
       "Sex                  -0.001373       -0.032067     -0.034854 -0.034627  \n",
       "Length                0.897914        0.903018      0.897706  0.556720  \n",
       "Diameter              0.893162        0.899724      0.905330  0.574660  \n",
       "Height                0.774972        0.798319      0.817338  0.557467  \n",
       "Whole weight          0.969405        0.966375      0.955355  0.540390  \n",
       "Shucked weight        1.000000        0.931961      0.882617  0.420884  \n",
       "Viscera weight        0.931961        1.000000      0.907656  0.503819  \n",
       "Shell weight          0.882617        0.907656      1.000000  0.627574  \n",
       "Rings                 0.420884        0.503819      0.627574  1.000000  "
      ]
     },
     "execution_count": 25,
     "metadata": {},
     "output_type": "execute_result"
    }
   ],
   "source": [
    "df.corr()"
   ]
  },
  {
   "cell_type": "code",
   "execution_count": 26,
   "metadata": {},
   "outputs": [
    {
     "data": {
      "text/plain": [
       "<AxesSubplot:>"
      ]
     },
     "execution_count": 26,
     "metadata": {},
     "output_type": "execute_result"
    },
    {
     "data": {
      "image/png": "[encoded data removed]",
      "text/plain": [
       "<Figure size 1584x504 with 2 Axes>"
      ]
     },
     "metadata": {
      "needs_background": "light"
     },
     "output_type": "display_data"
    }
   ],
   "source": [
    "plt.figure(figsize=(22,7))\n",
    "sns.heatmap(df.corr(),annot=True,data=df,fmt='0.2f',linecolor='black',linewidths=0.2)"
   ]
  },
  {
   "cell_type": "code",
   "execution_count": 28,
   "metadata": {},
   "outputs": [
    {
     "data": {
      "image/png": "[encoded data removed]",
      "text/plain": [
       "<Figure size 1584x504 with 1 Axes>"
      ]
     },
     "metadata": {
      "needs_background": "light"
     },
     "output_type": "display_data"
    }
   ],
   "source": [
    "plt.figure(figsize=(22,7))\n",
    "df.corr()['Rings'].sort_values(ascending=False).drop(['Rings']).plot(kind='bar',color='c')\n",
    "plt.xlabel('Features',fontsize=14)\n",
    "plt.ylabel('Column with Target names',fontsize=14)\n",
    "plt.title('Correlation',fontsize=18)\n",
    "plt.show()"
   ]
  },
  {
   "cell_type": "code",
   "execution_count": 29,
   "metadata": {},
   "outputs": [
    {
     "data": {
      "text/plain": [
       "Sex              -0.098155\n",
       "Length           -0.639873\n",
       "Diameter         -0.609198\n",
       "Height            3.128817\n",
       "Whole weight      0.530959\n",
       "Shucked weight    0.719098\n",
       "Viscera weight    0.591852\n",
       "Shell weight      0.620927\n",
       "Rings             1.114102\n",
       "dtype: float64"
      ]
     },
     "execution_count": 29,
     "metadata": {},
     "output_type": "execute_result"
    }
   ],
   "source": [
    "df.skew()"
   ]
  },
  {
   "cell_type": "markdown",
   "metadata": {},
   "source": [
    "Taking -/+ 0.5 as the threshold"
   ]
  },
  {
   "cell_type": "raw",
   "metadata": {},
   "source": [
    "Length\n",
    "Diameter\n",
    "Height\n",
    "Whole weight\n",
    "Shucked weight\n",
    "Viscera weight\n",
    "Shell weight\n",
    "Rings"
   ]
  },
  {
   "cell_type": "code",
   "execution_count": 30,
   "metadata": {},
   "outputs": [
    {
     "data": {
      "text/plain": [
       "<AxesSubplot:>"
      ]
     },
     "execution_count": 30,
     "metadata": {},
     "output_type": "execute_result"
    },
    {
     "data": {
      "image/png": "[encoded data removed]",
      "text/plain": [
       "<Figure size 432x288 with 1 Axes>"
      ]
     },
     "metadata": {
      "needs_background": "light"
     },
     "output_type": "display_data"
    }
   ],
   "source": [
    "df['Length'].plot.box()"
   ]
  },
  {
   "cell_type": "code",
   "execution_count": 31,
   "metadata": {},
   "outputs": [
    {
     "data": {
      "text/plain": [
       "<AxesSubplot:>"
      ]
     },
     "execution_count": 31,
     "metadata": {},
     "output_type": "execute_result"
    },
    {
     "data": {
      "image/png": "[encoded data removed]",
      "text/plain": [
       "<Figure size 432x288 with 1 Axes>"
      ]
     },
     "metadata": {
      "needs_background": "light"
     },
     "output_type": "display_data"
    }
   ],
   "source": [
    "df['Diameter'].plot.box()"
   ]
  },
  {
   "cell_type": "code",
   "execution_count": 32,
   "metadata": {},
   "outputs": [
    {
     "data": {
      "text/plain": [
       "<AxesSubplot:>"
      ]
     },
     "execution_count": 32,
     "metadata": {},
     "output_type": "execute_result"
    },
    {
     "data": {
      "image/png": "[encoded data removed]",
      "text/plain": [
       "<Figure size 432x288 with 1 Axes>"
      ]
     },
     "metadata": {
      "needs_background": "light"
     },
     "output_type": "display_data"
    }
   ],
   "source": [
    "df['Height'].plot.box()"
   ]
  },
  {
   "cell_type": "code",
   "execution_count": 33,
   "metadata": {},
   "outputs": [
    {
     "data": {
      "text/plain": [
       "<AxesSubplot:>"
      ]
     },
     "execution_count": 33,
     "metadata": {},
     "output_type": "execute_result"
    },
    {
     "data": {
      "image/png": "[encoded data removed]",
      "text/plain": [
       "<Figure size 432x288 with 1 Axes>"
      ]
     },
     "metadata": {
      "needs_background": "light"
     },
     "output_type": "display_data"
    }
   ],
   "source": [
    "df['Whole weight'].plot.box()"
   ]
  },
  {
   "cell_type": "code",
   "execution_count": 34,
   "metadata": {},
   "outputs": [
    {
     "data": {
      "text/plain": [
       "<AxesSubplot:>"
      ]
     },
     "execution_count": 34,
     "metadata": {},
     "output_type": "execute_result"
    },
    {
     "data": {
      "image/png": "[encoded data removed]",
      "text/plain": [
       "<Figure size 432x288 with 1 Axes>"
      ]
     },
     "metadata": {
      "needs_background": "light"
     },
     "output_type": "display_data"
    }
   ],
   "source": [
    "df['Shucked weight'].plot.box()"
   ]
  },
  {
   "cell_type": "code",
   "execution_count": 35,
   "metadata": {},
   "outputs": [
    {
     "data": {
      "text/plain": [
       "<AxesSubplot:>"
      ]
     },
     "execution_count": 35,
     "metadata": {},
     "output_type": "execute_result"
    },
    {
     "data": {
      "image/png": "[encoded data removed]",
      "text/plain": [
       "<Figure size 432x288 with 1 Axes>"
      ]
     },
     "metadata": {
      "needs_background": "light"
     },
     "output_type": "display_data"
    }
   ],
   "source": [
    "df['Viscera weight'].plot.box()"
   ]
  },
  {
   "cell_type": "code",
   "execution_count": 36,
   "metadata": {},
   "outputs": [
    {
     "data": {
      "text/plain": [
       "<AxesSubplot:>"
      ]
     },
     "execution_count": 36,
     "metadata": {},
     "output_type": "execute_result"
    },
    {
     "data": {
      "image/png": "[encoded data removed]",
      "text/plain": [
       "<Figure size 432x288 with 1 Axes>"
      ]
     },
     "metadata": {
      "needs_background": "light"
     },
     "output_type": "display_data"
    }
   ],
   "source": [
    "df['Shell weight'].plot.box()"
   ]
  },
  {
   "cell_type": "code",
   "execution_count": 37,
   "metadata": {},
   "outputs": [
    {
     "data": {
      "text/plain": [
       "<AxesSubplot:>"
      ]
     },
     "execution_count": 37,
     "metadata": {},
     "output_type": "execute_result"
    },
    {
     "data": {
      "image/png": "[encoded data removed]",
      "text/plain": [
       "<Figure size 432x288 with 1 Axes>"
      ]
     },
     "metadata": {
      "needs_background": "light"
     },
     "output_type": "display_data"
    }
   ],
   "source": [
    "df['Rings'].plot.box()"
   ]
  },
  {
   "cell_type": "markdown",
   "metadata": {},
   "source": [
    "# Removing Outliers"
   ]
  },
  {
   "cell_type": "code",
   "execution_count": 38,
   "metadata": {},
   "outputs": [
    {
     "data": {
      "text/plain": [
       "(4177, 9)"
      ]
     },
     "execution_count": 38,
     "metadata": {},
     "output_type": "execute_result"
    }
   ],
   "source": [
    "df.shape"
   ]
  },
  {
   "cell_type": "code",
   "execution_count": 39,
   "metadata": {},
   "outputs": [],
   "source": [
    "from scipy.stats import zscore"
   ]
  },
  {
   "cell_type": "code",
   "execution_count": 40,
   "metadata": {},
   "outputs": [
    {
     "data": {
      "text/plain": [
       "(array([   6,   72,   81,   83,  129,  163,  164,  165,  165,  165,  166,\n",
       "         166,  167,  168,  170,  181,  232,  236,  236,  236,  237,  237,\n",
       "         238,  238,  239,  270,  275,  277,  278,  294,  310,  313,  314,\n",
       "         334,  351,  355,  358,  358,  362,  375,  416,  417,  428,  431,\n",
       "         433,  469,  478,  480,  501,  526,  526,  530,  572,  628,  673,\n",
       "         674,  675,  678,  694,  696,  696,  719,  719,  720,  720,  744,\n",
       "         754,  756,  811,  891,  891,  891, 1048, 1051, 1051, 1052, 1193,\n",
       "        1197, 1199, 1202, 1204, 1206, 1206, 1207, 1207, 1207, 1207, 1209,\n",
       "        1209, 1257, 1417, 1417, 1418, 1422, 1426, 1427, 1427, 1427, 1428,\n",
       "        1429, 1429, 1528, 1754, 1756, 1757, 1759, 1761, 1762, 1762, 1762,\n",
       "        1763, 1763, 1763, 1821, 1982, 1986, 1987, 1987, 2051, 2090, 2108,\n",
       "        2108, 2114, 2114, 2157, 2161, 2176, 2180, 2199, 2201, 2208, 2209,\n",
       "        2274, 2275, 2305, 2334, 2334, 2334, 2335, 2344, 2358, 2368, 2381,\n",
       "        2436, 2459, 2471, 2544, 2623, 2624, 2624, 2624, 2625, 2709, 2710,\n",
       "        2710, 2810, 2810, 2811, 2811, 2811, 2862, 2863, 2863, 2863, 3007,\n",
       "        3008, 3140, 3148, 3149, 3149, 3151, 3151, 3188, 3193, 3280, 3359,\n",
       "        3427, 3427, 3427, 3599, 3599, 3628, 3713, 3715, 3715, 3715, 3715,\n",
       "        3800, 3837, 3899, 3899, 3902, 3924, 3930, 3944, 3961, 3962, 3996,\n",
       "        4145, 4148]),\n",
       " array([8, 8, 7, 8, 7, 7, 7, 4, 5, 7, 7, 8, 8, 7, 6, 8, 8, 1, 2, 3, 1, 2,\n",
       "        1, 2, 1, 8, 8, 7, 8, 8, 8, 8, 8, 7, 8, 8, 4, 7, 8, 8, 8, 8, 8, 8,\n",
       "        8, 8, 8, 8, 8, 1, 2, 8, 8, 8, 8, 8, 8, 8, 2, 1, 2, 1, 2, 1, 2, 8,\n",
       "        8, 8, 8, 4, 5, 7, 6, 4, 5, 4, 5, 5, 5, 5, 6, 5, 6, 4, 5, 6, 7, 4,\n",
       "        5, 3, 3, 5, 5, 6, 5, 4, 5, 6, 7, 1, 2, 5, 5, 5, 6, 6, 5, 4, 5, 6,\n",
       "        4, 5, 6, 5, 5, 1, 1, 2, 3, 7, 7, 8, 1, 2, 7, 7, 8, 8, 8, 8, 7, 8,\n",
       "        7, 8, 8, 4, 6, 8, 8, 8, 8, 7, 1, 8, 8, 8, 5, 4, 4, 5, 6, 5, 6, 5,\n",
       "        6, 5, 6, 4, 5, 6, 5, 4, 5, 6, 5, 7, 8, 7, 7, 8, 7, 8, 7, 8, 8, 8,\n",
       "        4, 5, 6, 4, 5, 6, 5, 4, 5, 6, 7, 4, 2, 1, 2, 1, 8, 8, 8, 5, 5, 3,\n",
       "        7, 6]))"
      ]
     },
     "execution_count": 40,
     "metadata": {},
     "output_type": "execute_result"
    }
   ],
   "source": [
    "z=np.abs(zscore(df))\n",
    "threshold=3\n",
    "np.where(z>3)"
   ]
  },
  {
   "cell_type": "code",
   "execution_count": 41,
   "metadata": {},
   "outputs": [
    {
     "data": {
      "text/html": [
       "<div>\n",
       "<style scoped>\n",
       "    .dataframe tbody tr th:only-of-type {\n",
       "        vertical-align: middle;\n",
       "    }\n",
       "\n",
       "    .dataframe tbody tr th {\n",
       "        vertical-align: top;\n",
       "    }\n",
       "\n",
       "    .dataframe thead th {\n",
       "        text-align: right;\n",
       "    }\n",
       "</style>\n",
       "<table border=\"1\" class=\"dataframe\">\n",
       "  <thead>\n",
       "    <tr style=\"text-align: right;\">\n",
       "      <th></th>\n",
       "      <th>Sex</th>\n",
       "      <th>Length</th>\n",
       "      <th>Diameter</th>\n",
       "      <th>Height</th>\n",
       "      <th>Whole weight</th>\n",
       "      <th>Shucked weight</th>\n",
       "      <th>Viscera weight</th>\n",
       "      <th>Shell weight</th>\n",
       "      <th>Rings</th>\n",
       "    </tr>\n",
       "  </thead>\n",
       "  <tbody>\n",
       "    <tr>\n",
       "      <th>0</th>\n",
       "      <td>2</td>\n",
       "      <td>0.455</td>\n",
       "      <td>0.365</td>\n",
       "      <td>0.095</td>\n",
       "      <td>0.5140</td>\n",
       "      <td>0.2245</td>\n",
       "      <td>0.1010</td>\n",
       "      <td>0.1500</td>\n",
       "      <td>15</td>\n",
       "    </tr>\n",
       "    <tr>\n",
       "      <th>1</th>\n",
       "      <td>2</td>\n",
       "      <td>0.350</td>\n",
       "      <td>0.265</td>\n",
       "      <td>0.090</td>\n",
       "      <td>0.2255</td>\n",
       "      <td>0.0995</td>\n",
       "      <td>0.0485</td>\n",
       "      <td>0.0700</td>\n",
       "      <td>7</td>\n",
       "    </tr>\n",
       "    <tr>\n",
       "      <th>2</th>\n",
       "      <td>0</td>\n",
       "      <td>0.530</td>\n",
       "      <td>0.420</td>\n",
       "      <td>0.135</td>\n",
       "      <td>0.6770</td>\n",
       "      <td>0.2565</td>\n",
       "      <td>0.1415</td>\n",
       "      <td>0.2100</td>\n",
       "      <td>9</td>\n",
       "    </tr>\n",
       "    <tr>\n",
       "      <th>3</th>\n",
       "      <td>2</td>\n",
       "      <td>0.440</td>\n",
       "      <td>0.365</td>\n",
       "      <td>0.125</td>\n",
       "      <td>0.5160</td>\n",
       "      <td>0.2155</td>\n",
       "      <td>0.1140</td>\n",
       "      <td>0.1550</td>\n",
       "      <td>10</td>\n",
       "    </tr>\n",
       "    <tr>\n",
       "      <th>4</th>\n",
       "      <td>1</td>\n",
       "      <td>0.330</td>\n",
       "      <td>0.255</td>\n",
       "      <td>0.080</td>\n",
       "      <td>0.2050</td>\n",
       "      <td>0.0895</td>\n",
       "      <td>0.0395</td>\n",
       "      <td>0.0550</td>\n",
       "      <td>7</td>\n",
       "    </tr>\n",
       "    <tr>\n",
       "      <th>...</th>\n",
       "      <td>...</td>\n",
       "      <td>...</td>\n",
       "      <td>...</td>\n",
       "      <td>...</td>\n",
       "      <td>...</td>\n",
       "      <td>...</td>\n",
       "      <td>...</td>\n",
       "      <td>...</td>\n",
       "      <td>...</td>\n",
       "    </tr>\n",
       "    <tr>\n",
       "      <th>4172</th>\n",
       "      <td>0</td>\n",
       "      <td>0.565</td>\n",
       "      <td>0.450</td>\n",
       "      <td>0.165</td>\n",
       "      <td>0.8870</td>\n",
       "      <td>0.3700</td>\n",
       "      <td>0.2390</td>\n",
       "      <td>0.2490</td>\n",
       "      <td>11</td>\n",
       "    </tr>\n",
       "    <tr>\n",
       "      <th>4173</th>\n",
       "      <td>2</td>\n",
       "      <td>0.590</td>\n",
       "      <td>0.440</td>\n",
       "      <td>0.135</td>\n",
       "      <td>0.9660</td>\n",
       "      <td>0.4390</td>\n",
       "      <td>0.2145</td>\n",
       "      <td>0.2605</td>\n",
       "      <td>10</td>\n",
       "    </tr>\n",
       "    <tr>\n",
       "      <th>4174</th>\n",
       "      <td>2</td>\n",
       "      <td>0.600</td>\n",
       "      <td>0.475</td>\n",
       "      <td>0.205</td>\n",
       "      <td>1.1760</td>\n",
       "      <td>0.5255</td>\n",
       "      <td>0.2875</td>\n",
       "      <td>0.3080</td>\n",
       "      <td>9</td>\n",
       "    </tr>\n",
       "    <tr>\n",
       "      <th>4175</th>\n",
       "      <td>0</td>\n",
       "      <td>0.625</td>\n",
       "      <td>0.485</td>\n",
       "      <td>0.150</td>\n",
       "      <td>1.0945</td>\n",
       "      <td>0.5310</td>\n",
       "      <td>0.2610</td>\n",
       "      <td>0.2960</td>\n",
       "      <td>10</td>\n",
       "    </tr>\n",
       "    <tr>\n",
       "      <th>4176</th>\n",
       "      <td>2</td>\n",
       "      <td>0.710</td>\n",
       "      <td>0.555</td>\n",
       "      <td>0.195</td>\n",
       "      <td>1.9485</td>\n",
       "      <td>0.9455</td>\n",
       "      <td>0.3765</td>\n",
       "      <td>0.4950</td>\n",
       "      <td>12</td>\n",
       "    </tr>\n",
       "  </tbody>\n",
       "</table>\n",
       "<p>4027 rows × 9 columns</p>\n",
       "</div>"
      ],
      "text/plain": [
       "      Sex  Length  Diameter  Height  Whole weight  Shucked weight  \\\n",
       "0       2   0.455     0.365   0.095        0.5140          0.2245   \n",
       "1       2   0.350     0.265   0.090        0.2255          0.0995   \n",
       "2       0   0.530     0.420   0.135        0.6770          0.2565   \n",
       "3       2   0.440     0.365   0.125        0.5160          0.2155   \n",
       "4       1   0.330     0.255   0.080        0.2050          0.0895   \n",
       "...   ...     ...       ...     ...           ...             ...   \n",
       "4172    0   0.565     0.450   0.165        0.8870          0.3700   \n",
       "4173    2   0.590     0.440   0.135        0.9660          0.4390   \n",
       "4174    2   0.600     0.475   0.205        1.1760          0.5255   \n",
       "4175    0   0.625     0.485   0.150        1.0945          0.5310   \n",
       "4176    2   0.710     0.555   0.195        1.9485          0.9455   \n",
       "\n",
       "      Viscera weight  Shell weight  Rings  \n",
       "0             0.1010        0.1500     15  \n",
       "1             0.0485        0.0700      7  \n",
       "2             0.1415        0.2100      9  \n",
       "3             0.1140        0.1550     10  \n",
       "4             0.0395        0.0550      7  \n",
       "...              ...           ...    ...  \n",
       "4172          0.2390        0.2490     11  \n",
       "4173          0.2145        0.2605     10  \n",
       "4174          0.2875        0.3080      9  \n",
       "4175          0.2610        0.2960     10  \n",
       "4176          0.3765        0.4950     12  \n",
       "\n",
       "[4027 rows x 9 columns]"
      ]
     },
     "execution_count": 41,
     "metadata": {},
     "output_type": "execute_result"
    }
   ],
   "source": [
    "df_new=df[(z<3).all(axis=1)]\n",
    "df_new"
   ]
  },
  {
   "cell_type": "code",
   "execution_count": 42,
   "metadata": {},
   "outputs": [
    {
     "data": {
      "text/plain": [
       "3.5910940866650707"
      ]
     },
     "execution_count": 42,
     "metadata": {},
     "output_type": "execute_result"
    }
   ],
   "source": [
    "Data_Loss=((4177-4027)/4177)*100\n",
    "Data_Loss"
   ]
  },
  {
   "cell_type": "markdown",
   "metadata": {},
   "source": [
    "# Separating x and y"
   ]
  },
  {
   "cell_type": "code",
   "execution_count": 58,
   "metadata": {},
   "outputs": [],
   "source": [
    "x=df.drop('Rings',axis=1)\n",
    "y=df['Rings']"
   ]
  },
  {
   "cell_type": "markdown",
   "metadata": {},
   "source": [
    "# Transforming Dataset"
   ]
  },
  {
   "cell_type": "code",
   "execution_count": 44,
   "metadata": {},
   "outputs": [],
   "source": [
    "from sklearn.preprocessing import power_transform"
   ]
  },
  {
   "cell_type": "code",
   "execution_count": 59,
   "metadata": {},
   "outputs": [
    {
     "data": {
      "text/plain": [
       "array([[ 1.12707158, -0.68550213, -0.54986033, ..., -0.54098937,\n",
       "        -0.69328289, -0.587809  ],\n",
       "       [ 1.12707158, -1.39634403, -1.38733299, ..., -1.31166208,\n",
       "        -1.33295268, -1.33241968],\n",
       "       [-1.30793479, -0.07077438,  0.00853714, ..., -0.36611642,\n",
       "        -0.25513514, -0.09826193],\n",
       "       ...,\n",
       "       [ 1.12707158,  0.59336612,  0.64519089, ...,  0.83813658,\n",
       "         1.01560749,  0.59839786],\n",
       "       [-1.30793479,  0.85337516,  0.76992788, ...,  0.85873857,\n",
       "         0.81518436,  0.51914542],\n",
       "       [ 1.12707158,  1.83447784,  1.72628889, ...,  2.10364827,\n",
       "         1.61134422,  1.65848824]])"
      ]
     },
     "execution_count": 59,
     "metadata": {},
     "output_type": "execute_result"
    }
   ],
   "source": [
    "x=power_transform(x,method='yeo-johnson')\n",
    "x"
   ]
  },
  {
   "cell_type": "markdown",
   "metadata": {},
   "source": [
    "# Scaling Dataset"
   ]
  },
  {
   "cell_type": "code",
   "execution_count": 54,
   "metadata": {},
   "outputs": [],
   "source": [
    "from sklearn.preprocessing import StandardScaler\n",
    "sc=StandardScaler()"
   ]
  },
  {
   "cell_type": "code",
   "execution_count": 60,
   "metadata": {},
   "outputs": [
    {
     "data": {
      "text/plain": [
       "array([[ 1.12707158, -0.68550213, -0.54986033, ..., -0.54098937,\n",
       "        -0.69328289, -0.587809  ],\n",
       "       [ 1.12707158, -1.39634403, -1.38733299, ..., -1.31166208,\n",
       "        -1.33295268, -1.33241968],\n",
       "       [-1.30793479, -0.07077438,  0.00853714, ..., -0.36611642,\n",
       "        -0.25513514, -0.09826193],\n",
       "       ...,\n",
       "       [ 1.12707158,  0.59336612,  0.64519089, ...,  0.83813658,\n",
       "         1.01560749,  0.59839786],\n",
       "       [-1.30793479,  0.85337516,  0.76992788, ...,  0.85873857,\n",
       "         0.81518436,  0.51914542],\n",
       "       [ 1.12707158,  1.83447784,  1.72628889, ...,  2.10364827,\n",
       "         1.61134422,  1.65848824]])"
      ]
     },
     "execution_count": 60,
     "metadata": {},
     "output_type": "execute_result"
    }
   ],
   "source": [
    "x=sc.fit_transform(x)\n",
    "x"
   ]
  },
  {
   "cell_type": "markdown",
   "metadata": {},
   "source": [
    "# Model selection"
   ]
  },
  {
   "cell_type": "code",
   "execution_count": 56,
   "metadata": {},
   "outputs": [],
   "source": [
    "from sklearn.linear_model import LinearRegression\n",
    "lr=LinearRegression()\n",
    "from sklearn.metrics import r2_score\n",
    "import warnings\n",
    "warnings.filterwarnings('ignore')\n",
    "from sklearn.model_selection import train_test_split"
   ]
  },
  {
   "cell_type": "code",
   "execution_count": 66,
   "metadata": {},
   "outputs": [
    {
     "name": "stdout",
     "output_type": "stream",
     "text": [
      "At random state 0, the trainig accuracy is :- 0.5462259155347436\n",
      "At random state 0, the testing accuracy is :- 0.547916110529117\n",
      "/n\n",
      "At random state 1, the trainig accuracy is :- 0.5524079647038771\n",
      "At random state 1, the testing accuracy is :- 0.5242420318897092\n",
      "/n\n",
      "At random state 2, the trainig accuracy is :- 0.544225630716734\n",
      "At random state 2, the testing accuracy is :- 0.5538779030335712\n",
      "/n\n",
      "At random state 3, the trainig accuracy is :- 0.552517818758961\n",
      "At random state 3, the testing accuracy is :- 0.5218011930910913\n",
      "/n\n",
      "At random state 4, the trainig accuracy is :- 0.5554057062117558\n",
      "At random state 4, the testing accuracy is :- 0.5055433398823324\n",
      "/n\n",
      "At random state 5, the trainig accuracy is :- 0.5567370222280851\n",
      "At random state 5, the testing accuracy is :- 0.5074611076967221\n",
      "/n\n",
      "At random state 6, the trainig accuracy is :- 0.5387241410180756\n",
      "At random state 6, the testing accuracy is :- 0.5799377678758098\n",
      "/n\n",
      "At random state 7, the trainig accuracy is :- 0.5429939196890474\n",
      "At random state 7, the testing accuracy is :- 0.5572841212429271\n",
      "/n\n",
      "At random state 8, the trainig accuracy is :- 0.5521837775105273\n",
      "At random state 8, the testing accuracy is :- 0.5248454541800167\n",
      "/n\n",
      "At random state 9, the trainig accuracy is :- 0.5593695127762239\n",
      "At random state 9, the testing accuracy is :- 0.49602838264993687\n",
      "/n\n",
      "At random state 10, the trainig accuracy is :- 0.5477629446895308\n",
      "At random state 10, the testing accuracy is :- 0.5441158821513548\n",
      "/n\n",
      "At random state 11, the trainig accuracy is :- 0.5399422348639666\n",
      "At random state 11, the testing accuracy is :- 0.5738534352380001\n",
      "/n\n",
      "At random state 12, the trainig accuracy is :- 0.536907683805047\n",
      "At random state 12, the testing accuracy is :- 0.584228910539232\n",
      "/n\n",
      "At random state 13, the trainig accuracy is :- 0.5483914244646297\n",
      "At random state 13, the testing accuracy is :- 0.5400255317700453\n",
      "/n\n",
      "At random state 14, the trainig accuracy is :- 0.5536004518158777\n",
      "At random state 14, the testing accuracy is :- 0.5170077208178405\n",
      "/n\n",
      "At random state 15, the trainig accuracy is :- 0.5576466788173735\n",
      "At random state 15, the testing accuracy is :- 0.5030861143464412\n",
      "/n\n",
      "At random state 16, the trainig accuracy is :- 0.545762954538403\n",
      "At random state 16, the testing accuracy is :- 0.5526963385042012\n",
      "/n\n",
      "At random state 17, the trainig accuracy is :- 0.5417689430978667\n",
      "At random state 17, the testing accuracy is :- 0.5663235582220929\n",
      "/n\n",
      "At random state 18, the trainig accuracy is :- 0.5476135620173462\n",
      "At random state 18, the testing accuracy is :- 0.5440752492076271\n",
      "/n\n",
      "At random state 19, the trainig accuracy is :- 0.5603891675127246\n",
      "At random state 19, the testing accuracy is :- 0.49245106284472906\n",
      "/n\n",
      "At random state 20, the trainig accuracy is :- 0.5541338251429326\n",
      "At random state 20, the testing accuracy is :- 0.5201157500045738\n",
      "/n\n",
      "At random state 21, the trainig accuracy is :- 0.5462738866699912\n",
      "At random state 21, the testing accuracy is :- 0.5453852209742494\n",
      "/n\n",
      "At random state 22, the trainig accuracy is :- 0.5535504809078702\n",
      "At random state 22, the testing accuracy is :- 0.5186144951618318\n",
      "/n\n",
      "At random state 23, the trainig accuracy is :- 0.5566344952308271\n",
      "At random state 23, the testing accuracy is :- 0.5064784768338385\n",
      "/n\n",
      "At random state 24, the trainig accuracy is :- 0.5539138925146603\n",
      "At random state 24, the testing accuracy is :- 0.5156054143380884\n",
      "/n\n",
      "At random state 25, the trainig accuracy is :- 0.5528165639197617\n",
      "At random state 25, the testing accuracy is :- 0.5099618122230424\n",
      "/n\n",
      "At random state 26, the trainig accuracy is :- 0.5499046038730175\n",
      "At random state 26, the testing accuracy is :- 0.5372341293220657\n",
      "/n\n",
      "At random state 27, the trainig accuracy is :- 0.552257729049118\n",
      "At random state 27, the testing accuracy is :- 0.524800241648562\n",
      "/n\n",
      "At random state 28, the trainig accuracy is :- 0.5427019046927237\n",
      "At random state 28, the testing accuracy is :- 0.5642513315552217\n",
      "/n\n",
      "At random state 29, the trainig accuracy is :- 0.5539896211402513\n",
      "At random state 29, the testing accuracy is :- 0.519926873424247\n",
      "/n\n",
      "At random state 30, the trainig accuracy is :- 0.5404078252712162\n",
      "At random state 30, the testing accuracy is :- 0.5708638808235019\n",
      "/n\n",
      "At random state 31, the trainig accuracy is :- 0.5348973216188684\n",
      "At random state 31, the testing accuracy is :- 0.5864241077095573\n",
      "/n\n",
      "At random state 32, the trainig accuracy is :- 0.5476761906490115\n",
      "At random state 32, the testing accuracy is :- 0.5433716285085843\n",
      "/n\n",
      "At random state 33, the trainig accuracy is :- 0.5463635151480406\n",
      "At random state 33, the testing accuracy is :- 0.547607056434323\n",
      "/n\n",
      "At random state 34, the trainig accuracy is :- 0.5586542788424684\n",
      "At random state 34, the testing accuracy is :- 0.4979773912510722\n",
      "/n\n",
      "At random state 35, the trainig accuracy is :- 0.5509726179575539\n",
      "At random state 35, the testing accuracy is :- 0.5271340064645806\n",
      "/n\n",
      "At random state 36, the trainig accuracy is :- 0.5487552054678769\n",
      "At random state 36, the testing accuracy is :- 0.5407581382166406\n",
      "/n\n",
      "At random state 37, the trainig accuracy is :- 0.5364218252593644\n",
      "At random state 37, the testing accuracy is :- 0.5918104087307501\n",
      "/n\n",
      "At random state 38, the trainig accuracy is :- 0.5414246722587684\n",
      "At random state 38, the testing accuracy is :- 0.5679753732353285\n",
      "/n\n",
      "At random state 39, the trainig accuracy is :- 0.5454231936116849\n",
      "At random state 39, the testing accuracy is :- 0.5503885413508891\n",
      "/n\n",
      "At random state 40, the trainig accuracy is :- 0.5526345829852695\n",
      "At random state 40, the testing accuracy is :- 0.5230134873909953\n",
      "/n\n",
      "At random state 41, the trainig accuracy is :- 0.5492074765789892\n",
      "At random state 41, the testing accuracy is :- 0.5338870275317811\n",
      "/n\n",
      "At random state 42, the trainig accuracy is :- 0.5494744631313202\n",
      "At random state 42, the testing accuracy is :- 0.5368326540032169\n",
      "/n\n",
      "At random state 43, the trainig accuracy is :- 0.536760599326681\n",
      "At random state 43, the testing accuracy is :- 0.59225252052965\n",
      "/n\n",
      "At random state 44, the trainig accuracy is :- 0.5507676298592916\n",
      "At random state 44, the testing accuracy is :- 0.5329032537857998\n",
      "/n\n",
      "At random state 45, the trainig accuracy is :- 0.5492935821344416\n",
      "At random state 45, the testing accuracy is :- 0.5372662325667537\n",
      "/n\n",
      "At random state 46, the trainig accuracy is :- 0.5495485036481219\n",
      "At random state 46, the testing accuracy is :- 0.5333328609819177\n",
      "/n\n",
      "At random state 47, the trainig accuracy is :- 0.5506354533811553\n",
      "At random state 47, the testing accuracy is :- 0.5241390698412389\n",
      "/n\n",
      "At random state 48, the trainig accuracy is :- 0.5455022363755258\n",
      "At random state 48, the testing accuracy is :- 0.5523002890047226\n",
      "/n\n",
      "At random state 49, the trainig accuracy is :- 0.5532751361434605\n",
      "At random state 49, the testing accuracy is :- 0.5213470631511209\n",
      "/n\n",
      "At random state 50, the trainig accuracy is :- 0.545009173607611\n",
      "At random state 50, the testing accuracy is :- 0.5528745896214413\n",
      "/n\n",
      "At random state 51, the trainig accuracy is :- 0.5447227555605334\n",
      "At random state 51, the testing accuracy is :- 0.5528253859355723\n",
      "/n\n",
      "At random state 52, the trainig accuracy is :- 0.5397148583395561\n",
      "At random state 52, the testing accuracy is :- 0.5757160613998353\n",
      "/n\n",
      "At random state 53, the trainig accuracy is :- 0.5435569015082968\n",
      "At random state 53, the testing accuracy is :- 0.5574168433402946\n",
      "/n\n",
      "At random state 54, the trainig accuracy is :- 0.5569319525162713\n",
      "At random state 54, the testing accuracy is :- 0.5033759673752154\n",
      "/n\n",
      "At random state 55, the trainig accuracy is :- 0.5526191625563294\n",
      "At random state 55, the testing accuracy is :- 0.5169696141035838\n",
      "/n\n",
      "At random state 56, the trainig accuracy is :- 0.5441193900583935\n",
      "At random state 56, the testing accuracy is :- 0.553565191033201\n",
      "/n\n",
      "At random state 57, the trainig accuracy is :- 0.5462733532243729\n",
      "At random state 57, the testing accuracy is :- 0.5467949366135668\n",
      "/n\n",
      "At random state 58, the trainig accuracy is :- 0.552379350413284\n",
      "At random state 58, the testing accuracy is :- 0.5219182947719204\n",
      "/n\n",
      "At random state 59, the trainig accuracy is :- 0.5537976932783231\n",
      "At random state 59, the testing accuracy is :- 0.5157991016653131\n",
      "/n\n",
      "At random state 60, the trainig accuracy is :- 0.5500303155719567\n",
      "At random state 60, the testing accuracy is :- 0.534522465945189\n",
      "/n\n",
      "At random state 61, the trainig accuracy is :- 0.5412672127958921\n",
      "At random state 61, the testing accuracy is :- 0.5632946617909301\n",
      "/n\n",
      "At random state 62, the trainig accuracy is :- 0.5451040409280563\n",
      "At random state 62, the testing accuracy is :- 0.5545329513250284\n",
      "/n\n",
      "At random state 63, the trainig accuracy is :- 0.5508337814672337\n",
      "At random state 63, the testing accuracy is :- 0.529450459520082\n",
      "/n\n",
      "At random state 64, the trainig accuracy is :- 0.5446998107803454\n",
      "At random state 64, the testing accuracy is :- 0.5502022471554455\n",
      "/n\n",
      "At random state 65, the trainig accuracy is :- 0.5467392214179518\n",
      "At random state 65, the testing accuracy is :- 0.5390651554444841\n",
      "/n\n",
      "At random state 66, the trainig accuracy is :- 0.557365160402095\n",
      "At random state 66, the testing accuracy is :- 0.4981033600179082\n",
      "/n\n",
      "At random state 67, the trainig accuracy is :- 0.5493471237707106\n",
      "At random state 67, the testing accuracy is :- 0.5372639798242635\n",
      "/n\n",
      "At random state 68, the trainig accuracy is :- 0.5539299532791673\n",
      "At random state 68, the testing accuracy is :- 0.5181223147454302\n",
      "/n\n",
      "At random state 69, the trainig accuracy is :- 0.5434570898643747\n",
      "At random state 69, the testing accuracy is :- 0.5601138810334577\n",
      "/n\n",
      "At random state 70, the trainig accuracy is :- 0.5452991767349251\n",
      "At random state 70, the testing accuracy is :- 0.5513460191644488\n",
      "/n\n",
      "At random state 71, the trainig accuracy is :- 0.5472659622818551\n",
      "At random state 71, the testing accuracy is :- 0.5455853339936723\n",
      "/n\n",
      "At random state 72, the trainig accuracy is :- 0.5487978935783258\n",
      "At random state 72, the testing accuracy is :- 0.5389043211424247\n",
      "/n\n",
      "At random state 73, the trainig accuracy is :- 0.5503805451686435\n",
      "At random state 73, the testing accuracy is :- 0.5324844079500137\n",
      "/n\n",
      "At random state 74, the trainig accuracy is :- 0.5480841603135453\n",
      "At random state 74, the testing accuracy is :- 0.5422348799972466\n",
      "/n\n",
      "At random state 75, the trainig accuracy is :- 0.5496697990860049\n",
      "At random state 75, the testing accuracy is :- 0.5342077615308383\n",
      "/n\n",
      "At random state 76, the trainig accuracy is :- 0.5466373433757723\n",
      "At random state 76, the testing accuracy is :- 0.5471354166367406\n",
      "/n\n",
      "At random state 77, the trainig accuracy is :- 0.5413370846119983\n",
      "At random state 77, the testing accuracy is :- 0.5700653959291708\n",
      "/n\n",
      "At random state 78, the trainig accuracy is :- 0.5501982622533654\n",
      "At random state 78, the testing accuracy is :- 0.5326042782035665\n",
      "/n\n",
      "At random state 79, the trainig accuracy is :- 0.5526672990674389\n",
      "At random state 79, the testing accuracy is :- 0.5115283331058006\n",
      "/n\n",
      "At random state 80, the trainig accuracy is :- 0.5481544209565125\n",
      "At random state 80, the testing accuracy is :- 0.5411118135871661\n",
      "/n\n",
      "At random state 81, the trainig accuracy is :- 0.5368268836230734\n",
      "At random state 81, the testing accuracy is :- 0.5883886486668649\n",
      "/n\n",
      "At random state 82, the trainig accuracy is :- 0.5415088831019802\n",
      "At random state 82, the testing accuracy is :- 0.5699543928781517\n",
      "/n\n",
      "At random state 83, the trainig accuracy is :- 0.5531774809942707\n",
      "At random state 83, the testing accuracy is :- 0.5186954296748234\n",
      "/n\n",
      "At random state 84, the trainig accuracy is :- 0.555995648887241\n",
      "At random state 84, the testing accuracy is :- 0.5069940342096727\n",
      "/n\n",
      "At random state 85, the trainig accuracy is :- 0.5475660566765141\n",
      "At random state 85, the testing accuracy is :- 0.5426347508203939\n",
      "/n\n",
      "At random state 86, the trainig accuracy is :- 0.5512366414288842\n",
      "At random state 86, the testing accuracy is :- 0.5295882875543783\n",
      "/n\n",
      "At random state 87, the trainig accuracy is :- 0.5510003162354644\n",
      "At random state 87, the testing accuracy is :- 0.5262937633209761\n",
      "/n\n",
      "At random state 88, the trainig accuracy is :- 0.5389192194445974\n",
      "At random state 88, the testing accuracy is :- 0.5789964333784499\n",
      "/n\n",
      "At random state 89, the trainig accuracy is :- 0.5384747700822703\n",
      "At random state 89, the testing accuracy is :- 0.5810890373528641\n",
      "/n\n",
      "At random state 90, the trainig accuracy is :- 0.5501194156775728\n",
      "At random state 90, the testing accuracy is :- 0.5352172075565337\n",
      "/n\n",
      "At random state 91, the trainig accuracy is :- 0.548883766633742\n",
      "At random state 91, the testing accuracy is :- 0.5381807303320225\n",
      "/n\n",
      "At random state 92, the trainig accuracy is :- 0.557400720678152\n",
      "At random state 92, the testing accuracy is :- 0.5027004533655637\n",
      "/n\n",
      "At random state 93, the trainig accuracy is :- 0.5415091874611828\n",
      "At random state 93, the testing accuracy is :- 0.5681600116255388\n",
      "/n\n",
      "At random state 94, the trainig accuracy is :- 0.5450381730781436\n",
      "At random state 94, the testing accuracy is :- 0.5526978981169819\n",
      "/n\n",
      "At random state 95, the trainig accuracy is :- 0.5414731616127018\n",
      "At random state 95, the testing accuracy is :- 0.5678550052851172\n",
      "/n\n",
      "At random state 96, the trainig accuracy is :- 0.547257430689885\n",
      "At random state 96, the testing accuracy is :- 0.5464948206235241\n",
      "/n\n",
      "At random state 97, the trainig accuracy is :- 0.5435119741486765\n",
      "At random state 97, the testing accuracy is :- 0.561894650256322\n",
      "/n\n",
      "At random state 98, the trainig accuracy is :- 0.5585720767770876\n",
      "At random state 98, the testing accuracy is :- 0.5002082445851642\n",
      "/n\n",
      "At random state 99, the trainig accuracy is :- 0.554424187603076\n",
      "At random state 99, the testing accuracy is :- 0.5119146018332283\n",
      "/n\n"
     ]
    }
   ],
   "source": [
    "for i in range(0,100):\n",
    "    x_train,x_test,y_train,y_test=train_test_split(x,y,test_size=0.2,random_state=i)\n",
    "    lr.fit(x_train,y_train)\n",
    "    pred_train=lr.predict(x_train)\n",
    "    pred_test=lr.predict(x_test)\n",
    "    print(f'At random state {i}, the trainig accuracy is :- {r2_score(y_train,pred_train)}')\n",
    "    print(f'At random state {i}, the testing accuracy is :- {r2_score(y_test,pred_test)}')\n",
    "    print('/n')\n",
    "    \n",
    "    "
   ]
  },
  {
   "cell_type": "code",
   "execution_count": 63,
   "metadata": {},
   "outputs": [],
   "source": [
    "from sklearn.tree import DecisionTreeRegressor"
   ]
  },
  {
   "cell_type": "code",
   "execution_count": 64,
   "metadata": {},
   "outputs": [],
   "source": [
    "dtr=DecisionTreeRegressor()"
   ]
  },
  {
   "cell_type": "code",
   "execution_count": 65,
   "metadata": {},
   "outputs": [
    {
     "name": "stdout",
     "output_type": "stream",
     "text": [
      "At random state 0, the trainig accuracy is :- -0.5468716934679705\n",
      "At random state 0, the testing accuracy is :- -0.5693127880427038\n",
      "/n\n",
      "At random state 1, the trainig accuracy is :- -0.5312783527628671\n",
      "At random state 1, the testing accuracy is :- -0.5159936551215825\n",
      "/n\n",
      "At random state 2, the trainig accuracy is :- -0.5949094523515821\n",
      "At random state 2, the testing accuracy is :- -0.45530443035413937\n",
      "/n\n",
      "At random state 3, the trainig accuracy is :- -0.5648996408303844\n",
      "At random state 3, the testing accuracy is :- -0.6713896177508847\n",
      "/n\n",
      "At random state 4, the trainig accuracy is :- -0.5000588809074775\n",
      "At random state 4, the testing accuracy is :- -0.6139924458627448\n",
      "/n\n",
      "At random state 5, the trainig accuracy is :- -0.5230720058855336\n",
      "At random state 5, the testing accuracy is :- -0.636598003783539\n",
      "/n\n",
      "At random state 6, the trainig accuracy is :- -0.541780830388483\n",
      "At random state 6, the testing accuracy is :- -0.5119959920884463\n",
      "/n\n",
      "At random state 7, the trainig accuracy is :- -0.5510996745839172\n",
      "At random state 7, the testing accuracy is :- -0.5594422433226358\n",
      "/n\n",
      "At random state 8, the trainig accuracy is :- -0.5693124589135301\n",
      "At random state 8, the testing accuracy is :- -0.5958185738033555\n",
      "/n\n",
      "At random state 9, the trainig accuracy is :- -0.536365744765972\n",
      "At random state 9, the testing accuracy is :- -0.582738104252432\n",
      "/n\n",
      "At random state 10, the trainig accuracy is :- -0.5566240881785276\n",
      "At random state 10, the testing accuracy is :- -0.5733650642063695\n",
      "/n\n",
      "At random state 11, the trainig accuracy is :- -0.569585001764727\n",
      "At random state 11, the testing accuracy is :- -0.5179235573735801\n",
      "/n\n",
      "At random state 12, the trainig accuracy is :- -0.5480212875270893\n",
      "At random state 12, the testing accuracy is :- -0.5738012606201135\n",
      "/n\n",
      "At random state 13, the trainig accuracy is :- -0.5808220959051056\n",
      "At random state 13, the testing accuracy is :- -0.601701601986613\n",
      "/n\n",
      "At random state 14, the trainig accuracy is :- -0.6169810836357827\n",
      "At random state 14, the testing accuracy is :- -0.4985013409148451\n",
      "/n\n",
      "At random state 15, the trainig accuracy is :- -0.5187640120618431\n",
      "At random state 15, the testing accuracy is :- -0.6001526729371116\n",
      "/n\n",
      "At random state 16, the trainig accuracy is :- -0.49319353851426695\n",
      "At random state 16, the testing accuracy is :- -0.5825879030430685\n",
      "/n\n",
      "At random state 17, the trainig accuracy is :- -0.5067754840451253\n",
      "At random state 17, the testing accuracy is :- -0.543959997663269\n",
      "/n\n",
      "At random state 18, the trainig accuracy is :- -0.6101338479353251\n",
      "At random state 18, the testing accuracy is :- -0.4284564132722686\n",
      "/n\n",
      "At random state 19, the trainig accuracy is :- -0.5558512459134108\n",
      "At random state 19, the testing accuracy is :- -0.5930198227270844\n",
      "/n\n",
      "At random state 20, the trainig accuracy is :- -0.5561062394549952\n",
      "At random state 20, the testing accuracy is :- -0.507954821961061\n",
      "/n\n",
      "At random state 21, the trainig accuracy is :- -0.5225434300843252\n",
      "At random state 21, the testing accuracy is :- -0.49245211211221274\n",
      "/n\n",
      "At random state 22, the trainig accuracy is :- -0.5264405361945765\n",
      "At random state 22, the testing accuracy is :- -0.597918316104616\n",
      "/n\n",
      "At random state 23, the trainig accuracy is :- -0.5155668986081818\n",
      "At random state 23, the testing accuracy is :- -0.5418585033617136\n",
      "/n\n",
      "At random state 24, the trainig accuracy is :- -0.510616928577313\n",
      "At random state 24, the testing accuracy is :- -0.5465924595471705\n",
      "/n\n",
      "At random state 25, the trainig accuracy is :- -0.5288418924058378\n",
      "At random state 25, the testing accuracy is :- -0.5975524017706664\n",
      "/n\n",
      "At random state 26, the trainig accuracy is :- -0.5827929569887194\n",
      "At random state 26, the testing accuracy is :- -0.5163109224261637\n",
      "/n\n",
      "At random state 27, the trainig accuracy is :- -0.549357942736939\n",
      "At random state 27, the testing accuracy is :- -0.5548671930877003\n",
      "/n\n",
      "At random state 28, the trainig accuracy is :- -0.5364654726997167\n",
      "At random state 28, the testing accuracy is :- -0.6043246656347021\n",
      "/n\n",
      "At random state 29, the trainig accuracy is :- -0.5524687149967473\n",
      "At random state 29, the testing accuracy is :- -0.5148482135330039\n",
      "/n\n",
      "At random state 30, the trainig accuracy is :- -0.5154978438750508\n",
      "At random state 30, the testing accuracy is :- -0.5398173275904499\n",
      "/n\n",
      "At random state 31, the trainig accuracy is :- -0.5752864741304549\n",
      "At random state 31, the testing accuracy is :- -0.5559067115968901\n",
      "/n\n",
      "At random state 32, the trainig accuracy is :- -0.5875711866082705\n",
      "At random state 32, the testing accuracy is :- -0.5555994448430832\n",
      "/n\n",
      "At random state 33, the trainig accuracy is :- -0.5745946716719508\n",
      "At random state 33, the testing accuracy is :- -0.46129291738551714\n",
      "/n\n",
      "At random state 34, the trainig accuracy is :- -0.5525094077982242\n",
      "At random state 34, the testing accuracy is :- -0.6183620320847967\n",
      "/n\n",
      "At random state 35, the trainig accuracy is :- -0.5202552310641455\n",
      "At random state 35, the testing accuracy is :- -0.6758590672955966\n",
      "/n\n",
      "At random state 36, the trainig accuracy is :- -0.5143804985951581\n",
      "At random state 36, the testing accuracy is :- -0.5878483864486814\n",
      "/n\n",
      "At random state 37, the trainig accuracy is :- -0.5319282217025949\n",
      "At random state 37, the testing accuracy is :- -0.5589068876834131\n",
      "/n\n",
      "At random state 38, the trainig accuracy is :- -0.5442293750799991\n",
      "At random state 38, the testing accuracy is :- -0.5258393854637637\n",
      "/n\n",
      "At random state 39, the trainig accuracy is :- -0.5395280774237488\n",
      "At random state 39, the testing accuracy is :- -0.6340364605484654\n",
      "/n\n",
      "At random state 40, the trainig accuracy is :- -0.5909930050818315\n",
      "At random state 40, the testing accuracy is :- -0.5687150992532777\n",
      "/n\n",
      "At random state 41, the trainig accuracy is :- -0.6174887901277442\n",
      "At random state 41, the testing accuracy is :- -0.5844281902671176\n",
      "/n\n",
      "At random state 42, the trainig accuracy is :- -0.5593708079636288\n",
      "At random state 42, the testing accuracy is :- -0.6246815455379839\n",
      "/n\n",
      "At random state 43, the trainig accuracy is :- -0.5434399281013387\n",
      "At random state 43, the testing accuracy is :- -0.5450671141338888\n",
      "/n\n",
      "At random state 44, the trainig accuracy is :- -0.5589872088424623\n",
      "At random state 44, the testing accuracy is :- -0.5024514358107623\n",
      "/n\n",
      "At random state 45, the trainig accuracy is :- -0.5386941628512834\n",
      "At random state 45, the testing accuracy is :- -0.5591491048487167\n",
      "/n\n",
      "At random state 46, the trainig accuracy is :- -0.5965571491432511\n",
      "At random state 46, the testing accuracy is :- -0.5089537527679453\n",
      "/n\n",
      "At random state 47, the trainig accuracy is :- -0.5150887354154474\n",
      "At random state 47, the testing accuracy is :- -0.5936062830271491\n",
      "/n\n",
      "At random state 48, the trainig accuracy is :- -0.5204613397293116\n",
      "At random state 48, the testing accuracy is :- -0.685784457074859\n",
      "/n\n",
      "At random state 49, the trainig accuracy is :- -0.5611934394519482\n",
      "At random state 49, the testing accuracy is :- -0.560171411576416\n",
      "/n\n",
      "At random state 50, the trainig accuracy is :- -0.5842267036331195\n",
      "At random state 50, the testing accuracy is :- -0.5007538953761739\n",
      "/n\n",
      "At random state 51, the trainig accuracy is :- -0.5375690026174162\n",
      "At random state 51, the testing accuracy is :- -0.49191614090724034\n",
      "/n\n",
      "At random state 52, the trainig accuracy is :- -0.5442382315616561\n",
      "At random state 52, the testing accuracy is :- -0.5723223277397078\n",
      "/n\n",
      "At random state 53, the trainig accuracy is :- -0.5514552002576345\n",
      "At random state 53, the testing accuracy is :- -0.5571957229032307\n",
      "/n\n",
      "At random state 54, the trainig accuracy is :- -0.5084454618628653\n",
      "At random state 54, the testing accuracy is :- -0.4814709856304902\n",
      "/n\n",
      "At random state 55, the trainig accuracy is :- -0.5531097525994069\n",
      "At random state 55, the testing accuracy is :- -0.6222054347130406\n",
      "/n\n",
      "At random state 56, the trainig accuracy is :- -0.5948350644784344\n",
      "At random state 56, the testing accuracy is :- -0.6172985454066087\n",
      "/n\n",
      "At random state 57, the trainig accuracy is :- -0.5420176460614037\n",
      "At random state 57, the testing accuracy is :- -0.6176080226752125\n",
      "/n\n",
      "At random state 58, the trainig accuracy is :- -0.5626356258670755\n",
      "At random state 58, the testing accuracy is :- -0.5836673138462747\n",
      "/n\n",
      "At random state 59, the trainig accuracy is :- -0.5466817914668074\n",
      "At random state 59, the testing accuracy is :- -0.4640807324618137\n",
      "/n\n",
      "At random state 60, the trainig accuracy is :- -0.5470453879281489\n",
      "At random state 60, the testing accuracy is :- -0.5189015996925008\n",
      "/n\n",
      "At random state 61, the trainig accuracy is :- -0.5908638590219244\n",
      "At random state 61, the testing accuracy is :- -0.5692697874556607\n",
      "/n\n",
      "At random state 62, the trainig accuracy is :- -0.5961027050640044\n",
      "At random state 62, the testing accuracy is :- -0.5673626807287624\n",
      "/n\n",
      "At random state 63, the trainig accuracy is :- -0.575135740849221\n",
      "At random state 63, the testing accuracy is :- -0.5268040408785983\n",
      "/n\n",
      "At random state 64, the trainig accuracy is :- -0.5336847568106999\n",
      "At random state 64, the testing accuracy is :- -0.48983201278625277\n",
      "/n\n",
      "At random state 65, the trainig accuracy is :- -0.5110910414652123\n",
      "At random state 65, the testing accuracy is :- -0.5676605977167988\n",
      "/n\n",
      "At random state 66, the trainig accuracy is :- -0.5152512360689261\n",
      "At random state 66, the testing accuracy is :- -0.5921812711649548\n",
      "/n\n",
      "At random state 67, the trainig accuracy is :- -0.5732649605522044\n",
      "At random state 67, the testing accuracy is :- -0.54720895269408\n",
      "/n\n",
      "At random state 68, the trainig accuracy is :- -0.5203656188358692\n",
      "At random state 68, the testing accuracy is :- -0.5741078332962992\n",
      "/n\n",
      "At random state 69, the trainig accuracy is :- -0.5621188355885647\n",
      "At random state 69, the testing accuracy is :- -0.5432844021845966\n",
      "/n\n",
      "At random state 70, the trainig accuracy is :- -0.5486249419172038\n",
      "At random state 70, the testing accuracy is :- -0.5173153458796487\n",
      "/n\n",
      "At random state 71, the trainig accuracy is :- -0.5741817557703968\n",
      "At random state 71, the testing accuracy is :- -0.5752816206417317\n",
      "/n\n",
      "At random state 72, the trainig accuracy is :- -0.5709424164417047\n",
      "At random state 72, the testing accuracy is :- -0.5827019703334173\n",
      "/n\n",
      "At random state 73, the trainig accuracy is :- -0.5718885312927133\n",
      "At random state 73, the testing accuracy is :- -0.627990109785022\n",
      "/n\n",
      "At random state 74, the trainig accuracy is :- -0.5369078064524915\n",
      "At random state 74, the testing accuracy is :- -0.5935939269356099\n",
      "/n\n",
      "At random state 75, the trainig accuracy is :- -0.5478061370740823\n",
      "At random state 75, the testing accuracy is :- -0.6042875871332698\n",
      "/n\n",
      "At random state 76, the trainig accuracy is :- -0.5952104342390889\n",
      "At random state 76, the testing accuracy is :- -0.5853190155013974\n",
      "/n\n",
      "At random state 77, the trainig accuracy is :- -0.562986289454039\n",
      "At random state 77, the testing accuracy is :- -0.642816273137039\n",
      "/n\n",
      "At random state 78, the trainig accuracy is :- -0.528936196891761\n",
      "At random state 78, the testing accuracy is :- -0.5307656324266115\n",
      "/n\n",
      "At random state 79, the trainig accuracy is :- -0.5139473852878393\n",
      "At random state 79, the testing accuracy is :- -0.6130602673158978\n",
      "/n\n",
      "At random state 80, the trainig accuracy is :- -0.5476931376125738\n",
      "At random state 80, the testing accuracy is :- -0.5022468005323066\n",
      "/n\n",
      "At random state 81, the trainig accuracy is :- -0.5183013313112594\n",
      "At random state 81, the testing accuracy is :- -0.6006341854754143\n",
      "/n\n",
      "At random state 82, the trainig accuracy is :- -0.5749293681495515\n",
      "At random state 82, the testing accuracy is :- -0.5846759752505406\n",
      "/n\n",
      "At random state 83, the trainig accuracy is :- -0.5408089982394026\n",
      "At random state 83, the testing accuracy is :- -0.5975090826794556\n",
      "/n\n",
      "At random state 84, the trainig accuracy is :- -0.4918927357019971\n",
      "At random state 84, the testing accuracy is :- -0.5709162752207477\n",
      "/n\n",
      "At random state 85, the trainig accuracy is :- -0.6371441286271942\n",
      "At random state 85, the testing accuracy is :- -0.5076585483528577\n",
      "/n\n",
      "At random state 86, the trainig accuracy is :- -0.5832712823077084\n",
      "At random state 86, the testing accuracy is :- -0.4515126244550476\n",
      "/n\n",
      "At random state 87, the trainig accuracy is :- -0.5195742828234282\n",
      "At random state 87, the testing accuracy is :- -0.613903619372314\n",
      "/n\n",
      "At random state 88, the trainig accuracy is :- -0.5859015899171778\n",
      "At random state 88, the testing accuracy is :- -0.5223450326835268\n",
      "/n\n",
      "At random state 89, the trainig accuracy is :- -0.599983700992408\n",
      "At random state 89, the testing accuracy is :- -0.5892281509965478\n",
      "/n\n",
      "At random state 90, the trainig accuracy is :- -0.587625166183793\n",
      "At random state 90, the testing accuracy is :- -0.5329680372357595\n",
      "/n\n",
      "At random state 91, the trainig accuracy is :- -0.5510853113632612\n",
      "At random state 91, the testing accuracy is :- -0.5011032384139542\n",
      "/n\n",
      "At random state 92, the trainig accuracy is :- -0.5517061227601963\n",
      "At random state 92, the testing accuracy is :- -0.6037508232179272\n",
      "/n\n",
      "At random state 93, the trainig accuracy is :- -0.5412706738249051\n",
      "At random state 93, the testing accuracy is :- -0.6430101812117484\n",
      "/n\n",
      "At random state 94, the trainig accuracy is :- -0.5497185879343169\n",
      "At random state 94, the testing accuracy is :- -0.5646159344173474\n",
      "/n\n",
      "At random state 95, the trainig accuracy is :- -0.5697873593416403\n",
      "At random state 95, the testing accuracy is :- -0.6277642314650134\n",
      "/n\n",
      "At random state 96, the trainig accuracy is :- -0.5174359000484055\n",
      "At random state 96, the testing accuracy is :- -0.6079433585548288\n",
      "/n\n",
      "At random state 97, the trainig accuracy is :- -0.5020307837232036\n",
      "At random state 97, the testing accuracy is :- -0.6184523461355302\n",
      "/n\n",
      "At random state 98, the trainig accuracy is :- -0.5757019746815435\n",
      "At random state 98, the testing accuracy is :- -0.6242930198046541\n",
      "/n\n",
      "At random state 99, the trainig accuracy is :- 0.5548485746446667\n",
      "At random state 99, the testing accuracy is :- 0.5250077461010989\n",
      "/n\n"
     ]
    }
   ],
   "source": [
    "for i in range(0,100):\n",
    "    x_train,x_test,y_train,y_test=train_test_split(x,y,test_size=0.3,random_state=i)\n",
    "    dtr.fit(x_train,y_train)\n",
    "    preddtr_train=dtr.predict(x_train)\n",
    "    preddtr_test=dtr.predict(x_test)\n",
    "    print(f'At random state {i}, the trainig accuracy is :- {r2_score(y_train,pred_train)}')\n",
    "    print(f'At random state {i}, the testing accuracy is :- {r2_score(y_test,pred_test)}')\n",
    "    print('/n')"
   ]
  },
  {
   "cell_type": "code",
   "execution_count": 67,
   "metadata": {},
   "outputs": [],
   "source": [
    "x_train,x_test,y_train,y_test=train_test_split(x,y,test_size=0.2,random_state=16)    "
   ]
  },
  {
   "cell_type": "code",
   "execution_count": 69,
   "metadata": {},
   "outputs": [
    {
     "data": {
      "text/plain": [
       "LinearRegression()"
      ]
     },
     "execution_count": 69,
     "metadata": {},
     "output_type": "execute_result"
    }
   ],
   "source": [
    "lr.fit(x_train,y_train)"
   ]
  },
  {
   "cell_type": "code",
   "execution_count": 71,
   "metadata": {},
   "outputs": [
    {
     "data": {
      "text/plain": [
       "array([ 8.90837206,  8.89162174, 11.92971985, 12.65222824, 15.19483432,\n",
       "        8.37199716, 12.15227699,  6.53665152,  7.50686859,  9.66335726,\n",
       "        9.36788561,  8.6887366 ,  8.87399569, 11.08741523, 10.44100968,\n",
       "        8.68270099,  8.49470571,  9.93252894, 10.98353871, 10.58963893,\n",
       "        5.1531519 ,  8.96501344, 11.59340669, 11.77280996,  9.03057978,\n",
       "        7.41253132, 11.45966183,  7.06268965, 13.39721448, 11.32816277,\n",
       "       14.80868096,  6.5924308 ,  7.02317699, 11.6247546 ,  8.81090198,\n",
       "       11.38552306,  9.62229973,  6.96651793, 10.40333802, 13.5476158 ,\n",
       "        8.17409113,  7.16720149,  7.56059631,  7.78172152, 10.18925238,\n",
       "       10.72481627, 10.18548511, 12.01620388,  6.25063653, 10.06829138,\n",
       "       10.24091454,  6.9574766 ,  7.53601982, 10.076526  ,  8.27503547,\n",
       "       11.76572035, 11.62660043,  6.0102076 ,  8.36132861, 10.21944079,\n",
       "        7.84378677,  9.64247461, 12.84338769, 14.01411238, 11.97839291,\n",
       "       10.3808975 , 10.60934371, 11.11374155, 12.4491161 , 13.6018344 ,\n",
       "        6.51732656,  9.85931963, 10.98950489,  6.4230453 ,  6.18364259,\n",
       "       14.66261432,  8.57763064, 18.88487118, 12.4903709 , 10.67969697,\n",
       "        7.56160878, 13.92745872,  4.72838654,  9.52178271, 10.56753512,\n",
       "       11.94954475, 11.19251813, 15.9479485 , 12.86937084,  8.41929374,\n",
       "       10.21736341,  7.41158217,  8.53383081,  8.05062632,  8.53068957,\n",
       "        9.84012106, 10.32967931,  7.35677446, 10.90238652, 10.96505039,\n",
       "       10.23471742,  9.00736687,  6.80336142,  7.23676834, 11.51487689,\n",
       "        8.4915594 , 10.54102441,  9.43439856, 11.14882385,  8.14417955,\n",
       "        7.10468344,  7.87578376,  8.09342124, 12.8024037 ,  6.98157476,\n",
       "        9.25368167,  7.11424824,  9.70843784, 11.48069268,  8.74220297,\n",
       "       12.55911596,  9.35318573,  8.47666062,  7.426649  ,  7.62560482,\n",
       "        9.30599291,  9.47719164,  8.65681339,  9.50551997, 16.78013901,\n",
       "        8.19471766,  8.30874005,  9.32599356,  8.41203541,  8.97141878,\n",
       "        9.37021202,  5.30380943,  9.44681381, 10.11629152, 11.31688594,\n",
       "       13.71687673,  7.0028407 , 10.21096269, 15.52329079, 11.4158302 ,\n",
       "        9.66949603, 10.31038701, 10.27884898,  7.37126577,  6.45582015,\n",
       "        8.3528135 ,  7.01434718,  8.99961861,  8.89536715,  6.9037157 ,\n",
       "        7.4733239 ,  8.25728952,  8.9919718 , 11.0850177 ,  7.8820532 ,\n",
       "        9.18480385, 12.5482514 ,  9.67402149, 10.48663109,  6.83831597,\n",
       "        9.23477834, 11.78423337,  8.65824223,  9.42294508,  8.09410991,\n",
       "       11.16167233, 14.35291232,  7.53272771,  7.59494262, 13.86890845,\n",
       "       11.35801898,  6.93062649, 10.92259639,  9.79710138, 11.34576893,\n",
       "        8.23127664,  7.48883386,  8.36371158,  9.01385983, 10.53460908,\n",
       "       11.70010795,  9.17567014, 10.82684821,  6.85434414,  9.76081456,\n",
       "        7.42987669,  9.15991427, 11.54006421,  9.02795482, 10.09847468,\n",
       "        8.32205767, 10.38219832,  9.43783687, 13.63101512,  7.25562749,\n",
       "        8.40153957,  8.64985472,  8.66915706,  9.13242423, 13.39090333,\n",
       "       12.19343485,  9.12918265,  9.0374552 ,  9.81392125, 11.05534509,\n",
       "       11.38110885, 12.16941196, 10.07396156,  7.19489662, 10.13571113,\n",
       "        9.54009218, 12.61064297,  6.43566773,  9.1899735 ,  6.65322557,\n",
       "       14.05115824,  8.55180572,  7.04778874,  6.23079041,  9.88566656,\n",
       "       12.99958994,  7.51548483,  7.11338607, 11.70379143,  9.19577347,\n",
       "       10.50514957, 10.67646027, 16.02043322, 11.21157041,  5.27687001,\n",
       "        9.47083386,  8.68025333,  5.73172801,  8.45272343,  7.145077  ,\n",
       "       12.15486632, 11.18727418,  7.80701072,  9.59410144, 11.46185675,\n",
       "       10.83473174,  9.30807222, 10.19033593, 12.50610055,  7.34378325,\n",
       "       14.81028595,  9.92556188,  9.61883113,  8.3563286 , 10.49741914,\n",
       "        6.23488239,  8.20846026,  8.80496466,  8.30751664, 10.15412514,\n",
       "        9.72968718, 10.34730632, 11.38102188, 10.54561541, 12.3006122 ,\n",
       "        7.28106991,  8.03724357, 11.19226473,  7.90282477, 12.26338331,\n",
       "        7.30847013,  8.40894744,  9.15193901, 13.72919638,  8.62127904,\n",
       "       12.97727751, 12.8036534 ,  7.18173   , 11.85328064, 11.16729194,\n",
       "        9.7553584 , 10.85963111, 11.11685072,  7.46190434,  8.00038316,\n",
       "       10.89232875,  7.98443506, 16.16323885, 15.79597284, 14.59116825,\n",
       "        9.76468047,  8.09946785, 11.60495573,  8.77252216,  8.54446945,\n",
       "        7.44290021,  8.00480209, 10.5294041 , 10.02923481, 10.47140087,\n",
       "       10.51282761,  7.34625818,  9.76636846,  9.54634983,  9.57396635,\n",
       "        5.83306018, 10.55621879, 12.43819287,  8.89112816,  9.52832703,\n",
       "        9.8074462 , 12.75090024,  8.79673945,  9.6295054 , 10.49771344,\n",
       "        9.71840584, 15.51356672, 10.40342619,  9.6821711 , 12.6313296 ,\n",
       "       14.18055354,  8.30108826, 12.61488144,  9.19508733,  9.30782278,\n",
       "        9.05146085,  9.46673243,  9.43201943, 13.61616864,  9.17605626,\n",
       "        9.76709826,  9.19635005, 14.54223374, 14.3470755 , 10.57116712,\n",
       "       11.52154313, 12.87583605, 11.74501701, 10.63502399, 14.33191856,\n",
       "       15.7470729 ,  7.73776161,  9.37148581, 11.12678684, 11.95529786,\n",
       "       11.65137363, 10.85329588,  8.98049175,  9.09356444,  9.23350099,\n",
       "        8.22579603, 10.47406987,  9.65864486,  9.04164698,  7.499787  ,\n",
       "        9.30556515,  6.56213907, 11.28574862,  7.46499431,  7.44262731,\n",
       "        7.36734836,  7.59475937,  5.95593848, 11.02341642,  8.59313882,\n",
       "        7.42185742, 10.08592068, 10.40025334,  9.21411699, 13.38926411,\n",
       "       12.49595578,  6.94424065, 12.57907341,  8.98266201,  6.41075887,\n",
       "        9.12919441, 10.51121745,  9.86119518, 13.35698019,  9.56550227,\n",
       "        8.63921611,  8.86595043,  7.2788498 , 15.55243095,  9.28919342,\n",
       "       11.61215358, 14.61782323, 13.61245304,  7.66199639, 10.74612696,\n",
       "        9.46367015,  7.54554369, 15.8354918 ,  9.38367567, 13.22887084,\n",
       "       10.4273664 , 10.53692572, 12.08122059,  9.63764153,  7.68602842,\n",
       "        7.80930639,  9.74717515,  7.13178492, 12.6443738 ,  8.19820575,\n",
       "        7.03108948, 11.29467122,  8.75472524,  9.38722947,  8.74366335,\n",
       "       11.57322775,  9.06880316,  8.19568028, 10.63042623,  5.76592561,\n",
       "       12.29180189, 12.87335813, 12.41950177,  8.96382233, 10.06201264,\n",
       "       14.43123929,  8.29608696,  7.32506358,  8.77482858, 10.6358553 ,\n",
       "       10.50134518,  7.43274483,  9.8257682 , 13.16313469, 10.29477531,\n",
       "        9.38426957,  7.95377626, 11.29953647, 12.84981445,  7.86395389,\n",
       "       10.58905043,  9.9686197 ,  7.3409017 , 11.36948644, 11.30031532,\n",
       "        9.27884208,  8.42419863, 11.46644129,  7.10345715,  8.19251177,\n",
       "       12.36516955,  5.06686042,  9.63576944,  5.60677632,  8.83173888,\n",
       "       10.70829534,  6.14846316,  5.61301543, 11.14919083,  9.93142612,\n",
       "        7.78619723, 10.98803356,  8.2978521 ,  9.65705434,  6.4459577 ,\n",
       "        7.35902735,  7.9318785 ,  8.23069352,  9.37669561,  7.95710453,\n",
       "        6.8842884 ,  7.8497483 ,  7.31436123,  7.62891011,  9.1741077 ,\n",
       "        6.00018168, 13.66833187, 11.49045036,  9.22807196,  6.30359655,\n",
       "        9.93405426,  8.21802137, 14.85909175, 12.55799522,  7.87228548,\n",
       "        9.06408909, 11.09436278,  6.75721709, 11.68864017, 10.38616135,\n",
       "       11.71856275,  8.28768472, 12.48174001, 10.26401994,  7.85288401,\n",
       "        5.4234519 , 11.86863603,  8.14380036,  9.22726613,  7.53357804,\n",
       "        6.12002709, 13.3961489 , 12.05726347,  6.382241  ,  7.96330912,\n",
       "       14.02823755, 11.31448506,  8.63280428, 16.02690812,  8.68275453,\n",
       "        9.72934775,  9.60948144,  6.77951825,  7.10567935,  8.37958512,\n",
       "       12.92213345, 11.34497489, 10.09499381,  7.86522411,  9.17662951,\n",
       "       10.66249635, 10.51735114,  7.71750812, 14.13028281,  8.06073942,\n",
       "       10.59806637,  9.31069384, 10.52686297, 15.8340185 , 10.4519992 ,\n",
       "       12.42556854, 10.79784844, 10.38166099, 13.55110584,  7.32367156,\n",
       "       10.25445417,  8.71811685,  8.59283512,  8.45698297, 11.34550759,\n",
       "        9.17407595,  9.36814999, 11.90137989,  8.03603252,  9.28916397,\n",
       "       13.57896182, 10.76347977,  7.28846673, 11.40626158,  8.00058293,\n",
       "       13.30515458,  9.14029878, 12.48707184,  9.28338449,  9.33365702,\n",
       "        9.04860236,  7.70089738,  8.49663966,  8.51129037, 11.60778193,\n",
       "       10.67192142, 11.2789415 , 10.05478918, 11.38391734, 18.72235006,\n",
       "        7.37234577,  8.76731949,  9.24313518, 11.08548943,  8.85192718,\n",
       "       10.79268378, 10.88154182, 10.71817147,  8.6097832 ,  5.10252232,\n",
       "       11.30089359, 10.10316325, 10.52640939,  7.81839151,  9.07814607,\n",
       "       11.21799443,  8.68310195, 12.78455278, 15.32592489,  6.5271582 ,\n",
       "        9.79022682, 11.21582484, 12.86182431, 10.37456109,  7.22653313,\n",
       "       10.69725586,  8.75721281,  8.30487878,  9.44023467,  8.78777974,\n",
       "       10.46672108,  6.44892896, 11.29481009,  5.54078492,  8.76062042,\n",
       "        8.86272583, 15.32672577, 13.4565663 , 11.81526981,  7.23125932,\n",
       "       11.60157769, 14.08030596, 10.21584459,  9.15762802, 13.52915166,\n",
       "       10.65572879,  9.80267017, 10.49303985,  7.99560866,  9.55666102,\n",
       "        8.86228007,  7.61709636, 12.33353808,  8.60903204,  9.79205549,\n",
       "        8.72947994, 11.2273433 , 12.60787504, 11.08785788,  7.93182759,\n",
       "        9.66222292, 11.29414548, 11.35838634,  8.35134033, 14.42510309,\n",
       "        9.84326275, 12.23855841,  6.27731068, 12.11881777,  7.77156533,\n",
       "        7.16792854, 12.47767316, 11.17932905,  9.39997813,  8.40107689,\n",
       "       12.63585202, 10.49470453, 17.25185524,  9.1986669 , 13.19666578,\n",
       "        9.13815823, 10.59217795, 10.2720062 ,  8.081877  ,  8.6550742 ,\n",
       "       10.95892554, 14.0880204 ,  9.79289141, 12.57527039, 12.19493399,\n",
       "       11.9682363 , 12.49781201, 10.10538042,  7.51692348,  9.76108155,\n",
       "        8.71284926, 13.90325912, 10.69286579,  6.91605858, 10.75485146,\n",
       "        7.5911804 , 10.57394402,  7.79449817,  9.72430768,  9.48607074,\n",
       "       10.51409937,  8.18999905, 10.99443983,  9.40103761, 11.77182939,\n",
       "        9.44342251, 10.17855912, 13.93722615, 11.48217222,  9.84807916,\n",
       "        7.85818011,  6.94941374, 11.23892341,  8.88174573,  6.68475504,\n",
       "       11.69526645, 10.30954432,  9.15358689, 10.52007461, 12.60521103,\n",
       "       10.47925186, 13.95642487, 13.86304861,  8.00403705,  9.84599508,\n",
       "        9.21433215, 11.6986633 , 10.58904626, 13.13067931, 10.26573621,\n",
       "        8.85248747, 12.79657906,  6.84607557, 10.45528965, 10.16628779,\n",
       "       10.40386944,  8.48604874,  7.49856445, 11.65318864, 10.99290891,\n",
       "        9.83885696,  9.93775061, 13.0142157 , 13.50625947,  9.32116675,\n",
       "       12.98362708,  9.85478247, 10.8444288 , 10.76955512, 10.81545594,\n",
       "        8.41486665, 10.85506634, 14.16275573, 13.25412324, 14.33663512,\n",
       "       10.50951929,  7.37430262,  9.88198776,  9.56362229,  9.25774315,\n",
       "        8.20930551, 11.92489353,  7.19986466, 13.51992471, 12.97188475,\n",
       "       12.09696351,  9.70436938,  8.34226386,  8.23840582, 11.47691528,\n",
       "       11.91326362,  9.17838356,  8.06852073, 10.24832839,  6.62448238,\n",
       "       10.68260732, 15.33333553,  9.00830127, 10.96708251, 11.93779609,\n",
       "       11.39720722,  9.53363095,  9.31323318,  7.15615163,  7.83726249,\n",
       "        9.82018861,  6.84030293, 11.86967865,  9.72304768, 11.44249938,\n",
       "        8.84509444,  9.63037158, 11.64706853,  6.58029986,  6.20906385,\n",
       "        9.41899423, 11.80869979,  8.94666177, 10.38131396,  7.048145  ,\n",
       "       10.50356983,  8.24719866,  7.61415403, 10.12157629, 13.12071104,\n",
       "       12.4925238 ,  6.65082778, 13.36213389, 10.96834642,  8.78653245,\n",
       "        6.05641758,  7.9983951 ,  7.19847155, 12.74942705, 10.61709425,\n",
       "        7.87499716,  6.02529151,  7.75442025,  9.84567761,  6.8019277 ,\n",
       "       10.38406064, 11.35120805, 11.88371263, 15.36408754,  9.6727931 ,\n",
       "       12.04427818,  8.67736185,  6.99211795,  7.88015756, 11.93953753,\n",
       "        7.12669624, 13.71557094,  8.67875535,  9.15302287, 10.00596296,\n",
       "       10.99885791, 10.90361663,  6.89127897,  8.40127853,  9.09825925,\n",
       "        6.66011161, 11.11097942, 11.71495539,  9.20824978, 11.97023862,\n",
       "       11.87043325, 12.49263543,  6.7998324 ,  5.96744645,  9.88815668,\n",
       "        7.08420177, 10.63413512,  8.79167567,  6.43162806,  6.88936766,\n",
       "       12.21985681,  9.74849424,  8.25781552,  7.85312247,  8.24271803,\n",
       "       11.74654053,  6.96969874, 10.7425323 , 10.97744063,  9.43679726,\n",
       "        6.62578908,  7.88303426, 12.82411741,  9.6937315 ,  9.59136929,\n",
       "       13.54215389])"
      ]
     },
     "execution_count": 71,
     "metadata": {},
     "output_type": "execute_result"
    }
   ],
   "source": [
    "pred_test=lr.predict(x_test)\n",
    "pred_test"
   ]
  },
  {
   "cell_type": "code",
   "execution_count": 72,
   "metadata": {},
   "outputs": [
    {
     "name": "stdout",
     "output_type": "stream",
     "text": [
      "0.5526963385042012\n"
     ]
    }
   ],
   "source": [
    "print(r2_score(y_test,pred_test))"
   ]
  },
  {
   "cell_type": "markdown",
   "metadata": {},
   "source": [
    "# Cross_validation of the Model"
   ]
  },
  {
   "cell_type": "code",
   "execution_count": 74,
   "metadata": {},
   "outputs": [
    {
     "name": "stdout",
     "output_type": "stream",
     "text": [
      "At cross fold 2 the cv score is 0.53966011673721 and the accuracy score for training is -0.5069297812153886 and the accuracy score for testing is 0.5526963385042012\n",
      "\n",
      "\n",
      "At cross fold 3 the cv score is 0.5224646909947886 and the accuracy score for training is -0.5069297812153886 and the accuracy score for testing is 0.5526963385042012\n",
      "\n",
      "\n",
      "At cross fold 4 the cv score is 0.44199011762545903 and the accuracy score for training is -0.5069297812153886 and the accuracy score for testing is 0.5526963385042012\n",
      "\n",
      "\n",
      "At cross fold 5 the cv score is 0.4369367878713025 and the accuracy score for training is -0.5069297812153886 and the accuracy score for testing is 0.5526963385042012\n",
      "\n",
      "\n",
      "At cross fold 6 the cv score is 0.44145333531660785 and the accuracy score for training is -0.5069297812153886 and the accuracy score for testing is 0.5526963385042012\n",
      "\n",
      "\n",
      "At cross fold 7 the cv score is 0.46484028895730856 and the accuracy score for training is -0.5069297812153886 and the accuracy score for testing is 0.5526963385042012\n",
      "\n",
      "\n",
      "At cross fold 8 the cv score is 0.398996223813241 and the accuracy score for training is -0.5069297812153886 and the accuracy score for testing is 0.5526963385042012\n",
      "\n",
      "\n",
      "At cross fold 9 the cv score is 0.4420884467601531 and the accuracy score for training is -0.5069297812153886 and the accuracy score for testing is 0.5526963385042012\n",
      "\n",
      "\n"
     ]
    }
   ],
   "source": [
    "Train_accuracy=r2_score(y_train,pred_train)\n",
    "Test_accuracy=r2_score(y_test,pred_test)\n",
    "\n",
    "from sklearn.model_selection import cross_val_score\n",
    "for j in range(2,10):\n",
    "    cv_score=cross_val_score(lr,x,y,cv=j)\n",
    "    cv_mean=cv_score.mean()\n",
    "    print(f'At cross fold {j} the cv score is {cv_mean} and the accuracy score for training is {Train_accuracy} and the accuracy score for testing is {Test_accuracy}')\n",
    "    print('\\n')      "
   ]
  },
  {
   "cell_type": "code",
   "execution_count": 75,
   "metadata": {},
   "outputs": [
    {
     "data": {
      "image/png": "[encoded data removed]",
      "text/plain": [
       "<Figure size 576x432 with 1 Axes>"
      ]
     },
     "metadata": {
      "needs_background": "light"
     },
     "output_type": "display_data"
    }
   ],
   "source": [
    "import matplotlib.pyplot as plt \n",
    "plt.figure(figsize=(8,6))\n",
    "plt.scatter(x=y_test,y=pred_test,color='red')\n",
    "plt.plot(y_test,y_test,color='b')\n",
    "plt.xlabel('ActualRings',fontsize=14)\n",
    "plt.ylabel('PredictedRings',fontsize=14)\n",
    "plt.title('Linear Regression',fontsize=18)\n",
    "plt.show()"
   ]
  },
  {
   "cell_type": "markdown",
   "metadata": {},
   "source": [
    "# Regularization"
   ]
  },
  {
   "cell_type": "code",
   "execution_count": 76,
   "metadata": {},
   "outputs": [],
   "source": [
    "from sklearn.model_selection import GridSearchCV\n",
    "from sklearn.model_selection import cross_val_score\n",
    "import warnings\n",
    "warnings.filterwarnings('ignore')"
   ]
  },
  {
   "cell_type": "code",
   "execution_count": 78,
   "metadata": {},
   "outputs": [
    {
     "name": "stdout",
     "output_type": "stream",
     "text": [
      "{'alpha': 0.001, 'random_state': 0}\n"
     ]
    }
   ],
   "source": [
    "from sklearn.linear_model import Lasso\n",
    "parameters={'alpha':[.0001,.001,.01,1,10],'random_state':list(range(0,10))}\n",
    "ls=Lasso()\n",
    "clf=GridSearchCV(ls,parameters)\n",
    "clf.fit(x_train,y_train)\n",
    "\n",
    "print(clf.best_params_)"
   ]
  },
  {
   "cell_type": "code",
   "execution_count": 79,
   "metadata": {},
   "outputs": [
    {
     "data": {
      "text/plain": [
       "0.5526646427431914"
      ]
     },
     "execution_count": 79,
     "metadata": {},
     "output_type": "execute_result"
    }
   ],
   "source": [
    "ls=Lasso(alpha=0.001,random_state=0)\n",
    "ls.fit(x_train,y_train)\n",
    "ls.score(x_train,y_train)\n",
    "pred_ls= ls.predict(x_test)\n",
    "\n",
    "lss=r2_score(y_test,pred_ls)\n",
    "lss"
   ]
  },
  {
   "cell_type": "code",
   "execution_count": 80,
   "metadata": {},
   "outputs": [
    {
     "data": {
      "text/plain": [
       "0.4373119145515122"
      ]
     },
     "execution_count": 80,
     "metadata": {},
     "output_type": "execute_result"
    }
   ],
   "source": [
    "cv_score=cross_val_score(ls,x,y,cv=5)\n",
    "cv_mean=cv_score.mean()\n",
    "cv_mean"
   ]
  },
  {
   "cell_type": "markdown",
   "metadata": {},
   "source": [
    "# Ensemble Technique"
   ]
  },
  {
   "cell_type": "code",
   "execution_count": 82,
   "metadata": {},
   "outputs": [
    {
     "name": "stdout",
     "output_type": "stream",
     "text": [
      "{'criterion': 'mae', 'max_features': 'log2'}\n"
     ]
    }
   ],
   "source": [
    "from sklearn.model_selection import GridSearchCV\n",
    "from sklearn.ensemble import RandomForestRegressor\n",
    "\n",
    "parameters={'criterion':['mse','mae'],'max_features':['auto','sqrt','log2']}\n",
    "rf=RandomForestRegressor()\n",
    "clf=GridSearchCV(rf,parameters)\n",
    "clf.fit(x_train,y_train)\n",
    "\n",
    "print(clf.best_params_)"
   ]
  },
  {
   "cell_type": "code",
   "execution_count": 83,
   "metadata": {},
   "outputs": [
    {
     "name": "stdout",
     "output_type": "stream",
     "text": [
      "R2 score : 55.63864375850949\n",
      "Cross Val Score : 45.14060710986126\n"
     ]
    }
   ],
   "source": [
    "rf=RandomForestRegressor(criterion='mae',max_features='log2')\n",
    "rf.fit(x_train,y_train)\n",
    "rf.score(x_train,y_train)\n",
    "pred_decision = rf.predict(x_test)\n",
    "\n",
    "\n",
    "rfs=r2_score(y_test,pred_decision)\n",
    "print('R2 score :',rfs*100)\n",
    "\n",
    "rfscore= cross_val_score(rf,x,y,cv=5)\n",
    "rfc=rfscore.mean()\n",
    "print('Cross Val Score :',rfc*100)\n"
   ]
  },
  {
   "cell_type": "markdown",
   "metadata": {},
   "source": [
    "# Saving The Model"
   ]
  },
  {
   "cell_type": "code",
   "execution_count": 84,
   "metadata": {},
   "outputs": [],
   "source": [
    "import pickle\n",
    "filename='Abalone.pk1'\n",
    "pickle.dump(rf, open(filename,'wb'))"
   ]
  },
  {
   "cell_type": "markdown",
   "metadata": {},
   "source": [
    "# Conclusion:"
   ]
  },
  {
   "cell_type": "code",
   "execution_count": 86,
   "metadata": {},
   "outputs": [
    {
     "name": "stdout",
     "output_type": "stream",
     "text": [
      "0.5563864375850949\n"
     ]
    }
   ],
   "source": [
    "loaded_model=pickle.load(open('Abalone.pk1','rb'))\n",
    "result=loaded_model.score(x_test,y_test)\n",
    "print(result)"
   ]
  },
  {
   "cell_type": "code",
   "execution_count": 87,
   "metadata": {},
   "outputs": [
    {
     "data": {
      "text/html": [
       "<div>\n",
       "<style scoped>\n",
       "    .dataframe tbody tr th:only-of-type {\n",
       "        vertical-align: middle;\n",
       "    }\n",
       "\n",
       "    .dataframe tbody tr th {\n",
       "        vertical-align: top;\n",
       "    }\n",
       "\n",
       "    .dataframe thead th {\n",
       "        text-align: right;\n",
       "    }\n",
       "</style>\n",
       "<table border=\"1\" class=\"dataframe\">\n",
       "  <thead>\n",
       "    <tr style=\"text-align: right;\">\n",
       "      <th></th>\n",
       "      <th>0</th>\n",
       "      <th>1</th>\n",
       "      <th>2</th>\n",
       "      <th>3</th>\n",
       "      <th>4</th>\n",
       "      <th>5</th>\n",
       "      <th>6</th>\n",
       "      <th>7</th>\n",
       "      <th>8</th>\n",
       "      <th>9</th>\n",
       "      <th>...</th>\n",
       "      <th>826</th>\n",
       "      <th>827</th>\n",
       "      <th>828</th>\n",
       "      <th>829</th>\n",
       "      <th>830</th>\n",
       "      <th>831</th>\n",
       "      <th>832</th>\n",
       "      <th>833</th>\n",
       "      <th>834</th>\n",
       "      <th>835</th>\n",
       "    </tr>\n",
       "  </thead>\n",
       "  <tbody>\n",
       "    <tr>\n",
       "      <th>Predicted</th>\n",
       "      <td>10.39</td>\n",
       "      <td>9.39</td>\n",
       "      <td>10.9</td>\n",
       "      <td>11.92</td>\n",
       "      <td>13.83</td>\n",
       "      <td>9.08</td>\n",
       "      <td>11.21</td>\n",
       "      <td>4.15</td>\n",
       "      <td>6.33</td>\n",
       "      <td>11.28</td>\n",
       "      <td>...</td>\n",
       "      <td>7.46</td>\n",
       "      <td>10.61</td>\n",
       "      <td>10.36</td>\n",
       "      <td>11.68</td>\n",
       "      <td>6.16</td>\n",
       "      <td>8.04</td>\n",
       "      <td>13.95</td>\n",
       "      <td>10.99</td>\n",
       "      <td>9.46</td>\n",
       "      <td>13.91</td>\n",
       "    </tr>\n",
       "    <tr>\n",
       "      <th>Original</th>\n",
       "      <td>10.39</td>\n",
       "      <td>9.39</td>\n",
       "      <td>10.9</td>\n",
       "      <td>11.92</td>\n",
       "      <td>13.83</td>\n",
       "      <td>9.08</td>\n",
       "      <td>11.21</td>\n",
       "      <td>4.15</td>\n",
       "      <td>6.33</td>\n",
       "      <td>11.28</td>\n",
       "      <td>...</td>\n",
       "      <td>7.46</td>\n",
       "      <td>10.61</td>\n",
       "      <td>10.36</td>\n",
       "      <td>11.68</td>\n",
       "      <td>6.16</td>\n",
       "      <td>8.04</td>\n",
       "      <td>13.95</td>\n",
       "      <td>10.99</td>\n",
       "      <td>9.46</td>\n",
       "      <td>13.91</td>\n",
       "    </tr>\n",
       "  </tbody>\n",
       "</table>\n",
       "<p>2 rows × 836 columns</p>\n",
       "</div>"
      ],
      "text/plain": [
       "             0     1     2      3      4     5      6     7     8      9    \\\n",
       "Predicted  10.39  9.39  10.9  11.92  13.83  9.08  11.21  4.15  6.33  11.28   \n",
       "Original   10.39  9.39  10.9  11.92  13.83  9.08  11.21  4.15  6.33  11.28   \n",
       "\n",
       "           ...   826    827    828    829   830   831    832    833   834  \\\n",
       "Predicted  ...  7.46  10.61  10.36  11.68  6.16  8.04  13.95  10.99  9.46   \n",
       "Original   ...  7.46  10.61  10.36  11.68  6.16  8.04  13.95  10.99  9.46   \n",
       "\n",
       "             835  \n",
       "Predicted  13.91  \n",
       "Original   13.91  \n",
       "\n",
       "[2 rows x 836 columns]"
      ]
     },
     "execution_count": 87,
     "metadata": {},
     "output_type": "execute_result"
    }
   ],
   "source": [
    "conclusion=pd.DataFrame([loaded_model.predict(x_test)[:],pred_decision[:]],index=['Predicted','Original'])\n",
    "conclusion"
   ]
  },
  {
   "cell_type": "code",
   "execution_count": null,
   "metadata": {},
   "outputs": [],
   "source": []
  }
 ],
 "metadata": {
  "kernelspec": {
   "display_name": "Python 3",
   "language": "python",
   "name": "python3"
  },
  "language_info": {
   "codemirror_mode": {
    "name": "ipython",
    "version": 3
   },
   "file_extension": ".py",
   "mimetype": "text/x-python",
   "name": "python",
   "nbconvert_exporter": "python",
   "pygments_lexer": "ipython3",
   "version": "3.8.5"
  }
 },
 "nbformat": 4,
 "nbformat_minor": 4
}
