{
 "cells": [
  {
   "cell_type": "markdown",
   "metadata": {},
   "source": [
    "# Advertising Sales Channel Prediction"
   ]
  },
  {
   "cell_type": "markdown",
   "metadata": {},
   "source": [
    " Problem Statement:"
   ]
  },
  {
   "cell_type": "markdown",
   "metadata": {},
   "source": [
    "When a company enters a market, the distribution strategy and channel it uses are keys to its success in the market, as well as market know-how and customer knowledge and understanding. Because an effective distribution strategy under efficient supply-chain management opens doors for attaining competitive advantage and strong brand equity in the market, it is a component of the marketing mix that cannot be ignored . "
   ]
  },
  {
   "cell_type": "markdown",
   "metadata": {},
   "source": [
    "The distribution strategy and the channel design have to be right the first time. The case study of Sales channel includes the detailed study of TV, radio and newspaper channel. The predict the total sales generated from all the sales channel.  "
   ]
  },
  {
   "cell_type": "code",
   "execution_count": 1,
   "metadata": {},
   "outputs": [],
   "source": [
    "import pandas as pd\n",
    "import numpy as np"
   ]
  },
  {
   "cell_type": "code",
   "execution_count": 2,
   "metadata": {},
   "outputs": [
    {
     "data": {
      "text/html": [
       "<div>\n",
       "<style scoped>\n",
       "    .dataframe tbody tr th:only-of-type {\n",
       "        vertical-align: middle;\n",
       "    }\n",
       "\n",
       "    .dataframe tbody tr th {\n",
       "        vertical-align: top;\n",
       "    }\n",
       "\n",
       "    .dataframe thead th {\n",
       "        text-align: right;\n",
       "    }\n",
       "</style>\n",
       "<table border=\"1\" class=\"dataframe\">\n",
       "  <thead>\n",
       "    <tr style=\"text-align: right;\">\n",
       "      <th></th>\n",
       "      <th>Unnamed: 0</th>\n",
       "      <th>TV</th>\n",
       "      <th>radio</th>\n",
       "      <th>newspaper</th>\n",
       "      <th>sales</th>\n",
       "    </tr>\n",
       "  </thead>\n",
       "  <tbody>\n",
       "    <tr>\n",
       "      <th>0</th>\n",
       "      <td>1</td>\n",
       "      <td>230.1</td>\n",
       "      <td>37.8</td>\n",
       "      <td>69.2</td>\n",
       "      <td>22.1</td>\n",
       "    </tr>\n",
       "    <tr>\n",
       "      <th>1</th>\n",
       "      <td>2</td>\n",
       "      <td>44.5</td>\n",
       "      <td>39.3</td>\n",
       "      <td>45.1</td>\n",
       "      <td>10.4</td>\n",
       "    </tr>\n",
       "    <tr>\n",
       "      <th>2</th>\n",
       "      <td>3</td>\n",
       "      <td>17.2</td>\n",
       "      <td>45.9</td>\n",
       "      <td>69.3</td>\n",
       "      <td>9.3</td>\n",
       "    </tr>\n",
       "    <tr>\n",
       "      <th>3</th>\n",
       "      <td>4</td>\n",
       "      <td>151.5</td>\n",
       "      <td>41.3</td>\n",
       "      <td>58.5</td>\n",
       "      <td>18.5</td>\n",
       "    </tr>\n",
       "    <tr>\n",
       "      <th>4</th>\n",
       "      <td>5</td>\n",
       "      <td>180.8</td>\n",
       "      <td>10.8</td>\n",
       "      <td>58.4</td>\n",
       "      <td>12.9</td>\n",
       "    </tr>\n",
       "    <tr>\n",
       "      <th>...</th>\n",
       "      <td>...</td>\n",
       "      <td>...</td>\n",
       "      <td>...</td>\n",
       "      <td>...</td>\n",
       "      <td>...</td>\n",
       "    </tr>\n",
       "    <tr>\n",
       "      <th>195</th>\n",
       "      <td>196</td>\n",
       "      <td>38.2</td>\n",
       "      <td>3.7</td>\n",
       "      <td>13.8</td>\n",
       "      <td>7.6</td>\n",
       "    </tr>\n",
       "    <tr>\n",
       "      <th>196</th>\n",
       "      <td>197</td>\n",
       "      <td>94.2</td>\n",
       "      <td>4.9</td>\n",
       "      <td>8.1</td>\n",
       "      <td>9.7</td>\n",
       "    </tr>\n",
       "    <tr>\n",
       "      <th>197</th>\n",
       "      <td>198</td>\n",
       "      <td>177.0</td>\n",
       "      <td>9.3</td>\n",
       "      <td>6.4</td>\n",
       "      <td>12.8</td>\n",
       "    </tr>\n",
       "    <tr>\n",
       "      <th>198</th>\n",
       "      <td>199</td>\n",
       "      <td>283.6</td>\n",
       "      <td>42.0</td>\n",
       "      <td>66.2</td>\n",
       "      <td>25.5</td>\n",
       "    </tr>\n",
       "    <tr>\n",
       "      <th>199</th>\n",
       "      <td>200</td>\n",
       "      <td>232.1</td>\n",
       "      <td>8.6</td>\n",
       "      <td>8.7</td>\n",
       "      <td>13.4</td>\n",
       "    </tr>\n",
       "  </tbody>\n",
       "</table>\n",
       "<p>200 rows × 5 columns</p>\n",
       "</div>"
      ],
      "text/plain": [
       "     Unnamed: 0     TV  radio  newspaper  sales\n",
       "0             1  230.1   37.8       69.2   22.1\n",
       "1             2   44.5   39.3       45.1   10.4\n",
       "2             3   17.2   45.9       69.3    9.3\n",
       "3             4  151.5   41.3       58.5   18.5\n",
       "4             5  180.8   10.8       58.4   12.9\n",
       "..          ...    ...    ...        ...    ...\n",
       "195         196   38.2    3.7       13.8    7.6\n",
       "196         197   94.2    4.9        8.1    9.7\n",
       "197         198  177.0    9.3        6.4   12.8\n",
       "198         199  283.6   42.0       66.2   25.5\n",
       "199         200  232.1    8.6        8.7   13.4\n",
       "\n",
       "[200 rows x 5 columns]"
      ]
     },
     "execution_count": 2,
     "metadata": {},
     "output_type": "execute_result"
    }
   ],
   "source": [
    "url='https://raw.githubusercontent.com/dsrscientist/DSData/master/Advertising.csv'\n",
    "df=pd.read_csv(url)\n",
    "df"
   ]
  },
  {
   "cell_type": "code",
   "execution_count": 3,
   "metadata": {},
   "outputs": [
    {
     "data": {
      "text/html": [
       "<div>\n",
       "<style scoped>\n",
       "    .dataframe tbody tr th:only-of-type {\n",
       "        vertical-align: middle;\n",
       "    }\n",
       "\n",
       "    .dataframe tbody tr th {\n",
       "        vertical-align: top;\n",
       "    }\n",
       "\n",
       "    .dataframe thead th {\n",
       "        text-align: right;\n",
       "    }\n",
       "</style>\n",
       "<table border=\"1\" class=\"dataframe\">\n",
       "  <thead>\n",
       "    <tr style=\"text-align: right;\">\n",
       "      <th></th>\n",
       "      <th>Unnamed: 0</th>\n",
       "      <th>TV</th>\n",
       "      <th>radio</th>\n",
       "      <th>newspaper</th>\n",
       "      <th>sales</th>\n",
       "    </tr>\n",
       "  </thead>\n",
       "  <tbody>\n",
       "    <tr>\n",
       "      <th>0</th>\n",
       "      <td>1</td>\n",
       "      <td>230.1</td>\n",
       "      <td>37.8</td>\n",
       "      <td>69.2</td>\n",
       "      <td>22.1</td>\n",
       "    </tr>\n",
       "    <tr>\n",
       "      <th>1</th>\n",
       "      <td>2</td>\n",
       "      <td>44.5</td>\n",
       "      <td>39.3</td>\n",
       "      <td>45.1</td>\n",
       "      <td>10.4</td>\n",
       "    </tr>\n",
       "    <tr>\n",
       "      <th>2</th>\n",
       "      <td>3</td>\n",
       "      <td>17.2</td>\n",
       "      <td>45.9</td>\n",
       "      <td>69.3</td>\n",
       "      <td>9.3</td>\n",
       "    </tr>\n",
       "    <tr>\n",
       "      <th>3</th>\n",
       "      <td>4</td>\n",
       "      <td>151.5</td>\n",
       "      <td>41.3</td>\n",
       "      <td>58.5</td>\n",
       "      <td>18.5</td>\n",
       "    </tr>\n",
       "    <tr>\n",
       "      <th>4</th>\n",
       "      <td>5</td>\n",
       "      <td>180.8</td>\n",
       "      <td>10.8</td>\n",
       "      <td>58.4</td>\n",
       "      <td>12.9</td>\n",
       "    </tr>\n",
       "  </tbody>\n",
       "</table>\n",
       "</div>"
      ],
      "text/plain": [
       "   Unnamed: 0     TV  radio  newspaper  sales\n",
       "0           1  230.1   37.8       69.2   22.1\n",
       "1           2   44.5   39.3       45.1   10.4\n",
       "2           3   17.2   45.9       69.3    9.3\n",
       "3           4  151.5   41.3       58.5   18.5\n",
       "4           5  180.8   10.8       58.4   12.9"
      ]
     },
     "execution_count": 3,
     "metadata": {},
     "output_type": "execute_result"
    }
   ],
   "source": [
    "df.head()"
   ]
  },
  {
   "cell_type": "markdown",
   "metadata": {},
   "source": [
    "# Checking Null Values"
   ]
  },
  {
   "cell_type": "code",
   "execution_count": 4,
   "metadata": {},
   "outputs": [
    {
     "data": {
      "text/plain": [
       "Unnamed: 0    0\n",
       "TV            0\n",
       "radio         0\n",
       "newspaper     0\n",
       "sales         0\n",
       "dtype: int64"
      ]
     },
     "execution_count": 4,
     "metadata": {},
     "output_type": "execute_result"
    }
   ],
   "source": [
    "df.isnull().sum()"
   ]
  },
  {
   "cell_type": "markdown",
   "metadata": {},
   "source": [
    "as we can see no null values is present in dataset, so we move forward towards EDA process"
   ]
  },
  {
   "cell_type": "code",
   "execution_count": 5,
   "metadata": {},
   "outputs": [
    {
     "data": {
      "text/plain": [
       "Unnamed: 0      int64\n",
       "TV            float64\n",
       "radio         float64\n",
       "newspaper     float64\n",
       "sales         float64\n",
       "dtype: object"
      ]
     },
     "execution_count": 5,
     "metadata": {},
     "output_type": "execute_result"
    }
   ],
   "source": [
    "df.dtypes"
   ]
  },
  {
   "cell_type": "code",
   "execution_count": 6,
   "metadata": {},
   "outputs": [
    {
     "data": {
      "text/html": [
       "<div>\n",
       "<style scoped>\n",
       "    .dataframe tbody tr th:only-of-type {\n",
       "        vertical-align: middle;\n",
       "    }\n",
       "\n",
       "    .dataframe tbody tr th {\n",
       "        vertical-align: top;\n",
       "    }\n",
       "\n",
       "    .dataframe thead th {\n",
       "        text-align: right;\n",
       "    }\n",
       "</style>\n",
       "<table border=\"1\" class=\"dataframe\">\n",
       "  <thead>\n",
       "    <tr style=\"text-align: right;\">\n",
       "      <th></th>\n",
       "      <th>Unnamed: 0</th>\n",
       "      <th>TV</th>\n",
       "      <th>radio</th>\n",
       "      <th>newspaper</th>\n",
       "      <th>sales</th>\n",
       "    </tr>\n",
       "  </thead>\n",
       "  <tbody>\n",
       "    <tr>\n",
       "      <th>0</th>\n",
       "      <td>1</td>\n",
       "      <td>230.1</td>\n",
       "      <td>37.8</td>\n",
       "      <td>69.2</td>\n",
       "      <td>22.1</td>\n",
       "    </tr>\n",
       "    <tr>\n",
       "      <th>1</th>\n",
       "      <td>2</td>\n",
       "      <td>44.5</td>\n",
       "      <td>39.3</td>\n",
       "      <td>45.1</td>\n",
       "      <td>10.4</td>\n",
       "    </tr>\n",
       "    <tr>\n",
       "      <th>2</th>\n",
       "      <td>3</td>\n",
       "      <td>17.2</td>\n",
       "      <td>45.9</td>\n",
       "      <td>69.3</td>\n",
       "      <td>9.3</td>\n",
       "    </tr>\n",
       "    <tr>\n",
       "      <th>3</th>\n",
       "      <td>4</td>\n",
       "      <td>151.5</td>\n",
       "      <td>41.3</td>\n",
       "      <td>58.5</td>\n",
       "      <td>18.5</td>\n",
       "    </tr>\n",
       "    <tr>\n",
       "      <th>4</th>\n",
       "      <td>5</td>\n",
       "      <td>180.8</td>\n",
       "      <td>10.8</td>\n",
       "      <td>58.4</td>\n",
       "      <td>12.9</td>\n",
       "    </tr>\n",
       "    <tr>\n",
       "      <th>...</th>\n",
       "      <td>...</td>\n",
       "      <td>...</td>\n",
       "      <td>...</td>\n",
       "      <td>...</td>\n",
       "      <td>...</td>\n",
       "    </tr>\n",
       "    <tr>\n",
       "      <th>195</th>\n",
       "      <td>196</td>\n",
       "      <td>38.2</td>\n",
       "      <td>3.7</td>\n",
       "      <td>13.8</td>\n",
       "      <td>7.6</td>\n",
       "    </tr>\n",
       "    <tr>\n",
       "      <th>196</th>\n",
       "      <td>197</td>\n",
       "      <td>94.2</td>\n",
       "      <td>4.9</td>\n",
       "      <td>8.1</td>\n",
       "      <td>9.7</td>\n",
       "    </tr>\n",
       "    <tr>\n",
       "      <th>197</th>\n",
       "      <td>198</td>\n",
       "      <td>177.0</td>\n",
       "      <td>9.3</td>\n",
       "      <td>6.4</td>\n",
       "      <td>12.8</td>\n",
       "    </tr>\n",
       "    <tr>\n",
       "      <th>198</th>\n",
       "      <td>199</td>\n",
       "      <td>283.6</td>\n",
       "      <td>42.0</td>\n",
       "      <td>66.2</td>\n",
       "      <td>25.5</td>\n",
       "    </tr>\n",
       "    <tr>\n",
       "      <th>199</th>\n",
       "      <td>200</td>\n",
       "      <td>232.1</td>\n",
       "      <td>8.6</td>\n",
       "      <td>8.7</td>\n",
       "      <td>13.4</td>\n",
       "    </tr>\n",
       "  </tbody>\n",
       "</table>\n",
       "<p>200 rows × 5 columns</p>\n",
       "</div>"
      ],
      "text/plain": [
       "     Unnamed: 0     TV  radio  newspaper  sales\n",
       "0             1  230.1   37.8       69.2   22.1\n",
       "1             2   44.5   39.3       45.1   10.4\n",
       "2             3   17.2   45.9       69.3    9.3\n",
       "3             4  151.5   41.3       58.5   18.5\n",
       "4             5  180.8   10.8       58.4   12.9\n",
       "..          ...    ...    ...        ...    ...\n",
       "195         196   38.2    3.7       13.8    7.6\n",
       "196         197   94.2    4.9        8.1    9.7\n",
       "197         198  177.0    9.3        6.4   12.8\n",
       "198         199  283.6   42.0       66.2   25.5\n",
       "199         200  232.1    8.6        8.7   13.4\n",
       "\n",
       "[200 rows x 5 columns]"
      ]
     },
     "execution_count": 6,
     "metadata": {},
     "output_type": "execute_result"
    }
   ],
   "source": [
    "df"
   ]
  },
  {
   "cell_type": "code",
   "execution_count": null,
   "metadata": {},
   "outputs": [],
   "source": []
  },
  {
   "cell_type": "markdown",
   "metadata": {},
   "source": [
    "# Visualization of Data"
   ]
  },
  {
   "cell_type": "code",
   "execution_count": 7,
   "metadata": {},
   "outputs": [],
   "source": [
    "import seaborn as sns\n",
    "import matplotlib.pyplot as plt"
   ]
  },
  {
   "cell_type": "code",
   "execution_count": 8,
   "metadata": {},
   "outputs": [
    {
     "data": {
      "text/plain": [
       "<AxesSubplot:xlabel='Unnamed: 0', ylabel='Count'>"
      ]
     },
     "execution_count": 8,
     "metadata": {},
     "output_type": "execute_result"
    },
    {
     "data": {
      "image/png": "[encoded data removed]",
      "text/plain": [
       "<Figure size 432x288 with 1 Axes>"
      ]
     },
     "metadata": {
      "needs_background": "light"
     },
     "output_type": "display_data"
    }
   ],
   "source": [
    "sns.histplot(x='Unnamed: 0',bins=20,data=df,kde=True)"
   ]
  },
  {
   "cell_type": "code",
   "execution_count": 9,
   "metadata": {},
   "outputs": [
    {
     "data": {
      "text/plain": [
       "<AxesSubplot:xlabel='TV', ylabel='Count'>"
      ]
     },
     "execution_count": 9,
     "metadata": {},
     "output_type": "execute_result"
    },
    {
     "data": {
      "image/png": "[encoded data removed]",
      "text/plain": [
       "<Figure size 432x288 with 1 Axes>"
      ]
     },
     "metadata": {
      "needs_background": "light"
     },
     "output_type": "display_data"
    }
   ],
   "source": [
    "sns.histplot(x='TV',data=df,bins=20,kde=True)"
   ]
  },
  {
   "cell_type": "code",
   "execution_count": 10,
   "metadata": {},
   "outputs": [
    {
     "data": {
      "text/plain": [
       "<AxesSubplot:xlabel='radio', ylabel='Count'>"
      ]
     },
     "execution_count": 10,
     "metadata": {},
     "output_type": "execute_result"
    },
    {
     "data": {
      "image/png": "[encoded data removed]",
      "text/plain": [
       "<Figure size 432x288 with 1 Axes>"
      ]
     },
     "metadata": {
      "needs_background": "light"
     },
     "output_type": "display_data"
    }
   ],
   "source": [
    "sns.histplot(x='radio',data=df,bins=20,kde=True)"
   ]
  },
  {
   "cell_type": "code",
   "execution_count": 11,
   "metadata": {},
   "outputs": [
    {
     "data": {
      "text/plain": [
       "<AxesSubplot:xlabel='newspaper', ylabel='Count'>"
      ]
     },
     "execution_count": 11,
     "metadata": {},
     "output_type": "execute_result"
    },
    {
     "data": {
      "image/png": "[encoded data removed]",
      "text/plain": [
       "<Figure size 432x288 with 1 Axes>"
      ]
     },
     "metadata": {
      "needs_background": "light"
     },
     "output_type": "display_data"
    }
   ],
   "source": [
    "sns.histplot(x='newspaper',data=df,bins=20,kde=True)"
   ]
  },
  {
   "cell_type": "code",
   "execution_count": 12,
   "metadata": {},
   "outputs": [
    {
     "data": {
      "text/plain": [
       "<AxesSubplot:xlabel='sales', ylabel='Count'>"
      ]
     },
     "execution_count": 12,
     "metadata": {},
     "output_type": "execute_result"
    },
    {
     "data": {
      "image/png": "[encoded data removed]",
      "text/plain": [
       "<Figure size 432x288 with 1 Axes>"
      ]
     },
     "metadata": {
      "needs_background": "light"
     },
     "output_type": "display_data"
    }
   ],
   "source": [
    "sns.histplot(x='sales',data=df,bins=20,kde=True)"
   ]
  },
  {
   "cell_type": "markdown",
   "metadata": {},
   "source": [
    "# Describe Dataset"
   ]
  },
  {
   "cell_type": "code",
   "execution_count": 13,
   "metadata": {},
   "outputs": [
    {
     "data": {
      "text/html": [
       "<div>\n",
       "<style scoped>\n",
       "    .dataframe tbody tr th:only-of-type {\n",
       "        vertical-align: middle;\n",
       "    }\n",
       "\n",
       "    .dataframe tbody tr th {\n",
       "        vertical-align: top;\n",
       "    }\n",
       "\n",
       "    .dataframe thead th {\n",
       "        text-align: right;\n",
       "    }\n",
       "</style>\n",
       "<table border=\"1\" class=\"dataframe\">\n",
       "  <thead>\n",
       "    <tr style=\"text-align: right;\">\n",
       "      <th></th>\n",
       "      <th>Unnamed: 0</th>\n",
       "      <th>TV</th>\n",
       "      <th>radio</th>\n",
       "      <th>newspaper</th>\n",
       "      <th>sales</th>\n",
       "    </tr>\n",
       "  </thead>\n",
       "  <tbody>\n",
       "    <tr>\n",
       "      <th>count</th>\n",
       "      <td>200.000000</td>\n",
       "      <td>200.000000</td>\n",
       "      <td>200.000000</td>\n",
       "      <td>200.000000</td>\n",
       "      <td>200.000000</td>\n",
       "    </tr>\n",
       "    <tr>\n",
       "      <th>mean</th>\n",
       "      <td>100.500000</td>\n",
       "      <td>147.042500</td>\n",
       "      <td>23.264000</td>\n",
       "      <td>30.554000</td>\n",
       "      <td>14.022500</td>\n",
       "    </tr>\n",
       "    <tr>\n",
       "      <th>std</th>\n",
       "      <td>57.879185</td>\n",
       "      <td>85.854236</td>\n",
       "      <td>14.846809</td>\n",
       "      <td>21.778621</td>\n",
       "      <td>5.217457</td>\n",
       "    </tr>\n",
       "    <tr>\n",
       "      <th>min</th>\n",
       "      <td>1.000000</td>\n",
       "      <td>0.700000</td>\n",
       "      <td>0.000000</td>\n",
       "      <td>0.300000</td>\n",
       "      <td>1.600000</td>\n",
       "    </tr>\n",
       "    <tr>\n",
       "      <th>25%</th>\n",
       "      <td>50.750000</td>\n",
       "      <td>74.375000</td>\n",
       "      <td>9.975000</td>\n",
       "      <td>12.750000</td>\n",
       "      <td>10.375000</td>\n",
       "    </tr>\n",
       "    <tr>\n",
       "      <th>50%</th>\n",
       "      <td>100.500000</td>\n",
       "      <td>149.750000</td>\n",
       "      <td>22.900000</td>\n",
       "      <td>25.750000</td>\n",
       "      <td>12.900000</td>\n",
       "    </tr>\n",
       "    <tr>\n",
       "      <th>75%</th>\n",
       "      <td>150.250000</td>\n",
       "      <td>218.825000</td>\n",
       "      <td>36.525000</td>\n",
       "      <td>45.100000</td>\n",
       "      <td>17.400000</td>\n",
       "    </tr>\n",
       "    <tr>\n",
       "      <th>max</th>\n",
       "      <td>200.000000</td>\n",
       "      <td>296.400000</td>\n",
       "      <td>49.600000</td>\n",
       "      <td>114.000000</td>\n",
       "      <td>27.000000</td>\n",
       "    </tr>\n",
       "  </tbody>\n",
       "</table>\n",
       "</div>"
      ],
      "text/plain": [
       "       Unnamed: 0          TV       radio   newspaper       sales\n",
       "count  200.000000  200.000000  200.000000  200.000000  200.000000\n",
       "mean   100.500000  147.042500   23.264000   30.554000   14.022500\n",
       "std     57.879185   85.854236   14.846809   21.778621    5.217457\n",
       "min      1.000000    0.700000    0.000000    0.300000    1.600000\n",
       "25%     50.750000   74.375000    9.975000   12.750000   10.375000\n",
       "50%    100.500000  149.750000   22.900000   25.750000   12.900000\n",
       "75%    150.250000  218.825000   36.525000   45.100000   17.400000\n",
       "max    200.000000  296.400000   49.600000  114.000000   27.000000"
      ]
     },
     "execution_count": 13,
     "metadata": {},
     "output_type": "execute_result"
    }
   ],
   "source": [
    "df.describe()"
   ]
  },
  {
   "cell_type": "code",
   "execution_count": 14,
   "metadata": {},
   "outputs": [
    {
     "data": {
      "text/plain": [
       "<AxesSubplot:>"
      ]
     },
     "execution_count": 14,
     "metadata": {},
     "output_type": "execute_result"
    },
    {
     "data": {
      "image/png": "[encoded data removed]",
      "text/plain": [
       "<Figure size 576x432 with 2 Axes>"
      ]
     },
     "metadata": {
      "needs_background": "light"
     },
     "output_type": "display_data"
    }
   ],
   "source": [
    "plt.figure(figsize=(8,6))\n",
    "sns.heatmap(df.describe(),data=df,annot=True,fmt='0.2f')"
   ]
  },
  {
   "cell_type": "markdown",
   "metadata": {},
   "source": [
    "# Checking correlation"
   ]
  },
  {
   "cell_type": "code",
   "execution_count": 15,
   "metadata": {},
   "outputs": [
    {
     "data": {
      "text/html": [
       "<div>\n",
       "<style scoped>\n",
       "    .dataframe tbody tr th:only-of-type {\n",
       "        vertical-align: middle;\n",
       "    }\n",
       "\n",
       "    .dataframe tbody tr th {\n",
       "        vertical-align: top;\n",
       "    }\n",
       "\n",
       "    .dataframe thead th {\n",
       "        text-align: right;\n",
       "    }\n",
       "</style>\n",
       "<table border=\"1\" class=\"dataframe\">\n",
       "  <thead>\n",
       "    <tr style=\"text-align: right;\">\n",
       "      <th></th>\n",
       "      <th>Unnamed: 0</th>\n",
       "      <th>TV</th>\n",
       "      <th>radio</th>\n",
       "      <th>newspaper</th>\n",
       "      <th>sales</th>\n",
       "    </tr>\n",
       "  </thead>\n",
       "  <tbody>\n",
       "    <tr>\n",
       "      <th>Unnamed: 0</th>\n",
       "      <td>1.000000</td>\n",
       "      <td>0.017715</td>\n",
       "      <td>-0.110680</td>\n",
       "      <td>-0.154944</td>\n",
       "      <td>-0.051616</td>\n",
       "    </tr>\n",
       "    <tr>\n",
       "      <th>TV</th>\n",
       "      <td>0.017715</td>\n",
       "      <td>1.000000</td>\n",
       "      <td>0.054809</td>\n",
       "      <td>0.056648</td>\n",
       "      <td>0.782224</td>\n",
       "    </tr>\n",
       "    <tr>\n",
       "      <th>radio</th>\n",
       "      <td>-0.110680</td>\n",
       "      <td>0.054809</td>\n",
       "      <td>1.000000</td>\n",
       "      <td>0.354104</td>\n",
       "      <td>0.576223</td>\n",
       "    </tr>\n",
       "    <tr>\n",
       "      <th>newspaper</th>\n",
       "      <td>-0.154944</td>\n",
       "      <td>0.056648</td>\n",
       "      <td>0.354104</td>\n",
       "      <td>1.000000</td>\n",
       "      <td>0.228299</td>\n",
       "    </tr>\n",
       "    <tr>\n",
       "      <th>sales</th>\n",
       "      <td>-0.051616</td>\n",
       "      <td>0.782224</td>\n",
       "      <td>0.576223</td>\n",
       "      <td>0.228299</td>\n",
       "      <td>1.000000</td>\n",
       "    </tr>\n",
       "  </tbody>\n",
       "</table>\n",
       "</div>"
      ],
      "text/plain": [
       "            Unnamed: 0        TV     radio  newspaper     sales\n",
       "Unnamed: 0    1.000000  0.017715 -0.110680  -0.154944 -0.051616\n",
       "TV            0.017715  1.000000  0.054809   0.056648  0.782224\n",
       "radio        -0.110680  0.054809  1.000000   0.354104  0.576223\n",
       "newspaper    -0.154944  0.056648  0.354104   1.000000  0.228299\n",
       "sales        -0.051616  0.782224  0.576223   0.228299  1.000000"
      ]
     },
     "execution_count": 15,
     "metadata": {},
     "output_type": "execute_result"
    }
   ],
   "source": [
    "df.corr()"
   ]
  },
  {
   "cell_type": "code",
   "execution_count": 16,
   "metadata": {},
   "outputs": [
    {
     "data": {
      "text/plain": [
       "<AxesSubplot:>"
      ]
     },
     "execution_count": 16,
     "metadata": {},
     "output_type": "execute_result"
    },
    {
     "data": {
      "image/png": "[encoded data removed]",
      "text/plain": [
       "<Figure size 576x432 with 2 Axes>"
      ]
     },
     "metadata": {
      "needs_background": "light"
     },
     "output_type": "display_data"
    }
   ],
   "source": [
    "plt.figure(figsize=(8,6))\n",
    "sns.heatmap(df.corr(),annot=True,fmt='0.2f',data=df)"
   ]
  },
  {
   "cell_type": "markdown",
   "metadata": {},
   "source": [
    "Checking Positive and Negative correlation"
   ]
  },
  {
   "cell_type": "code",
   "execution_count": 17,
   "metadata": {},
   "outputs": [
    {
     "data": {
      "image/png": "[encoded data removed]",
      "text/plain": [
       "<Figure size 1584x504 with 1 Axes>"
      ]
     },
     "metadata": {
      "needs_background": "light"
     },
     "output_type": "display_data"
    }
   ],
   "source": [
    "plt.figure(figsize=(22,7))\n",
    "df.corr()['sales'].sort_values(ascending=False).drop(['sales']).plot(kind='bar',color='c')\n",
    "plt.xlabel('Feature',fontsize=14)\n",
    "plt.ylabel('column with target names',fontsize=14)\n",
    "plt.title('correlation',fontsize=14)\n",
    "plt.show()"
   ]
  },
  {
   "cell_type": "code",
   "execution_count": 18,
   "metadata": {},
   "outputs": [
    {
     "data": {
      "text/plain": [
       "Unnamed: 0    0.000000\n",
       "TV           -0.069853\n",
       "radio         0.094175\n",
       "newspaper     0.894720\n",
       "sales         0.407571\n",
       "dtype: float64"
      ]
     },
     "execution_count": 18,
     "metadata": {},
     "output_type": "execute_result"
    }
   ],
   "source": [
    "df.skew()"
   ]
  },
  {
   "cell_type": "markdown",
   "metadata": {},
   "source": [
    "-/+ 0.5 as the threshold"
   ]
  },
  {
   "cell_type": "markdown",
   "metadata": {},
   "source": [
    "# Checking outliers"
   ]
  },
  {
   "cell_type": "code",
   "execution_count": 19,
   "metadata": {},
   "outputs": [
    {
     "data": {
      "text/plain": [
       "<AxesSubplot:>"
      ]
     },
     "execution_count": 19,
     "metadata": {},
     "output_type": "execute_result"
    },
    {
     "data": {
      "image/png": "[encoded data removed]",
      "text/plain": [
       "<Figure size 432x288 with 1 Axes>"
      ]
     },
     "metadata": {
      "needs_background": "light"
     },
     "output_type": "display_data"
    }
   ],
   "source": [
    "df['newspaper'].plot.box()"
   ]
  },
  {
   "cell_type": "markdown",
   "metadata": {},
   "source": [
    "# Considering outlier removal"
   ]
  },
  {
   "cell_type": "code",
   "execution_count": 20,
   "metadata": {},
   "outputs": [
    {
     "data": {
      "text/plain": [
       "(200, 5)"
      ]
     },
     "execution_count": 20,
     "metadata": {},
     "output_type": "execute_result"
    }
   ],
   "source": [
    "df.shape"
   ]
  },
  {
   "cell_type": "code",
   "execution_count": 21,
   "metadata": {},
   "outputs": [],
   "source": [
    "from scipy.stats import zscore"
   ]
  },
  {
   "cell_type": "code",
   "execution_count": 22,
   "metadata": {},
   "outputs": [
    {
     "data": {
      "text/plain": [
       "(array([ 16, 101]), array([3, 3]))"
      ]
     },
     "execution_count": 22,
     "metadata": {},
     "output_type": "execute_result"
    }
   ],
   "source": [
    "z=np.abs(zscore(df))\n",
    "threshold=3\n",
    "np.where(z>3)"
   ]
  },
  {
   "cell_type": "code",
   "execution_count": 23,
   "metadata": {},
   "outputs": [
    {
     "data": {
      "text/html": [
       "<div>\n",
       "<style scoped>\n",
       "    .dataframe tbody tr th:only-of-type {\n",
       "        vertical-align: middle;\n",
       "    }\n",
       "\n",
       "    .dataframe tbody tr th {\n",
       "        vertical-align: top;\n",
       "    }\n",
       "\n",
       "    .dataframe thead th {\n",
       "        text-align: right;\n",
       "    }\n",
       "</style>\n",
       "<table border=\"1\" class=\"dataframe\">\n",
       "  <thead>\n",
       "    <tr style=\"text-align: right;\">\n",
       "      <th></th>\n",
       "      <th>Unnamed: 0</th>\n",
       "      <th>TV</th>\n",
       "      <th>radio</th>\n",
       "      <th>newspaper</th>\n",
       "      <th>sales</th>\n",
       "    </tr>\n",
       "  </thead>\n",
       "  <tbody>\n",
       "    <tr>\n",
       "      <th>0</th>\n",
       "      <td>1</td>\n",
       "      <td>230.1</td>\n",
       "      <td>37.8</td>\n",
       "      <td>69.2</td>\n",
       "      <td>22.1</td>\n",
       "    </tr>\n",
       "    <tr>\n",
       "      <th>1</th>\n",
       "      <td>2</td>\n",
       "      <td>44.5</td>\n",
       "      <td>39.3</td>\n",
       "      <td>45.1</td>\n",
       "      <td>10.4</td>\n",
       "    </tr>\n",
       "    <tr>\n",
       "      <th>2</th>\n",
       "      <td>3</td>\n",
       "      <td>17.2</td>\n",
       "      <td>45.9</td>\n",
       "      <td>69.3</td>\n",
       "      <td>9.3</td>\n",
       "    </tr>\n",
       "    <tr>\n",
       "      <th>3</th>\n",
       "      <td>4</td>\n",
       "      <td>151.5</td>\n",
       "      <td>41.3</td>\n",
       "      <td>58.5</td>\n",
       "      <td>18.5</td>\n",
       "    </tr>\n",
       "    <tr>\n",
       "      <th>4</th>\n",
       "      <td>5</td>\n",
       "      <td>180.8</td>\n",
       "      <td>10.8</td>\n",
       "      <td>58.4</td>\n",
       "      <td>12.9</td>\n",
       "    </tr>\n",
       "    <tr>\n",
       "      <th>...</th>\n",
       "      <td>...</td>\n",
       "      <td>...</td>\n",
       "      <td>...</td>\n",
       "      <td>...</td>\n",
       "      <td>...</td>\n",
       "    </tr>\n",
       "    <tr>\n",
       "      <th>195</th>\n",
       "      <td>196</td>\n",
       "      <td>38.2</td>\n",
       "      <td>3.7</td>\n",
       "      <td>13.8</td>\n",
       "      <td>7.6</td>\n",
       "    </tr>\n",
       "    <tr>\n",
       "      <th>196</th>\n",
       "      <td>197</td>\n",
       "      <td>94.2</td>\n",
       "      <td>4.9</td>\n",
       "      <td>8.1</td>\n",
       "      <td>9.7</td>\n",
       "    </tr>\n",
       "    <tr>\n",
       "      <th>197</th>\n",
       "      <td>198</td>\n",
       "      <td>177.0</td>\n",
       "      <td>9.3</td>\n",
       "      <td>6.4</td>\n",
       "      <td>12.8</td>\n",
       "    </tr>\n",
       "    <tr>\n",
       "      <th>198</th>\n",
       "      <td>199</td>\n",
       "      <td>283.6</td>\n",
       "      <td>42.0</td>\n",
       "      <td>66.2</td>\n",
       "      <td>25.5</td>\n",
       "    </tr>\n",
       "    <tr>\n",
       "      <th>199</th>\n",
       "      <td>200</td>\n",
       "      <td>232.1</td>\n",
       "      <td>8.6</td>\n",
       "      <td>8.7</td>\n",
       "      <td>13.4</td>\n",
       "    </tr>\n",
       "  </tbody>\n",
       "</table>\n",
       "<p>198 rows × 5 columns</p>\n",
       "</div>"
      ],
      "text/plain": [
       "     Unnamed: 0     TV  radio  newspaper  sales\n",
       "0             1  230.1   37.8       69.2   22.1\n",
       "1             2   44.5   39.3       45.1   10.4\n",
       "2             3   17.2   45.9       69.3    9.3\n",
       "3             4  151.5   41.3       58.5   18.5\n",
       "4             5  180.8   10.8       58.4   12.9\n",
       "..          ...    ...    ...        ...    ...\n",
       "195         196   38.2    3.7       13.8    7.6\n",
       "196         197   94.2    4.9        8.1    9.7\n",
       "197         198  177.0    9.3        6.4   12.8\n",
       "198         199  283.6   42.0       66.2   25.5\n",
       "199         200  232.1    8.6        8.7   13.4\n",
       "\n",
       "[198 rows x 5 columns]"
      ]
     },
     "execution_count": 23,
     "metadata": {},
     "output_type": "execute_result"
    }
   ],
   "source": [
    "df_new=df[(z<3).all(axis=1)]\n",
    "df_new"
   ]
  },
  {
   "cell_type": "markdown",
   "metadata": {},
   "source": [
    "Percentage Data loss"
   ]
  },
  {
   "cell_type": "code",
   "execution_count": 24,
   "metadata": {},
   "outputs": [
    {
     "data": {
      "text/plain": [
       "1.0"
      ]
     },
     "execution_count": 24,
     "metadata": {},
     "output_type": "execute_result"
    }
   ],
   "source": [
    "Data_loss=((200-198)/200)*100\n",
    "Data_loss"
   ]
  },
  {
   "cell_type": "markdown",
   "metadata": {},
   "source": [
    "# Separating Columns into features and target"
   ]
  },
  {
   "cell_type": "code",
   "execution_count": 25,
   "metadata": {},
   "outputs": [],
   "source": [
    "x=df.drop('sales',axis=1)\n",
    "y=df['sales']"
   ]
  },
  {
   "cell_type": "code",
   "execution_count": 26,
   "metadata": {},
   "outputs": [],
   "source": [
    "from sklearn.preprocessing import power_transform"
   ]
  },
  {
   "cell_type": "code",
   "execution_count": 27,
   "metadata": {},
   "outputs": [
    {
     "data": {
      "text/plain": [
       "array([[-2.07937596,  0.94867429,  0.96224689,  1.51433531],\n",
       "       [-2.03292263, -1.19131426,  1.0401788 ,  0.78768252],\n",
       "       [-1.990711  , -1.6477566 ,  1.37070964,  1.51699753],\n",
       "       [-1.95139683,  0.14102023,  1.14238689,  1.21465643],\n",
       "       [-1.91424742,  0.45271493, -0.74865064,  1.21170398],\n",
       "       [-1.87880665, -1.82382233,  1.51501853,  1.66502354],\n",
       "       [-1.8447658 , -1.00249116,  0.69372704, -0.1077535 ],\n",
       "       [-1.81190337, -0.210275  , -0.10158544, -0.84409341],\n",
       "       [-1.7800535 , -1.82609501, -1.63345378, -2.13259669],\n",
       "       [-1.74908785,  0.64764492, -1.56676988, -0.22900395],\n",
       "       [-1.71890445, -0.88377378, -1.20298758, -0.07226156],\n",
       "       [-1.68942058,  0.79708355,  0.18072579, -1.60261898],\n",
       "       [-1.66056789, -1.52641627,  0.81900563,  1.42512925],\n",
       "       [-1.63228912, -0.48036844, -1.02813642, -1.22982506],\n",
       "       [-1.60453563,  0.69106577,  0.6992403 ,  0.81860579],\n",
       "       [-1.57726567,  0.60295713,  1.45770359,  1.04432344],\n",
       "       [-1.55044308, -0.86079972,  0.89906999,  2.52943514],\n",
       "       [-1.52403621,  1.4355201 ,  1.05563142,  1.13383286],\n",
       "       [-1.49801724, -0.84199328, -0.04209908, -0.39356015],\n",
       "       [-1.47236146,  0.09508551,  0.17453165, -0.34671544],\n",
       "       [-1.44704684,  0.8337607 ,  0.40367061,  1.05996548],\n",
       "       [-1.42205365,  1.01958629, -1.27567304, -0.1077535 ],\n",
       "       [-1.39736406, -1.72701642, -0.35739289,  0.93875739],\n",
       "       [-1.37296197,  0.93109798, -0.28631129,  0.02589311],\n",
       "       [-1.34883272, -0.93569772, -0.60431061, -0.39356015],\n",
       "       [-1.32496292,  1.26290943, -1.4550585 , -0.3237259 ],\n",
       "       [-1.30134033,  0.04659013,  0.49664406, -0.76867281],\n",
       "       [-1.27795368,  1.0456669 , -0.30040383, -0.1386789 ],\n",
       "       [-1.25479261,  1.12918152,  0.3682981 , -0.1386789 ],\n",
       "       [-1.23184753, -0.82328646, -0.35021379,  0.63452018],\n",
       "       [-1.20910953,  1.54129731,  0.43876195,  0.72114861],\n",
       "       [-1.18657038, -0.29553337, -0.25134036,  0.55235877],\n",
       "       [-1.16422237, -0.48404243, -1.71918898,  0.20071936],\n",
       "       [-1.14205833,  1.28829734, -0.07502706, -2.32472495],\n",
       "       [-1.12007157, -0.50245749, -1.7342107 , -1.20981332],\n",
       "       [-1.09825578,  1.52114819, -1.3853128 , -1.10471076],\n",
       "       [-1.07660508,  1.3004967 ,  1.2675887 , -1.47330873],\n",
       "       [-1.05511391, -0.76905257,  1.53874417,  0.80833914],\n",
       "       [-1.03377706, -1.21245403,  0.34455612,  0.4155984 ],\n",
       "       [-1.0125896 ,  0.92816503,  0.95701091,  0.28742321],\n",
       "       [-0.99154687,  0.67493776,  0.07409584,  0.27034854],\n",
       "       [-0.97064448,  0.41309098,  0.72671408,  0.55615392],\n",
       "       [-0.94987826,  1.54769995,  0.40367061, -1.95904851],\n",
       "       [-0.92924425,  0.71920943, -0.95499286,  0.03545918],\n",
       "       [-0.90873871, -1.50359538,  0.28462118,  0.72469411],\n",
       "       [-0.88835806,  0.39319467,  0.08679116,  0.26605961],\n",
       "       [-0.86809891, -0.57689562, -0.82396106,  0.43960934],\n",
       "       [-0.84795803,  1.04373768,  1.15250515, -0.3817378 ],\n",
       "       [-0.82793233,  0.92033882, -0.36458821,  0.94852755],\n",
       "       [-0.80801888, -0.87294338, -0.67550361,  0.48300508],\n",
       "       [-0.78821485,  0.64764492, -1.50354208,  0.3953996 ],\n",
       "       [-0.76851757, -0.44500506, -0.84958728, -1.65883577],\n",
       "       [-0.74892445,  0.81395585,  1.16260524,  0.59004665],\n",
       "       [-0.72943303,  0.47140703,  1.38529598,  1.22055211],\n",
       "       [-0.71004095,  1.2610261 ,  0.46779569, -0.54176985],\n",
       "       [-0.69074595,  0.63852563,  1.53874417,  1.25857888],\n",
       "       [-0.67154584, -1.85624738,  0.42709558,  0.65646046],\n",
       "       [-0.65243853, -0.02802214, -0.12834141, -0.49726342],\n",
       "       [-0.63342202,  0.75824197,  1.54820925,  0.51793191],\n",
       "       [-0.61449437,  0.75724354,  0.50813245, -1.03293213],\n",
       "       [-0.59565372, -1.05927427, -1.64727037, -0.21815975],\n",
       "       [-0.57689827,  1.24783212,  1.21283741,  1.10022212],\n",
       "       [-0.55822629,  1.03794746, -0.38627294,  0.07797929],\n",
       "       [-0.53963613, -0.41714955,  0.51386586, -1.11394312],\n",
       "       [-0.52112616, -0.08546826,  1.21783637,  0.15154706],\n",
       "       [-0.50269484, -0.84467375, -0.87549189, -2.1571572 ],\n",
       "       [-0.48434067, -1.39531449,  0.21769395, -1.88378271],\n",
       "       [-0.46606219,  0.0066178 , -0.45966823, -0.95619942],\n",
       "       [-0.447858  ,  1.01958629,  0.39191142, -0.8911416 ],\n",
       "       [-0.42972675,  0.81792069,  1.2725405 ,  0.07329661],\n",
       "       [-0.41166713,  0.64055308,  0.5708121 ,  0.55615392],\n",
       "       [-0.39367785, -0.3321763 , -0.4745618 ,  0.27462933],\n",
       "       [-0.37575769, -1.47420382,  0.70474737, -0.33518557],\n",
       "       [-0.35790545, -0.10474749, -1.21318999,  0.25745713],\n",
       "       [-0.34011998,  0.7841573 ,  0.21769395, -0.73224866],\n",
       "       [-0.32240015, -1.65352738,  1.26263268,  2.01064695],\n",
       "       [-0.30474487, -1.46224158, -1.70439494, -0.25638211],\n",
       "       [-0.28715309, -0.20680098,  0.45039797, -0.65484297],\n",
       "       [-0.26962378, -1.90271957,  0.53102334, -1.02420602],\n",
       "       [-0.25215593, -0.25915513, -1.01885558, -0.1283175 ],\n",
       "       [-0.23474858, -0.74679627,  0.34455612, -0.17008941],\n",
       "       [-0.21740078,  1.04277291, -1.3853128 ,  0.48691113],\n",
       "       [-0.20011162, -0.76118235, -0.05523482,  0.30858709],\n",
       "       [-0.1828802 , -0.85272745,  1.30216339,  0.43562451],\n",
       "       [-0.16570565,  0.78515237,  1.22782124,  0.36271243],\n",
       "       [-0.14858714,  0.58051341, -0.1824681 ,  1.41963599],\n",
       "       [-0.13152383, -0.74810183,  0.39191142, -0.53534269],\n",
       "       [-0.11451492, -0.32151022,  1.10682827,  1.35009138],\n",
       "       [-0.09755963, -0.59445094,  0.27253204,  1.62418784],\n",
       "       [-0.0806572 , -0.3321763 ,  1.46250027,  0.99685054],\n",
       "       [-0.06380689, -0.04935604, -1.29701657, -1.03293213],\n",
       "       [-0.04700796, -1.44360046, -1.71918898,  0.32955606],\n",
       "       [-0.03025972,  0.8268345 ,  0.7321905 ,  1.22937273],\n",
       "       [-0.01356148,  1.14922339,  0.89377076,  1.59579653],\n",
       "       [ 0.00308744, -0.36073275, -0.49704225, -0.89912378],\n",
       "       [ 0.0196877 ,  0.26831445,  0.62707446,  1.04432344],\n",
       "       [ 0.03623994,  0.62533398, -1.4550585 , -1.3679351 ],\n",
       "       [ 0.05274478,  0.49522053, -0.00946213, -0.18598289],\n",
       "       [ 0.06920283,  1.51197614,  1.19279775,  0.99045745],\n",
       "       [ 0.08561471, -0.03924063,  1.16260524,  0.8151881 ],\n",
       "       [ 0.10198098,  0.87322688, -1.36277082,  0.94527481],\n",
       "       [ 0.11830223,  1.57327016,  0.88315609,  2.2628248 ],\n",
       "       [ 0.134579  ,  1.42441703, -0.80702634, -0.21815975],\n",
       "       [ 0.15081186,  0.52616407, -0.26528466, -0.41743473],\n",
       "       [ 0.16700133,  1.02732204,  0.77578583, -1.4371576 ],\n",
       "       [ 0.18314793, -0.00900053,  1.39500055,  1.22937273],\n",
       "       [ 0.19925219, -1.50533991, -0.73221674,  0.18741746],\n",
       "       [ 0.2153146 , -0.56814506, -1.91962741, -0.12315678],\n",
       "       [ 0.23133565, -1.72906885, -1.90076688, -0.00306944],\n",
       "       [ 0.24731582,  1.19202117,  0.35644335, -1.41364623],\n",
       "       [ 0.26325559,  0.90662534, -0.97304835,  1.15501188],\n",
       "       [ 0.27915542,  1.06108536,  0.97270342, -0.12315678],\n",
       "       [ 0.29501575,  0.39948386, -0.39353456, -1.84832983],\n",
       "       [ 0.31083704,  0.74625251, -0.0355487 , -0.91521378],\n",
       "       [ 0.32661971, -0.72337219,  1.41436293,  0.39133878],\n",
       "       [ 0.3423642 , -0.76380392,  0.81362329,  1.03804144],\n",
       "       [ 0.35807091,  0.00550359, -0.4745618 , -0.00306944],\n",
       "       [ 0.37374026, -0.74679627, -1.82997283, -0.6140794 ],\n",
       "       [ 0.38937266, -0.1469415 ,  0.91493549,  1.76974284],\n",
       "       [ 0.40496849, -1.60617806, -0.35021379, -0.17008941],\n",
       "       [ 0.42052814,  0.02885793,  0.35050382,  0.82542768],\n",
       "       [ 0.436052  , -1.61739376,  0.0357579 ,  0.96473213],\n",
       "       [ 0.45154043,  0.88896054, -1.59299019, -0.56119394],\n",
       "       [ 0.46699379, -0.17678774,  0.79203663, -0.78347482],\n",
       "       [ 0.48241246,  0.94281959,  0.66606674,  1.64467302],\n",
       "       [ 0.49779678, -0.60829585, -0.66750027,  0.01146189],\n",
       "       [ 0.51314709, -1.84451116,  1.01950683,  0.9711866 ],\n",
       "       [ 0.52846374, -0.69751107, -1.9798635 , -1.04171092],\n",
       "       [ 0.54374706,  0.85253082,  1.51977089, -1.71817136],\n",
       "       [ 0.55899738, -0.9730961 , -0.65156482,  0.71759813],\n",
       "       [ 0.57421502, -2.04026249,  1.05563142, -1.08642518],\n",
       "       [ 0.5894003 ,  1.2845405 , -1.52845902,  0.71404265],\n",
       "       [ 0.60455352, -1.83065941,  0.37421339, -1.90202575],\n",
       "       [ 0.61967501,  0.84759549,  0.7321905 ,  0.78768252],\n",
       "       [ 0.63476505, -1.30833884,  1.0039509 ,  1.41688552],\n",
       "       [ 0.64982394, -1.1347862 ,  1.42402092, -1.10471076],\n",
       "       [ 0.66485197, -1.49489926,  1.02468221, -1.03293213],\n",
       "       [ 0.67984943,  1.36405418,  0.47358005,  1.2498484 ],\n",
       "       [ 0.69481661, -1.2139708 ,  0.2966758 , -0.26744284],\n",
       "       [ 0.70975377,  0.49522053,  1.2725405 , -1.97889407],\n",
       "       [ 0.72466119, -0.78616198, -0.27928757, -0.74672069],\n",
       "       [ 0.73953914,  0.58562018,  0.83511859,  1.68019945],\n",
       "       [ 0.75438788,  0.85450412,  0.71574298,  0.52562487],\n",
       "       [ 0.76920768, -0.39426242, -1.21318999,  0.38727085],\n",
       "       [ 0.78399878, -0.49631074, -0.43746469,  0.56372647],\n",
       "       [ 0.79876144,  0.01774834, -1.66126392, -1.05942991],\n",
       "       [ 0.8134959 ,  1.0456669 , -1.05622936, -1.08642518],\n",
       "       [ 0.82820241,  1.07551559,  1.51977089,  0.75987942],\n",
       "       [ 0.84288122, -1.29103896,  1.09151903, -0.82108927],\n",
       "       [ 0.85753255, -1.18830853,  0.29065278, -0.26190454],\n",
       "       [ 0.87215664,  1.42904484, -0.50457379,  0.49081078],\n",
       "       [ 0.88675372, -0.20101603, -0.95499286,  0.90922967],\n",
       "       [ 0.90132401,  0.62533398,  0.13716541, -0.65484297],\n",
       "       [ 0.91586774,  0.35322947,  1.0607726 ,  0.51793191],\n",
       "       [ 0.93038512,  0.52513474, -0.00296885, -1.01553176],\n",
       "       [ 0.94487638, -1.93665721, -0.68353104, -1.39057916],\n",
       "       [ 0.95934173, -0.52465633,  1.25270792,  0.96796131],\n",
       "       [ 0.97378137,  0.12246872, -1.74947332, -0.06724139],\n",
       "       [ 0.98819551, -1.75822712,  0.91493549,  0.79113681],\n",
       "       [ 1.00258436, -0.07867963, -0.1824681 ,  0.3953996 ],\n",
       "       [ 1.01694811,  0.36587519, -0.20298441,  0.23144984],\n",
       "       [ 1.03128697, -0.62724967,  0.85652391,  0.92895126],\n",
       "       [ 1.04560114,  0.53130856, -0.20298441, -0.00306944],\n",
       "       [ 1.05989079,  0.27045056,  0.90965233, -1.20981332],\n",
       "       [ 1.07415613, -0.24514238, -0.44484785, -1.42534498],\n",
       "       [ 1.08839735,  0.99148599, -1.46701964,  1.90420913],\n",
       "       [ 1.10261461, -1.63438885,  0.95176976, -0.20737541],\n",
       "       [ 1.11680812,  0.71820605, -1.26510158, -0.32944703],\n",
       "       [ 1.13097805,  0.80403524,  0.15589202,  1.18797267],\n",
       "       [ 1.14512457,  1.46230082, -0.76519122, -1.31304986],\n",
       "       [ 1.15924786, -1.10987617, -0.68353104, -0.38763953],\n",
       "       [ 1.1733481 ,  0.28112073, -0.01596668,  0.86598739],\n",
       "       [ 1.18742546, -1.60245911, -0.06841773, -0.47232241],\n",
       "       [ 1.20148009,  0.32257166, -1.07517365, -0.75400514],\n",
       "       [ 1.21551218,  0.87322688, -1.46701964, -0.73224866],\n",
       "       [ 1.22952188,  1.39381826,  1.51501853,  0.67098058],\n",
       "       [ 1.24350935,  1.12535894,  0.54811736, -0.27856754],\n",
       "       [ 1.25747476,  0.34161695, -1.00961537,  0.41961731],\n",
       "       [ 1.27141827,  1.39196069, -1.60632069, -0.09754949],\n",
       "       [ 1.28534002,  0.29283811, -0.81547901, -0.43554699],\n",
       "       [ 1.29924018,  0.19634785, -1.56676988, -1.12323656],\n",
       "       [ 1.31311888,  0.83474968, -1.2441519 ,  0.08265171],\n",
       "       [ 1.3269763 , -1.02082882, -1.21318999,  0.18741746],\n",
       "       [ 1.34081256,  1.49268741,  1.22782124,  1.58280405],\n",
       "       [ 1.35462783,  1.17682728,  0.00998415,  0.20071936],\n",
       "       [ 1.36842224,  0.70012304,  1.33163754, -0.31802204],\n",
       "       [ 1.38219593,  0.0088456 , -1.63345378,  0.04498207],\n",
       "       [ 1.39594906,  0.55902662,  0.46200391, -0.39949982],\n",
       "       [ 1.40968175,  1.47796614, -0.50457379, -1.64450612],\n",
       "       [ 1.42339414, -1.61927178, -0.64363221, -0.11287487],\n",
       "       [ 1.43708637, -1.267656  ,  1.13225036, -1.37920552],\n",
       "       [ 1.45075858, -0.75856261, -0.74865064, -1.35676548],\n",
       "       [ 1.4644109 , -1.6477566 , -1.3853128 ,  0.27034854],\n",
       "       [ 1.47804345,  0.30559723,  1.1777216 , -1.65883577],\n",
       "       [ 1.49165638,  0.12137572,  0.84583242, -1.35676548],\n",
       "       [ 1.5052498 , -1.28790757, -1.43143631, -0.68257581],\n",
       "       [ 1.51882384, -0.52094879, -1.29701657, -1.14201102],\n",
       "       [ 1.53237863,  0.41309098, -0.87549189, -1.31304986],\n",
       "       [ 1.5459143 ,  1.45584317,  1.1777216 ,  1.43335009],\n",
       "       [ 1.55943096,  0.96816082, -0.93708342, -1.08642518]])"
      ]
     },
     "execution_count": 27,
     "metadata": {},
     "output_type": "execute_result"
    }
   ],
   "source": [
    "x=power_transform(x,method='yeo-johnson')\n",
    "x"
   ]
  },
  {
   "cell_type": "code",
   "execution_count": 28,
   "metadata": {},
   "outputs": [],
   "source": [
    "from sklearn.preprocessing import MinMaxScaler\n",
    "from sklearn.linear_model import LinearRegression\n",
    "lr=LinearRegression()\n",
    "import warnings\n",
    "warnings.filterwarnings('ignore')\n",
    "from sklearn.metrics import r2_score\n",
    "from sklearn.model_selection import train_test_split"
   ]
  },
  {
   "cell_type": "code",
   "execution_count": 29,
   "metadata": {},
   "outputs": [
    {
     "data": {
      "text/plain": [
       "array([[0.        , 0.8271509 , 0.83391432, 0.79088044],\n",
       "       [0.01276609, 0.23493581, 0.85600341, 0.64118352],\n",
       "       [0.02436649, 0.1086211 , 0.94968935, 0.79142888],\n",
       "       [0.03517063, 0.60364273, 0.88497336, 0.72914393],\n",
       "       [0.04537986, 0.68990034, 0.34897604, 0.7285357 ],\n",
       "       [0.05511952, 0.05989711, 0.99059239, 0.82192355],\n",
       "       [0.06447447, 0.28719024, 0.75780482, 0.45671577],\n",
       "       [0.07350557, 0.50642617, 0.53238076, 0.30502322],\n",
       "       [0.08225841, 0.05926817, 0.09818667, 0.03958012],\n",
       "       [0.09076824, 0.74384478, 0.11708761, 0.4317371 ],\n",
       "       [0.0990631 , 0.3200438 , 0.22019838, 0.46402742],\n",
       "       [0.10716572, 0.78520006, 0.6123993 , 0.14876023],\n",
       "       [0.11509489, 0.14220052, 0.79331389, 0.7725032 ],\n",
       "       [0.12286633, 0.43168118, 0.26975835, 0.22555908],\n",
       "       [0.13049341, 0.75586096, 0.7593675 , 0.64755399],\n",
       "       [0.13798761, 0.73147799, 0.974347  , 0.69405383],\n",
       "       [0.14535888, 0.32640158, 0.8160074 , 1.        ],\n",
       "       [0.15261589, 0.96187939, 0.86038331, 0.71249356],\n",
       "       [0.1597663 , 0.33160603, 0.54924163, 0.39783706],\n",
       "       [0.1668169 , 0.59093087, 0.61064363, 0.40748749],\n",
       "       [0.17377375, 0.79535   , 0.67559097, 0.69727623],\n",
       "       [0.18064226, 0.84677491, 0.19959636, 0.45671577],\n",
       "       [0.18742734, 0.08668693, 0.45987448, 0.67230629],\n",
       "       [0.19413341, 0.82228688, 0.48002191, 0.48424815],\n",
       "       [0.2007645 , 0.30567449, 0.3898879 , 0.39783706],\n",
       "       [0.20732428, 0.91411155, 0.14875118, 0.41222354],\n",
       "       [0.21381614, 0.57751038, 0.70194345, 0.32056053],\n",
       "       [0.22024314, 0.85399239, 0.47602751, 0.45034486],\n",
       "       [0.22660816, 0.87710402, 0.66556496, 0.45034486],\n",
       "       [0.23291382, 0.33678291, 0.46190932, 0.60963072],\n",
       "       [0.23916257, 0.99115191, 0.68553729, 0.62747695],\n",
       "       [0.24535668, 0.48283198, 0.4899341 , 0.59270474],\n",
       "       [0.25149826, 0.43066445, 0.07388581, 0.52026391],\n",
       "       [0.25758927, 0.92113733, 0.53990849, 0.        ],\n",
       "       [0.26363157, 0.42556831, 0.06962804, 0.22968168],\n",
       "       [0.26962689, 0.9855759 , 0.16851997, 0.25133374],\n",
       "       [0.27557683, 0.92451335, 0.92046067, 0.17539929],\n",
       "       [0.28148293, 0.35179146, 0.99731721, 0.64543897],\n",
       "       [0.28734663, 0.22908564, 0.65883551, 0.5645309 ],\n",
       "       [0.29316927, 0.82147522, 0.83243023, 0.53812567],\n",
       "       [0.29895213, 0.75139774, 0.58217602, 0.53460814],\n",
       "       [0.30469643, 0.67893491, 0.7671547 , 0.59348658],\n",
       "       [0.31040331, 0.99292376, 0.67559097, 0.07533259],\n",
       "       [0.31607385, 0.76364937, 0.29049022, 0.48621885],\n",
       "       [0.32170909, 0.14851591, 0.6418475 , 0.62820735],\n",
       "       [0.32731   , 0.67342885, 0.58577439, 0.53372458],\n",
       "       [0.33287753, 0.40496849, 0.32762999, 0.56947736],\n",
       "       [0.33841255, 0.8534585 , 0.88784128, 0.40027257],\n",
       "       [0.34391592, 0.81930941, 0.45783503, 0.67431902],\n",
       "       [0.34938844, 0.32304097, 0.3697089 , 0.57841727],\n",
       "       [0.35483089, 0.74384478, 0.13500896, 0.56036977],\n",
       "       [0.36024401, 0.44146756, 0.32036647, 0.13717907],\n",
       "       [0.3656285 , 0.78986926, 0.89070406, 0.60046878],\n",
       "       [0.37098504, 0.69507315, 0.95382372, 0.7303585 ],\n",
       "       [0.37631428, 0.91359036, 0.69376664, 0.36730455],\n",
       "       [0.38161684, 0.74132113, 0.99731721, 0.73819235],\n",
       "       [0.38689333, 0.05092388, 0.68223057, 0.61415062],\n",
       "       [0.39214431, 0.55686237, 0.52479702, 0.37647327],\n",
       "       [0.39737034, 0.77445113, 1.        , 0.58561251],\n",
       "       [0.40257195, 0.77417483, 0.70519973, 0.26612077],\n",
       "       [0.40774965, 0.27147623, 0.09427048, 0.4339711 ],\n",
       "       [0.41290393, 0.90993909, 0.90494191, 0.70556945],\n",
       "       [0.41803528, 0.85185613, 0.45168869, 0.49497837],\n",
       "       [0.42314414, 0.44917622, 0.70682481, 0.24943179],\n",
       "       [0.42823096, 0.54096487, 0.90635882, 0.51013398],\n",
       "       [0.43329617, 0.33086424, 0.31302405, 0.03452044],\n",
       "       [0.43834018, 0.1784813 , 0.62287759, 0.09083801],\n",
       "       [0.44336339, 0.56644854, 0.43088546, 0.28192839],\n",
       "       [0.44836618, 0.84677491, 0.67225794, 0.29533088],\n",
       "       [0.45334893, 0.79096647, 0.92186421, 0.49401369],\n",
       "       [0.45831199, 0.7418822 , 0.7229657 , 0.59348658],\n",
       "       [0.46325572, 0.47269151, 0.42666402, 0.53549002],\n",
       "       [0.46818045, 0.15664966, 0.76092843, 0.40986275],\n",
       "       [0.47308652, 0.53562959, 0.2173066 , 0.53195239],\n",
       "       [0.47797424, 0.78162288, 0.62287759, 0.32806423],\n",
       "       [0.48284392, 0.10702411, 0.91905593, 0.89312503],\n",
       "       [0.48769586, 0.15996006, 0.07807905, 0.42609696],\n",
       "       [0.49253036, 0.50738756, 0.68883542, 0.34401049],\n",
       "       [0.49734768, 0.03806328, 0.71168794, 0.26791843],\n",
       "       [0.50214811, 0.4928992 , 0.27238892, 0.4524794 ],\n",
       "       [0.50693192, 0.35795061, 0.65883551, 0.44387402],\n",
       "       [0.51169936, 0.85319152, 0.16851997, 0.57922195],\n",
       "       [0.51645069, 0.35396944, 0.54551842, 0.54248562],\n",
       "       [0.52118615, 0.32863548, 0.93026055, 0.56865645],\n",
       "       [0.52590598, 0.78189825, 0.90918894, 0.55363592],\n",
       "       [0.53061041, 0.72526698, 0.50945531, 0.77137154],\n",
       "       [0.53529967, 0.35758931, 0.67225794, 0.3686286 ],\n",
       "       [0.53997398, 0.47564321, 0.87489459, 0.75704473],\n",
       "       [0.54463355, 0.40011028, 0.63842094, 0.81351103],\n",
       "       [0.5492786 , 0.47269151, 0.97570657, 0.68427399],\n",
       "       [0.55390932, 0.55095848, 0.19354673, 0.26612077],\n",
       "       [0.55852592, 0.16511876, 0.07388581, 0.54680541],\n",
       "       [0.5631286 , 0.79343326, 0.76870694, 0.73217562],\n",
       "       [0.56771753, 0.88265036, 0.81450538, 0.80766217],\n",
       "       [0.57229291, 0.46478886, 0.42029214, 0.29368648],\n",
       "       [0.57685492, 0.63886982, 0.73891276, 0.69405383],\n",
       "       [0.58140372, 0.73767051, 0.14875118, 0.19710719],\n",
       "       [0.58593951, 0.70166324, 0.55849227, 0.44059982],\n",
       "       [0.59046244, 0.98303764, 0.89926185, 0.68295696],\n",
       "       [0.59497267, 0.55375779, 0.89070406, 0.64684992],\n",
       "       [0.59947037, 0.80627177, 0.17490928, 0.67364893],\n",
       "       [0.6039557 , 1.        , 0.81149675, 0.94507591],\n",
       "       [0.60842881, 0.95880676, 0.33242998, 0.4339711 ],\n",
       "       [0.61288985, 0.71022648, 0.48598171, 0.39291869],\n",
       "       [0.61733896, 0.84891568, 0.78106363, 0.18284674],\n",
       "       [0.6217763 , 0.56212636, 0.95657439, 0.73217562],\n",
       "       [0.62620199, 0.14803314, 0.35363408, 0.5175236 ],\n",
       "       [0.63061619, 0.4073901 , 0.01707337, 0.45354255],\n",
       "       [0.63501902, 0.08611895, 0.02241921, 0.47828161],\n",
       "       [0.63941062, 0.89449411, 0.66220484, 0.18769029],\n",
       "       [0.64379111, 0.81551438, 0.28537256, 0.71685663],\n",
       "       [0.64816063, 0.85825926, 0.83687813, 0.45354255],\n",
       "       [0.65251929, 0.67516931, 0.44963045, 0.09814162],\n",
       "       [0.65686722, 0.7711332 , 0.55109827, 0.29037179],\n",
       "       [0.66120454, 0.36443293, 0.96206248, 0.5595332 ],\n",
       "       [0.66553137, 0.35324396, 0.79178832, 0.69275968],\n",
       "       [0.66984782, 0.56614019, 0.42666402, 0.47828161],\n",
       "       [0.674154  , 0.35795061, 0.04248514, 0.35240814],\n",
       "       [0.67845002, 0.52395292, 0.82050434, 0.84349665],\n",
       "       [0.68273599, 0.12012744, 0.46190932, 0.44387402],\n",
       "       [0.68701202, 0.57260322, 0.66052133, 0.64895936],\n",
       "       [0.69127822, 0.11702364, 0.57130948, 0.67765731],\n",
       "       [0.69553467, 0.81062587, 0.1096557 , 0.36330302],\n",
       "       [0.6997815 , 0.51569335, 0.78566978, 0.31751119],\n",
       "       [0.70401878, 0.82553068, 0.74996476, 0.81773116],\n",
       "       [0.70824663, 0.39627887, 0.37197737, 0.48127519],\n",
       "       [0.71246513, 0.05417173, 0.85014413, 0.67898699],\n",
       "       [0.71667438, 0.37158967, 0.        , 0.26431226],\n",
       "       [0.72087447, 0.8005444 , 0.9919394 , 0.12495541],\n",
       "       [0.72506549, 0.29532496, 0.37649413, 0.62674552],\n",
       "       [0.72924754, 0.        , 0.86038331, 0.25510073],\n",
       "       [0.73342068, 0.92009768, 0.12794648, 0.62601306],\n",
       "       [0.73758502, 0.05800503, 0.66724159, 0.08707978],\n",
       "       [0.74174064, 0.7991786 , 0.76870694, 0.64118352],\n",
       "       [0.74588761, 0.20255072, 0.84573494, 0.77080492],\n",
       "       [0.75002603, 0.25057925, 0.96479995, 0.25133374],\n",
       "       [0.75415596, 0.15092246, 0.85161104, 0.26612077],\n",
       "       [0.7582775 , 0.94210209, 0.69540617, 0.73639379],\n",
       "       [0.7623907 , 0.2286659 , 0.64526427, 0.42381835],\n",
       "       [0.76649567, 0.70166324, 0.92186421, 0.07124423],\n",
       "       [0.77059245, 0.34705664, 0.48201271, 0.32508286],\n",
       "       [0.77468114, 0.72668021, 0.79788096, 0.82504992],\n",
       "       [0.77876181, 0.80109048, 0.76404504, 0.58719732],\n",
       "       [0.78283451, 0.45550995, 0.2173066 , 0.55869517],\n",
       "       [0.78689933, 0.42726935, 0.43717885, 0.59504659],\n",
       "       [0.79095634, 0.56952878, 0.09030414, 0.26066199],\n",
       "       [0.7950056 , 0.85399239, 0.26179566, 0.25510073],\n",
       "       [0.79904717, 0.86225264, 0.9919394 , 0.63545584],\n",
       "       [0.80308113, 0.20733825, 0.87055533, 0.30976228],\n",
       "       [0.80710754, 0.23576761, 0.6435571 , 0.42495929],\n",
       "       [0.81112647, 0.96008745, 0.41815739, 0.58002531],\n",
       "       [0.81513797, 0.50898847, 0.29049022, 0.66622331],\n",
       "       [0.81914211, 0.73767051, 0.60005251, 0.34401049],\n",
       "       [0.82313895, 0.66236899, 0.86184053, 0.58561251],\n",
       "       [0.82712855, 0.70994162, 0.56033273, 0.2697054 ],\n",
       "       [0.83111097, 0.02867147, 0.36743359, 0.19244231],\n",
       "       [0.83508627, 0.41942506, 0.91624284, 0.67832255],\n",
       "       [0.8390545 , 0.59850883, 0.06530199, 0.46506162],\n",
       "       [0.84301573, 0.07804976, 0.82050434, 0.64189514],\n",
       "       [0.84697001, 0.54284354, 0.50945531, 0.56036977],\n",
       "       [0.85091739, 0.66586853, 0.50364015, 0.52659466],\n",
       "       [0.85485793, 0.39103364, 0.80394811, 0.67028613],\n",
       "       [0.85879168, 0.71165015, 0.50364015, 0.47828161],\n",
       "       [0.86271869, 0.63946096, 0.81900687, 0.22968168],\n",
       "       [0.86663903, 0.49677705, 0.43508617, 0.18528024],\n",
       "       [0.87055273, 0.8389985 , 0.14536091, 0.8711979 ],\n",
       "       [0.87445986, 0.11232046, 0.83094467, 0.43619277],\n",
       "       [0.87836045, 0.76337169, 0.20259274, 0.41104494],\n",
       "       [0.88225456, 0.78712385, 0.6053604 , 0.72364684],\n",
       "       [0.88614224, 0.96929062, 0.34428776, 0.20841403],\n",
       "       [0.89002354, 0.25747278, 0.36743359, 0.39905676],\n",
       "       [0.89389851, 0.64241379, 0.55664862, 0.65731502],\n",
       "       [0.89776718, 0.12115661, 0.54178185, 0.38161134],\n",
       "       [0.90162961, 0.65388482, 0.25642608, 0.3235822 ],\n",
       "       [0.90548584, 0.80627177, 0.14536091, 0.32806423],\n",
       "       [0.90933592, 0.95033893, 0.99059239, 0.61714189],\n",
       "       [0.91317989, 0.87604617, 0.71653308, 0.42152656],\n",
       "       [0.9170178 , 0.65915537, 0.27500797, 0.56535883],\n",
       "       [0.92084969, 0.94982487, 0.1058773 , 0.45881788],\n",
       "       [0.9246756 , 0.64565643, 0.33003415, 0.3891874 ],\n",
       "       [0.92849558, 0.61895396, 0.11708761, 0.24751726],\n",
       "       [0.93230966, 0.79562369, 0.20853073, 0.49594093],\n",
       "       [0.93611789, 0.28211553, 0.2173066 , 0.5175236 ],\n",
       "       [0.93992031, 0.97769973, 0.90918894, 0.80498561],\n",
       "       [0.94371696, 0.89028939, 0.56400414, 0.52026391],\n",
       "       [0.94750787, 0.75836745, 0.93861472, 0.41339858],\n",
       "       [0.9512931 , 0.56706505, 0.09818667, 0.48818065],\n",
       "       [0.95507266, 0.71932078, 0.69212501, 0.39661344],\n",
       "       [0.95884662, 0.9736258 , 0.41815739, 0.14013111],\n",
       "       [0.96261499, 0.11650392, 0.37874255, 0.45566072],\n",
       "       [0.96637783, 0.21380919, 0.88210025, 0.19478538],\n",
       "       [0.97013516, 0.35469442, 0.34897604, 0.19940823],\n",
       "       [0.97388703, 0.1086211 , 0.16851997, 0.53460814],\n",
       "       [0.97763346, 0.64918736, 0.89498866, 0.13717907],\n",
       "       [0.9813745 , 0.59820636, 0.8009177 , 0.19940823],\n",
       "       [0.98511019, 0.20820482, 0.15544668, 0.33829728],\n",
       "       [0.98884054, 0.42045108, 0.19354673, 0.24364955],\n",
       "       [0.99256561, 0.67893491, 0.31302405, 0.20841403],\n",
       "       [0.99628541, 0.96750355, 0.89498866, 0.77419677],\n",
       "       [1.        , 0.83254355, 0.29556649, 0.25510073]])"
      ]
     },
     "execution_count": 29,
     "metadata": {},
     "output_type": "execute_result"
    }
   ],
   "source": [
    "mms=MinMaxScaler()\n",
    "x=mms.fit_transform(x)\n",
    "x"
   ]
  },
  {
   "cell_type": "code",
   "execution_count": 30,
   "metadata": {},
   "outputs": [
    {
     "name": "stdout",
     "output_type": "stream",
     "text": [
      "At random state0, the training accuracy is :- 0.9132696317827832\n",
      "At random state0, the testing accuracy is :- 0.8811798295875324\n",
      "\n",
      "\n",
      "At random state1, the training accuracy is :- 0.9072105743626194\n",
      "At random state1, the testing accuracy is :- 0.8960231291085182\n",
      "\n",
      "\n",
      "At random state2, the training accuracy is :- 0.9183791537646105\n",
      "At random state2, the testing accuracy is :- 0.8125409856286658\n",
      "\n",
      "\n",
      "At random state3, the training accuracy is :- 0.9045196673318758\n",
      "At random state3, the testing accuracy is :- 0.9173593907346816\n",
      "\n",
      "\n",
      "At random state4, the training accuracy is :- 0.9058689018042966\n",
      "At random state4, the testing accuracy is :- 0.8995973503246707\n",
      "\n",
      "\n",
      "At random state5, the training accuracy is :- 0.9058210406242954\n",
      "At random state5, the testing accuracy is :- 0.910959169632754\n",
      "\n",
      "\n",
      "At random state6, the training accuracy is :- 0.9032285318233372\n",
      "At random state6, the testing accuracy is :- 0.9256522582734472\n",
      "\n",
      "\n",
      "At random state7, the training accuracy is :- 0.9024397997123862\n",
      "At random state7, the testing accuracy is :- 0.9229077207212311\n",
      "\n",
      "\n",
      "At random state8, the training accuracy is :- 0.9161701641837613\n",
      "At random state8, the testing accuracy is :- 0.8673699290624969\n",
      "\n",
      "\n",
      "At random state9, the training accuracy is :- 0.9009948162208954\n",
      "At random state9, the testing accuracy is :- 0.9315036665527836\n",
      "\n",
      "\n",
      "At random state10, the training accuracy is :- 0.9228959572038322\n",
      "At random state10, the testing accuracy is :- 0.8656389761729962\n",
      "\n",
      "\n",
      "At random state11, the training accuracy is :- 0.913382858558131\n",
      "At random state11, the testing accuracy is :- 0.8801465088792004\n",
      "\n",
      "\n",
      "At random state12, the training accuracy is :- 0.9032347370654114\n",
      "At random state12, the testing accuracy is :- 0.9171824281306025\n",
      "\n",
      "\n",
      "At random state13, the training accuracy is :- 0.897684242545495\n",
      "At random state13, the testing accuracy is :- 0.9395398598793021\n",
      "\n",
      "\n",
      "At random state14, the training accuracy is :- 0.9123609695655006\n",
      "At random state14, the testing accuracy is :- 0.8855905143721572\n",
      "\n",
      "\n",
      "At random state15, the training accuracy is :- 0.9106703681020444\n",
      "At random state15, the testing accuracy is :- 0.8917883456663133\n",
      "\n",
      "\n",
      "At random state16, the training accuracy is :- 0.9008810518785906\n",
      "At random state16, the testing accuracy is :- 0.9378206786441812\n",
      "\n",
      "\n",
      "At random state17, the training accuracy is :- 0.9143840581414919\n",
      "At random state17, the testing accuracy is :- 0.8694459458330454\n",
      "\n",
      "\n",
      "At random state18, the training accuracy is :- 0.914431893291321\n",
      "At random state18, the testing accuracy is :- 0.8851778650899063\n",
      "\n",
      "\n",
      "At random state19, the training accuracy is :- 0.9091654687062676\n",
      "At random state19, the testing accuracy is :- 0.8899029017408376\n",
      "\n",
      "\n",
      "At random state20, the training accuracy is :- 0.9041456149801351\n",
      "At random state20, the testing accuracy is :- 0.9139308488278131\n",
      "\n",
      "\n",
      "At random state21, the training accuracy is :- 0.906507074101123\n",
      "At random state21, the testing accuracy is :- 0.901981279276633\n",
      "\n",
      "\n",
      "At random state22, the training accuracy is :- 0.9010681915443437\n",
      "At random state22, the testing accuracy is :- 0.9257160108115468\n",
      "\n",
      "\n",
      "At random state23, the training accuracy is :- 0.9052739818310518\n",
      "At random state23, the testing accuracy is :- 0.9117352508446263\n",
      "\n",
      "\n",
      "At random state24, the training accuracy is :- 0.9047474810205388\n",
      "At random state24, the testing accuracy is :- 0.9157931428498863\n",
      "\n",
      "\n",
      "At random state25, the training accuracy is :- 0.9110242708846025\n",
      "At random state25, the testing accuracy is :- 0.8844023076626314\n",
      "\n",
      "\n",
      "At random state26, the training accuracy is :- 0.9101576523392791\n",
      "At random state26, the testing accuracy is :- 0.8805562651539772\n",
      "\n",
      "\n",
      "At random state27, the training accuracy is :- 0.9061827188021865\n",
      "At random state27, the testing accuracy is :- 0.9116652776181646\n",
      "\n",
      "\n",
      "At random state28, the training accuracy is :- 0.9075739872710372\n",
      "At random state28, the testing accuracy is :- 0.9031107257573356\n",
      "\n",
      "\n",
      "At random state29, the training accuracy is :- 0.9019786233104882\n",
      "At random state29, the testing accuracy is :- 0.917723703255509\n",
      "\n",
      "\n",
      "At random state30, the training accuracy is :- 0.9032621478744888\n",
      "At random state30, the testing accuracy is :- 0.9178747075097915\n",
      "\n",
      "\n",
      "At random state31, the training accuracy is :- 0.901173281793356\n",
      "At random state31, the testing accuracy is :- 0.9203996681091023\n",
      "\n",
      "\n",
      "At random state32, the training accuracy is :- 0.9185575279776446\n",
      "At random state32, the testing accuracy is :- 0.8354209876346677\n",
      "\n",
      "\n",
      "At random state33, the training accuracy is :- 0.9108246367907794\n",
      "At random state33, the testing accuracy is :- 0.8781105696198648\n",
      "\n",
      "\n",
      "At random state34, the training accuracy is :- 0.9117992025328823\n",
      "At random state34, the testing accuracy is :- 0.8839105964444821\n",
      "\n",
      "\n",
      "At random state35, the training accuracy is :- 0.9171689148059734\n",
      "At random state35, the testing accuracy is :- 0.8407056021397215\n",
      "\n",
      "\n",
      "At random state36, the training accuracy is :- 0.9018761047982873\n",
      "At random state36, the testing accuracy is :- 0.9260887217655472\n",
      "\n",
      "\n",
      "At random state37, the training accuracy is :- 0.9112640161494749\n",
      "At random state37, the testing accuracy is :- 0.8879860199479346\n",
      "\n",
      "\n",
      "At random state38, the training accuracy is :- 0.908074249458252\n",
      "At random state38, the testing accuracy is :- 0.89890884746614\n",
      "\n",
      "\n",
      "At random state39, the training accuracy is :- 0.914794013876986\n",
      "At random state39, the testing accuracy is :- 0.8614464226574904\n",
      "\n",
      "\n",
      "At random state40, the training accuracy is :- 0.9190000179478812\n",
      "At random state40, the testing accuracy is :- 0.8528724040858586\n",
      "\n",
      "\n",
      "At random state41, the training accuracy is :- 0.9102308935355805\n",
      "At random state41, the testing accuracy is :- 0.8936723878042366\n",
      "\n",
      "\n",
      "At random state42, the training accuracy is :- 0.9051780878831216\n",
      "At random state42, the testing accuracy is :- 0.9123293980646165\n",
      "\n",
      "\n",
      "At random state43, the training accuracy is :- 0.9005641579658616\n",
      "At random state43, the testing accuracy is :- 0.9314543195282885\n",
      "\n",
      "\n",
      "At random state44, the training accuracy is :- 0.9118615584650167\n",
      "At random state44, the testing accuracy is :- 0.8743069082801768\n",
      "\n",
      "\n",
      "At random state45, the training accuracy is :- 0.9059284580298861\n",
      "At random state45, the testing accuracy is :- 0.9066829243815311\n",
      "\n",
      "\n",
      "At random state46, the training accuracy is :- 0.9130562383306332\n",
      "At random state46, the testing accuracy is :- 0.8656551354795375\n",
      "\n",
      "\n",
      "At random state47, the training accuracy is :- 0.9079014935455618\n",
      "At random state47, the testing accuracy is :- 0.9004334770207769\n",
      "\n",
      "\n",
      "At random state48, the training accuracy is :- 0.9021885794850496\n",
      "At random state48, the testing accuracy is :- 0.9240795028547224\n",
      "\n",
      "\n",
      "At random state49, the training accuracy is :- 0.921393998793521\n",
      "At random state49, the testing accuracy is :- 0.8430516320854968\n",
      "\n",
      "\n",
      "At random state50, the training accuracy is :- 0.9120106271303888\n",
      "At random state50, the testing accuracy is :- 0.8536737101537686\n",
      "\n",
      "\n",
      "At random state51, the training accuracy is :- 0.9062089660509061\n",
      "At random state51, the testing accuracy is :- 0.9043004306655432\n",
      "\n",
      "\n",
      "At random state52, the training accuracy is :- 0.9161504336628441\n",
      "At random state52, the testing accuracy is :- 0.8775478867629363\n",
      "\n",
      "\n",
      "At random state53, the training accuracy is :- 0.8990001074842987\n",
      "At random state53, the testing accuracy is :- 0.9361611155194669\n",
      "\n",
      "\n",
      "At random state54, the training accuracy is :- 0.9015757632646249\n",
      "At random state54, the testing accuracy is :- 0.9299890052552362\n",
      "\n",
      "\n",
      "At random state55, the training accuracy is :- 0.9036115395900298\n",
      "At random state55, the testing accuracy is :- 0.916461861238147\n",
      "\n",
      "\n",
      "At random state56, the training accuracy is :- 0.9079061068592746\n",
      "At random state56, the testing accuracy is :- 0.9042139947758832\n",
      "\n",
      "\n",
      "At random state57, the training accuracy is :- 0.8953260598600097\n",
      "At random state57, the testing accuracy is :- 0.9430149310079687\n",
      "\n",
      "\n",
      "At random state58, the training accuracy is :- 0.920336090576601\n",
      "At random state58, the testing accuracy is :- 0.8605154500078007\n",
      "\n",
      "\n",
      "At random state59, the training accuracy is :- 0.903908516850038\n",
      "At random state59, the testing accuracy is :- 0.9184856839003348\n",
      "\n",
      "\n",
      "At random state60, the training accuracy is :- 0.9009570408725365\n",
      "At random state60, the testing accuracy is :- 0.9263832246824191\n",
      "\n",
      "\n",
      "At random state61, the training accuracy is :- 0.9096437534604057\n",
      "At random state61, the testing accuracy is :- 0.8884297176492025\n",
      "\n",
      "\n",
      "At random state62, the training accuracy is :- 0.9174957326268591\n",
      "At random state62, the testing accuracy is :- 0.8692820912184377\n",
      "\n",
      "\n",
      "At random state63, the training accuracy is :- 0.9042397705788163\n",
      "At random state63, the testing accuracy is :- 0.9206500916941086\n",
      "\n",
      "\n",
      "At random state64, the training accuracy is :- 0.907979881212321\n",
      "At random state64, the testing accuracy is :- 0.8957097087708777\n",
      "\n",
      "\n",
      "At random state65, the training accuracy is :- 0.9043141068011872\n",
      "At random state65, the testing accuracy is :- 0.9181170828823912\n",
      "\n",
      "\n",
      "At random state66, the training accuracy is :- 0.9102465424877649\n",
      "At random state66, the testing accuracy is :- 0.8921116640488114\n",
      "\n",
      "\n",
      "At random state67, the training accuracy is :- 0.9111578029497549\n",
      "At random state67, the testing accuracy is :- 0.887413330423063\n",
      "\n",
      "\n",
      "At random state68, the training accuracy is :- 0.9140022834299262\n",
      "At random state68, the testing accuracy is :- 0.8564709693563402\n",
      "\n",
      "\n",
      "At random state69, the training accuracy is :- 0.9017073555293748\n",
      "At random state69, the testing accuracy is :- 0.9162412982302383\n",
      "\n",
      "\n",
      "At random state70, the training accuracy is :- 0.9000572763771768\n",
      "At random state70, the testing accuracy is :- 0.9236239412531815\n",
      "\n",
      "\n",
      "At random state71, the training accuracy is :- 0.9189792060396489\n",
      "At random state71, the testing accuracy is :- 0.8598689497110676\n",
      "\n",
      "\n",
      "At random state72, the training accuracy is :- 0.9020799850151131\n",
      "At random state72, the testing accuracy is :- 0.9243229175966309\n",
      "\n",
      "\n",
      "At random state73, the training accuracy is :- 0.9139519011207577\n",
      "At random state73, the testing accuracy is :- 0.8710500126448034\n",
      "\n",
      "\n",
      "At random state74, the training accuracy is :- 0.9062419031879947\n",
      "At random state74, the testing accuracy is :- 0.8970659393286852\n",
      "\n",
      "\n",
      "At random state75, the training accuracy is :- 0.9043301318643516\n",
      "At random state75, the testing accuracy is :- 0.9186982729174766\n",
      "\n",
      "\n",
      "At random state76, the training accuracy is :- 0.9167938672322122\n",
      "At random state76, the testing accuracy is :- 0.7852746739966951\n",
      "\n",
      "\n",
      "At random state77, the training accuracy is :- 0.9009126848212656\n",
      "At random state77, the testing accuracy is :- 0.9291153778871188\n",
      "\n",
      "\n",
      "At random state78, the training accuracy is :- 0.9053316667363762\n",
      "At random state78, the testing accuracy is :- 0.9168509381445221\n",
      "\n",
      "\n",
      "At random state79, the training accuracy is :- 0.9061529328174028\n",
      "At random state79, the testing accuracy is :- 0.8999735561781363\n",
      "\n",
      "\n",
      "At random state80, the training accuracy is :- 0.9179362451777822\n",
      "At random state80, the testing accuracy is :- 0.8525754034142694\n",
      "\n",
      "\n",
      "At random state81, the training accuracy is :- 0.9078571841877306\n",
      "At random state81, the testing accuracy is :- 0.9006164078022162\n",
      "\n",
      "\n",
      "At random state82, the training accuracy is :- 0.9207776444173364\n",
      "At random state82, the testing accuracy is :- 0.8369293059818822\n",
      "\n",
      "\n",
      "At random state83, the training accuracy is :- 0.8958194452363919\n",
      "At random state83, the testing accuracy is :- 0.9427637251613521\n",
      "\n",
      "\n",
      "At random state84, the training accuracy is :- 0.9035648264364531\n",
      "At random state84, the testing accuracy is :- 0.9209481028323205\n",
      "\n",
      "\n",
      "At random state85, the training accuracy is :- 0.9129870455154501\n",
      "At random state85, the testing accuracy is :- 0.8816585972707109\n",
      "\n",
      "\n",
      "At random state86, the training accuracy is :- 0.9071408263708209\n",
      "At random state86, the testing accuracy is :- 0.9075874799574031\n",
      "\n",
      "\n",
      "At random state87, the training accuracy is :- 0.9140598670915698\n",
      "At random state87, the testing accuracy is :- 0.8245869815802915\n",
      "\n",
      "\n",
      "At random state88, the training accuracy is :- 0.9141269383327261\n",
      "At random state88, the testing accuracy is :- 0.8734371948937432\n",
      "\n",
      "\n",
      "At random state89, the training accuracy is :- 0.9122331362069449\n",
      "At random state89, the testing accuracy is :- 0.875231571976956\n",
      "\n",
      "\n",
      "At random state90, the training accuracy is :- 0.912101426127173\n",
      "At random state90, the testing accuracy is :- 0.8704926109760617\n",
      "\n",
      "\n",
      "At random state91, the training accuracy is :- 0.9000751298433732\n",
      "At random state91, the testing accuracy is :- 0.9054506536043775\n",
      "\n",
      "\n",
      "At random state92, the training accuracy is :- 0.898455729955919\n",
      "At random state92, the testing accuracy is :- 0.9314637529618984\n",
      "\n",
      "\n",
      "At random state93, the training accuracy is :- 0.9049642845352135\n",
      "At random state93, the testing accuracy is :- 0.9147000749798527\n",
      "\n",
      "\n",
      "At random state94, the training accuracy is :- 0.9159882717514434\n",
      "At random state94, the testing accuracy is :- 0.8763289744667536\n",
      "\n",
      "\n",
      "At random state95, the training accuracy is :- 0.9087651005801993\n",
      "At random state95, the testing accuracy is :- 0.8846928945161145\n",
      "\n",
      "\n",
      "At random state96, the training accuracy is :- 0.912550066034611\n",
      "At random state96, the testing accuracy is :- 0.8756515864067447\n",
      "\n",
      "\n",
      "At random state97, the training accuracy is :- 0.9006017215396461\n",
      "At random state97, the testing accuracy is :- 0.9209775286286078\n",
      "\n",
      "\n",
      "At random state98, the training accuracy is :- 0.8966424401943857\n",
      "At random state98, the testing accuracy is :- 0.9369525877705366\n",
      "\n",
      "\n",
      "At random state99, the training accuracy is :- 0.9011370121232017\n",
      "At random state99, the testing accuracy is :- 0.9288899375559658\n",
      "\n",
      "\n"
     ]
    }
   ],
   "source": [
    "for i in range(0,100):\n",
    "    x_train,x_test,y_train,y_test=train_test_split(x,y,test_size=0.2,random_state=i)\n",
    "    lr.fit(x_train,y_train)\n",
    "    pred_train=lr.predict(x_train)\n",
    "    pred_test=lr.predict(x_test)\n",
    "    print(f'At random state{i}, the training accuracy is :- {r2_score(y_train,pred_train)}')\n",
    "    print(f'At random state{i}, the testing accuracy is :- {r2_score(y_test,pred_test)}')\n",
    "    print('\\n')\n",
    "    \n",
    "    "
   ]
  },
  {
   "cell_type": "code",
   "execution_count": 31,
   "metadata": {},
   "outputs": [],
   "source": [
    " x_train,x_test,y_train,y_test=train_test_split(x,y,test_size=0.2,random_state=0)"
   ]
  },
  {
   "cell_type": "code",
   "execution_count": 32,
   "metadata": {},
   "outputs": [
    {
     "data": {
      "text/plain": [
       "LinearRegression()"
      ]
     },
     "execution_count": 32,
     "metadata": {},
     "output_type": "execute_result"
    }
   ],
   "source": [
    "lr.fit(x_train,y_train)"
   ]
  },
  {
   "cell_type": "code",
   "execution_count": 33,
   "metadata": {},
   "outputs": [],
   "source": [
    "pred_test=lr.predict(x_test)"
   ]
  },
  {
   "cell_type": "code",
   "execution_count": 34,
   "metadata": {},
   "outputs": [
    {
     "data": {
      "text/plain": [
       "array([10.80658937,  7.69738973,  6.34831231, 23.2402096 , 12.34627651,\n",
       "        6.50433967, 11.44701075, 15.00360237, 10.5962446 , 16.76495293,\n",
       "       22.33529444,  9.73282339, 10.22522114, 15.9834065 , 12.15417554,\n",
       "       13.11431766, 18.94365849,  9.13057076, 15.52782919, 17.72451484,\n",
       "       23.13534546,  9.31156929, 15.87255447, 13.1051246 ,  5.30565836,\n",
       "       15.57749387, 12.72612691, 20.40762278, 12.89173475,  9.10586664,\n",
       "       13.36139623, 20.91907812, 18.0182323 , 20.87544129,  6.45458882,\n",
       "        5.81430632,  8.34972174, 13.79732357, 14.45714522,  6.10926136])"
      ]
     },
     "execution_count": 34,
     "metadata": {},
     "output_type": "execute_result"
    }
   ],
   "source": [
    "pred_test"
   ]
  },
  {
   "cell_type": "code",
   "execution_count": 35,
   "metadata": {},
   "outputs": [
    {
     "name": "stdout",
     "output_type": "stream",
     "text": [
      "0.8811798295875324\n"
     ]
    }
   ],
   "source": [
    "print(r2_score(y_test,pred_test))"
   ]
  },
  {
   "cell_type": "markdown",
   "metadata": {},
   "source": [
    "# Cross Validation of the model"
   ]
  },
  {
   "cell_type": "code",
   "execution_count": 36,
   "metadata": {},
   "outputs": [
    {
     "name": "stdout",
     "output_type": "stream",
     "text": [
      "At cross fold 2 the cv score is 0.8870253267919482 and the accuracy score for training is -0.9585791444226586 and the accuracy score for testing is 0.8811798295875324\n",
      "\n",
      "\n",
      "At cross fold 3 the cv score is 0.8997214482695925 and the accuracy score for training is -0.9585791444226586 and the accuracy score for testing is 0.8811798295875324\n",
      "\n",
      "\n",
      "At cross fold 4 the cv score is 0.8956922491130904 and the accuracy score for training is -0.9585791444226586 and the accuracy score for testing is 0.8811798295875324\n",
      "\n",
      "\n",
      "At cross fold 5 the cv score is 0.8953473674194841 and the accuracy score for training is -0.9585791444226586 and the accuracy score for testing is 0.8811798295875324\n",
      "\n",
      "\n",
      "At cross fold 6 the cv score is 0.8989475213938137 and the accuracy score for training is -0.9585791444226586 and the accuracy score for testing is 0.8811798295875324\n",
      "\n",
      "\n",
      "At cross fold 7 the cv score is 0.8941723706624095 and the accuracy score for training is -0.9585791444226586 and the accuracy score for testing is 0.8811798295875324\n",
      "\n",
      "\n",
      "At cross fold 8 the cv score is 0.891699359391172 and the accuracy score for training is -0.9585791444226586 and the accuracy score for testing is 0.8811798295875324\n",
      "\n",
      "\n",
      "At cross fold 9 the cv score is 0.8933665603725781 and the accuracy score for training is -0.9585791444226586 and the accuracy score for testing is 0.8811798295875324\n",
      "\n",
      "\n"
     ]
    }
   ],
   "source": [
    "Train_accuracy=r2_score(y_train,pred_train)\n",
    "Test_accuracy=r2_score(y_test,pred_test)\n",
    "\n",
    "from sklearn.model_selection import cross_val_score\n",
    "for j in range(2,10):\n",
    "    cv_score=cross_val_score(lr,x,y,cv=j)\n",
    "    cv_mean=cv_score.mean()\n",
    "    print(f'At cross fold {j} the cv score is {cv_mean} and the accuracy score for training is {Train_accuracy} and the accuracy score for testing is {Test_accuracy}')\n",
    "    print('\\n')      "
   ]
  },
  {
   "cell_type": "code",
   "execution_count": 37,
   "metadata": {},
   "outputs": [
    {
     "data": {
      "image/png": "[encoded data removed]",
      "text/plain": [
       "<Figure size 576x432 with 1 Axes>"
      ]
     },
     "metadata": {
      "needs_background": "light"
     },
     "output_type": "display_data"
    }
   ],
   "source": [
    "import matplotlib.pyplot as plt \n",
    "plt.figure(figsize=(8,6))\n",
    "plt.scatter(x=y_test,y=pred_test,color='red')\n",
    "plt.plot(y_test,y_test,color='b')\n",
    "plt.xlabel('ActualSales',fontsize=14)\n",
    "plt.ylabel('PredictedSales',fontsize=14)\n",
    "plt.title('Linear Regression',fontsize=18)\n",
    "plt.show()"
   ]
  },
  {
   "cell_type": "markdown",
   "metadata": {},
   "source": [
    "# Regularization"
   ]
  },
  {
   "cell_type": "code",
   "execution_count": 38,
   "metadata": {},
   "outputs": [],
   "source": [
    "from sklearn.model_selection import GridSearchCV\n",
    "from sklearn.model_selection import cross_val_score\n",
    "import warnings\n",
    "warnings.filterwarnings('ignore')"
   ]
  },
  {
   "cell_type": "code",
   "execution_count": 39,
   "metadata": {},
   "outputs": [
    {
     "name": "stdout",
     "output_type": "stream",
     "text": [
      "{'alpha': 0.01, 'random_state': 0}\n"
     ]
    }
   ],
   "source": [
    "from sklearn.linear_model import Lasso\n",
    "parameters={'alpha':[.0001,.001,.01,1,10],'random_state':list(range(0,10))}\n",
    "ls=Lasso()\n",
    "clf=GridSearchCV(ls,parameters)\n",
    "clf.fit(x_train,y_train)\n",
    "\n",
    "print(clf.best_params_)"
   ]
  },
  {
   "cell_type": "code",
   "execution_count": 40,
   "metadata": {},
   "outputs": [
    {
     "data": {
      "text/plain": [
       "0.8819774442242416"
      ]
     },
     "execution_count": 40,
     "metadata": {},
     "output_type": "execute_result"
    }
   ],
   "source": [
    "ls=Lasso(alpha=0.01,random_state=0)\n",
    "ls.fit(x_train,y_train)\n",
    "ls.score(x_train,y_train)\n",
    "pred_ls= ls.predict(x_test)\n",
    "\n",
    "lss=r2_score(y_test,pred_ls)\n",
    "lss"
   ]
  },
  {
   "cell_type": "code",
   "execution_count": 41,
   "metadata": {},
   "outputs": [
    {
     "data": {
      "text/plain": [
       "0.8967315932403217"
      ]
     },
     "execution_count": 41,
     "metadata": {},
     "output_type": "execute_result"
    }
   ],
   "source": [
    "cv_score=cross_val_score(ls,x,y,cv=5)\n",
    "cv_mean=cv_score.mean()\n",
    "cv_mean"
   ]
  },
  {
   "cell_type": "markdown",
   "metadata": {},
   "source": [
    "# Ensemble Technique"
   ]
  },
  {
   "cell_type": "code",
   "execution_count": 42,
   "metadata": {},
   "outputs": [
    {
     "name": "stdout",
     "output_type": "stream",
     "text": [
      "{'criterion': 'mae', 'max_features': 'auto'}\n"
     ]
    }
   ],
   "source": [
    "from sklearn.model_selection import GridSearchCV\n",
    "from sklearn.ensemble import RandomForestRegressor\n",
    "\n",
    "parameters={'criterion':['mse','mae'],'max_features':['auto','sqrt','log2']}\n",
    "rf=RandomForestRegressor()\n",
    "clf=GridSearchCV(rf,parameters)\n",
    "clf.fit(x_train,y_train)\n",
    "print(clf.best_params_)"
   ]
  },
  {
   "cell_type": "code",
   "execution_count": 43,
   "metadata": {},
   "outputs": [
    {
     "name": "stdout",
     "output_type": "stream",
     "text": [
      "R2 score : 96.98851373882323\n",
      "Cross Val Score : 97.37904203247071\n"
     ]
    }
   ],
   "source": [
    "rf=RandomForestRegressor(criterion='mae',max_features='auto')\n",
    "rf.fit(x_train,y_train)\n",
    "rf.score(x_train,y_train)\n",
    "pred_decision = rf.predict(x_test)\n",
    "\n",
    "\n",
    "rfs=r2_score(y_test,pred_decision)\n",
    "print('R2 score :',rfs*100)\n",
    "\n",
    "rfscore= cross_val_score(rf,x,y,cv=5)\n",
    "rfc=rfscore.mean()\n",
    "print('Cross Val Score :',rfc*100)"
   ]
  },
  {
   "cell_type": "markdown",
   "metadata": {},
   "source": [
    "We are getting model accuracy aand cross validation both almost 97%, so our model is working extremely well"
   ]
  },
  {
   "cell_type": "markdown",
   "metadata": {},
   "source": [
    "# Saving the Model"
   ]
  },
  {
   "cell_type": "code",
   "execution_count": 44,
   "metadata": {},
   "outputs": [],
   "source": [
    "import pickle\n",
    "filename='sales.pk1'\n",
    "pickle.dump(rf, open(filename,'wb'))"
   ]
  },
  {
   "cell_type": "markdown",
   "metadata": {},
   "source": [
    "# Conclusion"
   ]
  },
  {
   "cell_type": "code",
   "execution_count": 45,
   "metadata": {},
   "outputs": [
    {
     "name": "stdout",
     "output_type": "stream",
     "text": [
      "0.9698851373882323\n"
     ]
    }
   ],
   "source": [
    "loaded_model=pickle.load(open('sales.pk1','rb'))\n",
    "result=loaded_model.score(x_test,y_test)\n",
    "print(result)"
   ]
  },
  {
   "cell_type": "code",
   "execution_count": 46,
   "metadata": {},
   "outputs": [
    {
     "data": {
      "text/html": [
       "<div>\n",
       "<style scoped>\n",
       "    .dataframe tbody tr th:only-of-type {\n",
       "        vertical-align: middle;\n",
       "    }\n",
       "\n",
       "    .dataframe tbody tr th {\n",
       "        vertical-align: top;\n",
       "    }\n",
       "\n",
       "    .dataframe thead th {\n",
       "        text-align: right;\n",
       "    }\n",
       "</style>\n",
       "<table border=\"1\" class=\"dataframe\">\n",
       "  <thead>\n",
       "    <tr style=\"text-align: right;\">\n",
       "      <th></th>\n",
       "      <th>0</th>\n",
       "      <th>1</th>\n",
       "      <th>2</th>\n",
       "      <th>3</th>\n",
       "      <th>4</th>\n",
       "      <th>5</th>\n",
       "      <th>6</th>\n",
       "      <th>7</th>\n",
       "      <th>8</th>\n",
       "      <th>9</th>\n",
       "      <th>...</th>\n",
       "      <th>30</th>\n",
       "      <th>31</th>\n",
       "      <th>32</th>\n",
       "      <th>33</th>\n",
       "      <th>34</th>\n",
       "      <th>35</th>\n",
       "      <th>36</th>\n",
       "      <th>37</th>\n",
       "      <th>38</th>\n",
       "      <th>39</th>\n",
       "    </tr>\n",
       "  </thead>\n",
       "  <tbody>\n",
       "    <tr>\n",
       "      <th>Predicted</th>\n",
       "      <td>10.587</td>\n",
       "      <td>9.645</td>\n",
       "      <td>9.334</td>\n",
       "      <td>24.714</td>\n",
       "      <td>12.431</td>\n",
       "      <td>9.15</td>\n",
       "      <td>7.169</td>\n",
       "      <td>12.612</td>\n",
       "      <td>8.81</td>\n",
       "      <td>16.343</td>\n",
       "      <td>...</td>\n",
       "      <td>11.82</td>\n",
       "      <td>22.743</td>\n",
       "      <td>15.15</td>\n",
       "      <td>22.669</td>\n",
       "      <td>6.4</td>\n",
       "      <td>6.926</td>\n",
       "      <td>10.111</td>\n",
       "      <td>14.374</td>\n",
       "      <td>12.428</td>\n",
       "      <td>7.253</td>\n",
       "    </tr>\n",
       "    <tr>\n",
       "      <th>Original</th>\n",
       "      <td>10.587</td>\n",
       "      <td>9.645</td>\n",
       "      <td>9.334</td>\n",
       "      <td>24.714</td>\n",
       "      <td>12.431</td>\n",
       "      <td>9.15</td>\n",
       "      <td>7.169</td>\n",
       "      <td>12.612</td>\n",
       "      <td>8.81</td>\n",
       "      <td>16.343</td>\n",
       "      <td>...</td>\n",
       "      <td>11.82</td>\n",
       "      <td>22.743</td>\n",
       "      <td>15.15</td>\n",
       "      <td>22.669</td>\n",
       "      <td>6.4</td>\n",
       "      <td>6.926</td>\n",
       "      <td>10.111</td>\n",
       "      <td>14.374</td>\n",
       "      <td>12.428</td>\n",
       "      <td>7.253</td>\n",
       "    </tr>\n",
       "  </tbody>\n",
       "</table>\n",
       "<p>2 rows × 40 columns</p>\n",
       "</div>"
      ],
      "text/plain": [
       "               0      1      2       3       4     5      6       7     8   \\\n",
       "Predicted  10.587  9.645  9.334  24.714  12.431  9.15  7.169  12.612  8.81   \n",
       "Original   10.587  9.645  9.334  24.714  12.431  9.15  7.169  12.612  8.81   \n",
       "\n",
       "               9   ...     30      31     32      33   34     35      36  \\\n",
       "Predicted  16.343  ...  11.82  22.743  15.15  22.669  6.4  6.926  10.111   \n",
       "Original   16.343  ...  11.82  22.743  15.15  22.669  6.4  6.926  10.111   \n",
       "\n",
       "               37      38     39  \n",
       "Predicted  14.374  12.428  7.253  \n",
       "Original   14.374  12.428  7.253  \n",
       "\n",
       "[2 rows x 40 columns]"
      ]
     },
     "execution_count": 46,
     "metadata": {},
     "output_type": "execute_result"
    }
   ],
   "source": [
    "conclusion=pd.DataFrame([loaded_model.predict(x_test)[:],pred_decision[:]],index=['Predicted','Original'])\n",
    "conclusion"
   ]
  },
  {
   "cell_type": "code",
   "execution_count": null,
   "metadata": {},
   "outputs": [],
   "source": []
  }
 ],
 "metadata": {
  "kernelspec": {
   "display_name": "Python 3",
   "language": "python",
   "name": "python3"
  },
  "language_info": {
   "codemirror_mode": {
    "name": "ipython",
    "version": 3
   },
   "file_extension": ".py",
   "mimetype": "text/x-python",
   "name": "python",
   "nbconvert_exporter": "python",
   "pygments_lexer": "ipython3",
   "version": "3.8.5"
  }
 },
 "nbformat": 4,
 "nbformat_minor": 4
}
